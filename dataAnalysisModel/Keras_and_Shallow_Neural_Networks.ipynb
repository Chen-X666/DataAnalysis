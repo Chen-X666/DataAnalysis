{
 "cells": [
  {
   "cell_type": "markdown",
   "metadata": {
    "id": "view-in-github",
    "pycharm": {
     "name": "#%% md\n"
    }
   },
   "source": [
    "<a href=\"https://colab.research.google.com/github/CBravoR/AdvancedAnalyticsLabs/blob/master/notebooks/python/Lab_7_Keras_and_Shallow_Neural_Networks.ipynb\" target=\"_parent\"><img src=\"https://colab.research.google.com/assets/colab-badge.svg\" alt=\"Open In Colab\"/></a>"
   ]
  },
  {
   "cell_type": "markdown",
   "metadata": {
    "id": "fIKCue9cvL2g",
    "pycharm": {
     "name": "#%% md\n"
    }
   },
   "source": [
    "# Introduction to Keras and Shallow Networks\n",
    "\n",
    "In this lab we will create our first neural network. It will be a shallow one, over a small dataset, so it is not a good example of a real-life problem where neural networks shine, but it will be a great way to understand the network architectures and what can we do with the model.\n",
    "\n",
    "In this lab, and in general in future examples, we will closely follow the book \"Deep Learning with Python\" by Chollet. The library has copies of the book.\n",
    "\n",
    "## Loading the data\n",
    "\n",
    "We will import one of the data examples from Keras itself: Prices in Boston.\n",
    "\n",
    "But first, what is Keras?\n",
    "\n",
    "[Keras](https://keras.io/) is a part of the Deep Learning stack, providing an easier way to create models. Deep Learning requires a set of very sophisticated optimizers and computational calculations, so it can be tricky to program directly. Luckily for us, we can simply use Keras to call the more sophisticated programs that will do the heavy lifting for us.\n",
    "\n",
    "Technically, Keras is a \"front-end\", while the calculation engine will be a \"backend\". Those backends will actually call a backend of their own which will communicate with the machine itself.\n",
    "\n",
    "First, we need to configure our backend. Google has created the excellent \"tensorflow\" backend, which is able to handle many sophisticated neural networks, and it can leverage the use of a GPU (a video card) for great speedups. It has also made available GPUs for us to play with, so\n",
    "\n",
    "If you want to configure your own environment in your PC, and have an Nvidia GPU at home or your laptop, please follow the following steps:\n",
    "\n",
    "1. Install Anaconda Python from [here](https://www.anaconda.com/distribution/).\n",
    "\n",
    "2. Follow the steps [here](https://towardsdatascience.com/tensorflow-gpu-installation-made-easy-use-conda-instead-of-pip-52e5249374bc) to configure your Python environment with tensorflow.\n",
    "\n",
    "We will continue using Google Colab's environment, so you don't need to do this now. What we need to do is to change our execution environment to a GPU one. For that:\n",
    "\n",
    "- Click Runtime\n",
    "- Select \"Change runtime type\"\n",
    "- In the menu, in the combo box below \"Hardware Accelerator\" select GPU.\n",
    "\n",
    "There is an even more powerful environment: TPU, but this requires a change in coding so we will omit it until the very last lab. Now we are ready to use Keras!"
   ]
  },
  {
   "cell_type": "markdown",
   "metadata": {
    "id": "uSkPcJdXxRq6",
    "pycharm": {
     "name": "#%% md\n"
    }
   },
   "source": [
    "## Keras Sequential API\n",
    "\n",
    "The easiest model that can be constructed in Keras is a sequential model. This is the typical neural network with one input layer, and one output layer, and a linear sequence of as many layers as we want in-between. The alternative is the Keras API, but for most applications a sequential model is enough. A tutorial for the sequencial API can be found [here](https://keras.io/getting-started/sequential-model-guide/).\n",
    "\n",
    "First let's load the data."
   ]
  },
  {
   "cell_type": "code",
   "execution_count": 1,
   "metadata": {
    "id": "v2T_RIZAxM5N",
    "colab": {
     "base_uri": "https://localhost:8080/"
    },
    "outputId": "0be9dd4d-feab-4d0a-d43a-85f5c0cfe67a",
    "pycharm": {
     "name": "#%%\n"
    }
   },
   "outputs": [
    {
     "output_type": "stream",
     "name": "stdout",
     "text": [
      "Downloading data from https://storage.googleapis.com/tensorflow/tf-keras-datasets/boston_housing.npz\n",
      "57026/57026 [==============================] - 0s 0us/step\n"
     ]
    }
   ],
   "source": [
    "import tensorflow.keras as keras\n",
    "from keras.datasets import boston_housing\n",
    "(train_data, train_targets), (test_data, test_targets) = boston_housing.load_data()"
   ]
  },
  {
   "cell_type": "code",
   "execution_count": 2,
   "metadata": {
    "colab": {
     "base_uri": "https://localhost:8080/"
    },
    "id": "8ITVlkklxaC2",
    "outputId": "1bd323a8-dc53-4202-93b8-01a14d8ec61d",
    "pycharm": {
     "name": "#%%\n"
    }
   },
   "outputs": [
    {
     "output_type": "stream",
     "name": "stdout",
     "text": [
      "Size of the training set:  (404, 13)\n",
      "Size of the test set:  (102, 13)\n"
     ]
    }
   ],
   "source": [
    "print('Size of the training set: ', train_data.shape)\n",
    "print('Size of the test set: ', test_data.shape)"
   ]
  },
  {
   "cell_type": "markdown",
   "metadata": {
    "id": "gE6g-ZAJxeqV",
    "pycharm": {
     "name": "#%% md\n"
    }
   },
   "source": [
    "This is a very small dataset, with only 404 cases for training, 102 for testing, 13 variables, and 1 target representing the median house price in Boston for the neighbourhood. The variables can be found [here](https://www.cs.toronto.edu/~delve/data/boston/bostonDetail.html).\n",
    "\n",
    "We have one problem: All variables are in different scales. The following code normalizes the data."
   ]
  },
  {
   "cell_type": "code",
   "execution_count": 3,
   "metadata": {
    "id": "69EPEHrgxdeV",
    "pycharm": {
     "name": "#%%\n"
    }
   },
   "outputs": [],
   "source": [
    "mean = train_data.mean(axis=0)\n",
    "train_data -= mean\n",
    "std = train_data.std(axis=0)\n",
    "train_data /= std\n",
    "test_data -= mean\n",
    "test_data /= std"
   ]
  },
  {
   "cell_type": "code",
   "source": [
    "train_data.mean(axis=0)"
   ],
   "metadata": {
    "id": "_7Z1egtE4VFn",
    "colab": {
     "base_uri": "https://localhost:8080/"
    },
    "outputId": "771b9900-6a6a-4510-d233-33e92dd6995d",
    "pycharm": {
     "name": "#%%\n"
    }
   },
   "execution_count": 4,
   "outputs": [
    {
     "output_type": "execute_result",
     "data": {
      "text/plain": [
       "array([-1.01541438e-16,  1.09923072e-17,  1.80933376e-15, -7.80453809e-17,\n",
       "       -5.25047552e-15,  6.43187374e-15,  2.98441140e-16,  4.94653823e-16,\n",
       "        1.12671149e-17, -1.05526149e-16,  2.36614908e-14,  5.96710525e-15,\n",
       "        6.13920356e-16])"
      ]
     },
     "metadata": {},
     "execution_count": 4
    }
   ]
  },
  {
   "cell_type": "markdown",
   "metadata": {
    "id": "tt5wsUVkxlEV",
    "pycharm": {
     "name": "#%% md\n"
    }
   },
   "source": [
    "Now we can create our model. We want to build the following architecture:\n",
    "\n",
    "![](https://drive.google.com/uc?export=view&id=1CfIe77tmoQrh4QEBFZtabYpiM3rdNOOs)"
   ]
  },
  {
   "cell_type": "markdown",
   "metadata": {
    "id": "PiLUwd5AyQIS",
    "pycharm": {
     "name": "#%% md\n"
    }
   },
   "source": [
    "This example uses the optimizer RMSProp, which is great for sequences. There are many optimizers, but as a rule of thumb, use test SGD, Adam, and RMSProp. **All of them solve the same backpropagation problem**, they are just tuned to certain data structures. A great comparison of different optimization algorithms can be found [here](http://ruder.io/optimizing-gradient-descent/index.html).\n",
    "\n",
    "To construct the model, we create a \"model\" object using Keras API. This is simply a container which will hold the general structure of our model, and we will add layers to it. Let's import the layers and the models helper functions."
   ]
  },
  {
   "cell_type": "code",
   "execution_count": 5,
   "metadata": {
    "id": "EkJ6t_3ZxjnV",
    "pycharm": {
     "name": "#%%\n"
    }
   },
   "outputs": [],
   "source": [
    "from keras import models\n",
    "from keras import layers"
   ]
  },
  {
   "cell_type": "markdown",
   "metadata": {
    "id": "9mx-CPSXyXW_",
    "pycharm": {
     "name": "#%% md\n"
    }
   },
   "source": [
    "Now, let's build an empty sequential model. Let's name it \"model\" (yeah, original)."
   ]
  },
  {
   "cell_type": "code",
   "execution_count": 6,
   "metadata": {
    "id": "ViRohkzIyWuO",
    "pycharm": {
     "name": "#%%\n"
    }
   },
   "outputs": [],
   "source": [
    "model = models.Sequential()"
   ]
  },
  {
   "cell_type": "markdown",
   "metadata": {
    "id": "XXNlVdGLycK6",
    "pycharm": {
     "name": "#%% md\n"
    }
   },
   "source": [
    "This is just an empty model, it does not have any layers! Let's add the first hidden layer. For each model object that we have, the function \"add\" will append a layer stacking one on top of the other.\n",
    "\n",
    "Remember, we want to add a fully-connected (Dense)layer, with 64 hidden neurons and ReLU activation function. We also need to tell this first layer what input to expect, we do this with the \"input_shape\" option. In this case, we are giving it a vector of size 13."
   ]
  },
  {
   "cell_type": "code",
   "execution_count": 7,
   "metadata": {
    "id": "aWJPwhAjybdO",
    "pycharm": {
     "name": "#%%\n"
    }
   },
   "outputs": [],
   "source": [
    "model.add(layers.Dense(64, # The number of neurons\n",
    "                      activation = 'relu', # The type of activation\n",
    "                      input_shape = (13,)  # The input shape. It is only necessary for the layer connected to the input.\n",
    "                      ))"
   ]
  },
  {
   "cell_type": "markdown",
   "metadata": {
    "id": "vAu5MP69ziE0",
    "pycharm": {
     "name": "#%% md\n"
    }
   },
   "source": [
    "You can ignore the warning: it will be fixed in the next version of Keras.\n",
    "\n",
    "Keras supports many activations. The list can be seen [here](https://keras.io/activations/). It also has many types of layers! The list [here](https://keras.io/layers/about-keras-layers/). Don't worry about this now, we will use many in the coming labs.\n",
    "\n",
    "Let's add one more Dense layer."
   ]
  },
  {
   "cell_type": "code",
   "execution_count": 8,
   "metadata": {
    "id": "mXOBFkbpynI2",
    "pycharm": {
     "name": "#%%\n"
    }
   },
   "outputs": [],
   "source": [
    "model.add(layers.Dense(64, activation = 'relu'))"
   ]
  },
  {
   "cell_type": "markdown",
   "metadata": {
    "id": "u7snmieJzrlc",
    "pycharm": {
     "name": "#%% md\n"
    }
   },
   "source": [
    "Note that now we didn't need to specify inputs and outputs, Keras will deduce them from the previous layer (thus the sequential structure!).\n",
    "\n",
    "Now, let's add the final output layer. This is simply a Dense layer, of size 1 and linear activation (**not ReLU!**). As this is a regression problem, we want outputs between $(-\\infty,\\infty)$."
   ]
  },
  {
   "cell_type": "code",
   "execution_count": 9,
   "metadata": {
    "id": "KVwQrNonzrC2",
    "pycharm": {
     "name": "#%%\n"
    }
   },
   "outputs": [],
   "source": [
    "model.add(layers.Dense(1, activation = 'linear'))"
   ]
  },
  {
   "cell_type": "markdown",
   "metadata": {
    "id": "6rtUlX-L1B1K",
    "pycharm": {
     "name": "#%% md\n"
    }
   },
   "source": [
    "With the model ready, the last step is to tell it how to train it. For this, we tell it to \"compile it\", and give it an optimizer. Note the error is the Minimum Square Error (MSE), which is used for regressions. We will see several more for different applications, but the list can be checked [here](https://keras.io/losses/)."
   ]
  },
  {
   "cell_type": "code",
   "execution_count": 10,
   "metadata": {
    "id": "tY6MJifv1C4t",
    "pycharm": {
     "name": "#%%\n"
    }
   },
   "outputs": [],
   "source": [
    "model.compile(optimizer = 'rmsprop', loss = 'mse')"
   ]
  },
  {
   "cell_type": "markdown",
   "metadata": {
    "id": "h1EQpZH31tp5",
    "pycharm": {
     "name": "#%% md\n"
    }
   },
   "source": [
    "The optimizer has a learning rate parameter that needs to be set. For this lab we will ignore it and just use the default, but we will dig much deeper into this in the future.\n",
    "\n",
    "We can take a look at the model structure by running the following command:"
   ]
  },
  {
   "cell_type": "code",
   "execution_count": 11,
   "metadata": {
    "colab": {
     "base_uri": "https://localhost:8080/"
    },
    "id": "WbZkR6FQ1wUD",
    "outputId": "3f524ed5-ec08-45aa-dc47-697c51ba4235",
    "pycharm": {
     "name": "#%%\n"
    }
   },
   "outputs": [
    {
     "output_type": "stream",
     "name": "stdout",
     "text": [
      "Model: \"sequential\"\n",
      "_________________________________________________________________\n",
      " Layer (type)                Output Shape              Param #   \n",
      "=================================================================\n",
      " dense (Dense)               (None, 64)                896       \n",
      "                                                                 \n",
      " dense_1 (Dense)             (None, 64)                4160      \n",
      "                                                                 \n",
      " dense_2 (Dense)             (None, 1)                 65        \n",
      "                                                                 \n",
      "=================================================================\n",
      "Total params: 5,121\n",
      "Trainable params: 5,121\n",
      "Non-trainable params: 0\n",
      "_________________________________________________________________\n"
     ]
    }
   ],
   "source": [
    "model.summary()"
   ]
  },
  {
   "cell_type": "markdown",
   "metadata": {
    "id": "oMN2cIa41y9Y",
    "pycharm": {
     "name": "#%% md\n"
    }
   },
   "source": [
    "Or we can show it much more nicely in a picture."
   ]
  },
  {
   "cell_type": "code",
   "execution_count": 12,
   "metadata": {
    "colab": {
     "base_uri": "https://localhost:8080/",
     "height": 219
    },
    "id": "PWJKLbk2z9H1",
    "outputId": "20db2ff2-2d6c-4eb9-ebe3-256a2a7da414",
    "pycharm": {
     "name": "#%%\n"
    }
   },
   "outputs": [
    {
     "output_type": "execute_result",
     "data": {
      "image/png": "[encoded data removed]",
      "text/plain": [
       "<IPython.core.display.Image object>"
      ]
     },
     "metadata": {
      "image/png": {
       "width": 153,
       "height": 202
      }
     },
     "execution_count": 12
    }
   ],
   "source": [
    "import matplotlib.pyplot as plt\n",
    "#from keras.utils import plot_model\n",
    "from keras.utils.vis_utils import plot_model\n",
    "from IPython.display import Image\n",
    "%matplotlib inline\n",
    "\n",
    "plot_model(model, show_shapes=True, show_layer_names=True, to_file='model.png')\n",
    "Image(retina=True, filename='model.png')"
   ]
  },
  {
   "cell_type": "markdown",
   "metadata": {
    "id": "m-Oq_5xt15Z6",
    "pycharm": {
     "name": "#%% md\n"
    }
   },
   "source": [
    "## Training and testing\n",
    "\n",
    "Now we can simply train the model! It follows the same fitting structure of scikit-learn, with a 'fit' function we will use to tell the model the data it needs to train on."
   ]
  },
  {
   "cell_type": "code",
   "execution_count": 13,
   "metadata": {
    "colab": {
     "base_uri": "https://localhost:8080/"
    },
    "id": "4JG6sKJ-0Ne9",
    "outputId": "a18b4345-4422-4ef3-f0eb-b87918bf343a",
    "pycharm": {
     "name": "#%%\n"
    }
   },
   "outputs": [
    {
     "output_type": "stream",
     "name": "stdout",
     "text": [
      "Epoch 1/100\n",
      "3/3 [==============================] - 7s 143ms/step - loss: 572.4249 - val_loss: 682.1392\n",
      "Epoch 2/100\n",
      "3/3 [==============================] - 0s 23ms/step - loss: 538.1252 - val_loss: 655.1079\n",
      "Epoch 3/100\n",
      "3/3 [==============================] - 0s 21ms/step - loss: 514.4905 - val_loss: 632.5316\n",
      "Epoch 4/100\n",
      "3/3 [==============================] - 0s 30ms/step - loss: 494.0130 - val_loss: 610.0558\n",
      "Epoch 5/100\n",
      "3/3 [==============================] - 0s 24ms/step - loss: 473.7467 - val_loss: 587.3657\n",
      "Epoch 6/100\n",
      "3/3 [==============================] - 0s 21ms/step - loss: 453.3416 - val_loss: 564.1447\n",
      "Epoch 7/100\n",
      "3/3 [==============================] - 0s 24ms/step - loss: 432.7806 - val_loss: 540.8522\n",
      "Epoch 8/100\n",
      "3/3 [==============================] - 0s 20ms/step - loss: 412.2001 - val_loss: 517.5682\n",
      "Epoch 9/100\n",
      "3/3 [==============================] - 0s 21ms/step - loss: 391.4108 - val_loss: 492.7770\n",
      "Epoch 10/100\n",
      "3/3 [==============================] - 0s 27ms/step - loss: 369.9061 - val_loss: 468.4384\n",
      "Epoch 11/100\n",
      "3/3 [==============================] - 0s 23ms/step - loss: 348.5605 - val_loss: 443.0638\n",
      "Epoch 12/100\n",
      "3/3 [==============================] - 0s 22ms/step - loss: 326.5871 - val_loss: 416.4093\n",
      "Epoch 13/100\n",
      "3/3 [==============================] - 0s 25ms/step - loss: 304.1607 - val_loss: 390.4887\n",
      "Epoch 14/100\n",
      "3/3 [==============================] - 0s 26ms/step - loss: 282.5616 - val_loss: 365.3705\n",
      "Epoch 15/100\n",
      "3/3 [==============================] - 0s 22ms/step - loss: 261.3648 - val_loss: 339.5316\n",
      "Epoch 16/100\n",
      "3/3 [==============================] - 0s 28ms/step - loss: 240.0735 - val_loss: 314.9019\n",
      "Epoch 17/100\n",
      "3/3 [==============================] - 0s 21ms/step - loss: 219.7121 - val_loss: 289.0467\n",
      "Epoch 18/100\n",
      "3/3 [==============================] - 0s 22ms/step - loss: 199.2014 - val_loss: 266.4982\n",
      "Epoch 19/100\n",
      "3/3 [==============================] - 0s 22ms/step - loss: 181.1896 - val_loss: 244.3229\n",
      "Epoch 20/100\n",
      "3/3 [==============================] - 0s 21ms/step - loss: 163.8175 - val_loss: 224.3966\n",
      "Epoch 21/100\n",
      "3/3 [==============================] - 0s 15ms/step - loss: 148.0978 - val_loss: 204.6166\n",
      "Epoch 22/100\n",
      "3/3 [==============================] - 0s 14ms/step - loss: 132.8822 - val_loss: 186.7963\n",
      "Epoch 23/100\n",
      "3/3 [==============================] - 0s 14ms/step - loss: 119.0270 - val_loss: 169.3241\n",
      "Epoch 24/100\n",
      "3/3 [==============================] - 0s 17ms/step - loss: 106.0436 - val_loss: 153.8994\n",
      "Epoch 25/100\n",
      "3/3 [==============================] - 0s 15ms/step - loss: 94.7417 - val_loss: 140.4182\n",
      "Epoch 26/100\n",
      "3/3 [==============================] - 0s 15ms/step - loss: 85.0200 - val_loss: 129.0072\n",
      "Epoch 27/100\n",
      "3/3 [==============================] - 0s 16ms/step - loss: 77.1483 - val_loss: 119.5897\n",
      "Epoch 28/100\n",
      "3/3 [==============================] - 0s 15ms/step - loss: 70.5569 - val_loss: 111.2268\n",
      "Epoch 29/100\n",
      "3/3 [==============================] - 0s 16ms/step - loss: 64.5658 - val_loss: 102.5190\n",
      "Epoch 30/100\n",
      "3/3 [==============================] - 0s 15ms/step - loss: 59.0252 - val_loss: 94.9230\n",
      "Epoch 31/100\n",
      "3/3 [==============================] - 0s 14ms/step - loss: 54.2369 - val_loss: 88.3730\n",
      "Epoch 32/100\n",
      "3/3 [==============================] - 0s 15ms/step - loss: 50.1425 - val_loss: 82.8258\n",
      "Epoch 33/100\n",
      "3/3 [==============================] - 0s 20ms/step - loss: 46.3598 - val_loss: 77.4405\n",
      "Epoch 34/100\n",
      "3/3 [==============================] - 0s 15ms/step - loss: 42.9656 - val_loss: 72.2609\n",
      "Epoch 35/100\n",
      "3/3 [==============================] - 0s 15ms/step - loss: 40.5552 - val_loss: 68.5971\n",
      "Epoch 36/100\n",
      "3/3 [==============================] - 0s 15ms/step - loss: 37.8214 - val_loss: 64.6767\n",
      "Epoch 37/100\n",
      "3/3 [==============================] - 0s 18ms/step - loss: 35.5907 - val_loss: 59.7693\n",
      "Epoch 38/100\n",
      "3/3 [==============================] - 0s 15ms/step - loss: 33.3979 - val_loss: 56.1951\n",
      "Epoch 39/100\n",
      "3/3 [==============================] - 0s 18ms/step - loss: 31.6561 - val_loss: 53.8382\n",
      "Epoch 40/100\n",
      "3/3 [==============================] - 0s 16ms/step - loss: 30.0461 - val_loss: 50.4762\n",
      "Epoch 41/100\n",
      "3/3 [==============================] - 0s 15ms/step - loss: 28.4492 - val_loss: 47.9123\n",
      "Epoch 42/100\n",
      "3/3 [==============================] - 0s 17ms/step - loss: 27.0665 - val_loss: 45.6721\n",
      "Epoch 43/100\n",
      "3/3 [==============================] - 0s 15ms/step - loss: 26.2014 - val_loss: 43.3045\n",
      "Epoch 44/100\n",
      "3/3 [==============================] - 0s 15ms/step - loss: 24.9738 - val_loss: 41.1645\n",
      "Epoch 45/100\n",
      "3/3 [==============================] - 0s 15ms/step - loss: 24.1158 - val_loss: 39.3488\n",
      "Epoch 46/100\n",
      "3/3 [==============================] - 0s 16ms/step - loss: 23.5666 - val_loss: 38.5610\n",
      "Epoch 47/100\n",
      "3/3 [==============================] - 0s 19ms/step - loss: 22.5524 - val_loss: 37.1449\n",
      "Epoch 48/100\n",
      "3/3 [==============================] - 0s 15ms/step - loss: 21.9349 - val_loss: 35.5938\n",
      "Epoch 49/100\n",
      "3/3 [==============================] - 0s 15ms/step - loss: 21.4445 - val_loss: 35.1280\n",
      "Epoch 50/100\n",
      "3/3 [==============================] - 0s 15ms/step - loss: 20.9022 - val_loss: 34.0502\n",
      "Epoch 51/100\n",
      "3/3 [==============================] - 0s 15ms/step - loss: 20.3578 - val_loss: 33.8242\n",
      "Epoch 52/100\n",
      "3/3 [==============================] - 0s 16ms/step - loss: 19.9515 - val_loss: 32.7944\n",
      "Epoch 53/100\n",
      "3/3 [==============================] - 0s 15ms/step - loss: 19.3715 - val_loss: 31.1614\n",
      "Epoch 54/100\n",
      "3/3 [==============================] - 0s 15ms/step - loss: 18.8466 - val_loss: 30.3508\n",
      "Epoch 55/100\n",
      "3/3 [==============================] - 0s 15ms/step - loss: 18.6046 - val_loss: 29.7420\n",
      "Epoch 56/100\n",
      "3/3 [==============================] - 0s 19ms/step - loss: 18.0574 - val_loss: 28.0327\n",
      "Epoch 57/100\n",
      "3/3 [==============================] - 0s 16ms/step - loss: 17.7838 - val_loss: 28.6091\n",
      "Epoch 58/100\n",
      "3/3 [==============================] - 0s 15ms/step - loss: 17.6360 - val_loss: 26.9578\n",
      "Epoch 59/100\n",
      "3/3 [==============================] - 0s 15ms/step - loss: 16.8822 - val_loss: 26.2503\n",
      "Epoch 60/100\n",
      "3/3 [==============================] - 0s 18ms/step - loss: 16.5660 - val_loss: 25.8003\n",
      "Epoch 61/100\n",
      "3/3 [==============================] - 0s 17ms/step - loss: 16.1356 - val_loss: 25.3244\n",
      "Epoch 62/100\n",
      "3/3 [==============================] - 0s 16ms/step - loss: 15.7536 - val_loss: 25.4363\n",
      "Epoch 63/100\n",
      "3/3 [==============================] - 0s 20ms/step - loss: 16.0147 - val_loss: 24.9307\n",
      "Epoch 64/100\n",
      "3/3 [==============================] - 0s 18ms/step - loss: 15.5432 - val_loss: 24.0888\n",
      "Epoch 65/100\n",
      "3/3 [==============================] - 0s 16ms/step - loss: 14.8668 - val_loss: 23.4141\n",
      "Epoch 66/100\n",
      "3/3 [==============================] - 0s 16ms/step - loss: 14.7487 - val_loss: 23.3580\n",
      "Epoch 67/100\n",
      "3/3 [==============================] - 0s 16ms/step - loss: 14.3910 - val_loss: 22.1636\n",
      "Epoch 68/100\n",
      "3/3 [==============================] - 0s 19ms/step - loss: 14.0498 - val_loss: 21.0701\n",
      "Epoch 69/100\n",
      "3/3 [==============================] - 0s 17ms/step - loss: 14.0787 - val_loss: 21.0847\n",
      "Epoch 70/100\n",
      "3/3 [==============================] - 0s 15ms/step - loss: 13.9095 - val_loss: 21.3248\n",
      "Epoch 71/100\n",
      "3/3 [==============================] - 0s 15ms/step - loss: 13.5292 - val_loss: 20.4130\n",
      "Epoch 72/100\n",
      "3/3 [==============================] - 0s 15ms/step - loss: 13.1315 - val_loss: 20.0110\n",
      "Epoch 73/100\n",
      "3/3 [==============================] - 0s 15ms/step - loss: 12.8318 - val_loss: 19.9144\n",
      "Epoch 74/100\n",
      "3/3 [==============================] - 0s 16ms/step - loss: 12.6285 - val_loss: 19.4857\n",
      "Epoch 75/100\n",
      "3/3 [==============================] - 0s 16ms/step - loss: 12.5808 - val_loss: 18.8214\n",
      "Epoch 76/100\n",
      "3/3 [==============================] - 0s 15ms/step - loss: 12.2772 - val_loss: 18.6172\n",
      "Epoch 77/100\n",
      "3/3 [==============================] - 0s 15ms/step - loss: 11.9812 - val_loss: 18.2357\n",
      "Epoch 78/100\n",
      "3/3 [==============================] - 0s 16ms/step - loss: 11.9232 - val_loss: 17.8659\n",
      "Epoch 79/100\n",
      "3/3 [==============================] - 0s 15ms/step - loss: 11.6178 - val_loss: 18.9770\n",
      "Epoch 80/100\n",
      "3/3 [==============================] - 0s 15ms/step - loss: 12.2267 - val_loss: 18.0978\n",
      "Epoch 81/100\n",
      "3/3 [==============================] - 0s 15ms/step - loss: 11.4768 - val_loss: 17.0264\n",
      "Epoch 82/100\n",
      "3/3 [==============================] - 0s 15ms/step - loss: 11.1845 - val_loss: 17.8715\n",
      "Epoch 83/100\n",
      "3/3 [==============================] - 0s 19ms/step - loss: 11.3005 - val_loss: 17.5677\n",
      "Epoch 84/100\n",
      "3/3 [==============================] - 0s 17ms/step - loss: 11.0085 - val_loss: 16.9204\n",
      "Epoch 85/100\n",
      "3/3 [==============================] - 0s 15ms/step - loss: 10.8280 - val_loss: 17.0735\n",
      "Epoch 86/100\n",
      "3/3 [==============================] - 0s 16ms/step - loss: 10.9839 - val_loss: 16.4487\n",
      "Epoch 87/100\n",
      "3/3 [==============================] - 0s 20ms/step - loss: 10.5651 - val_loss: 15.9389\n",
      "Epoch 88/100\n",
      "3/3 [==============================] - 0s 18ms/step - loss: 10.4534 - val_loss: 15.7658\n",
      "Epoch 89/100\n",
      "3/3 [==============================] - 0s 16ms/step - loss: 10.3671 - val_loss: 15.5495\n",
      "Epoch 90/100\n",
      "3/3 [==============================] - 0s 16ms/step - loss: 10.4748 - val_loss: 15.9283\n",
      "Epoch 91/100\n",
      "3/3 [==============================] - 0s 16ms/step - loss: 10.1794 - val_loss: 15.9144\n",
      "Epoch 92/100\n",
      "3/3 [==============================] - 0s 19ms/step - loss: 10.4844 - val_loss: 15.2043\n",
      "Epoch 93/100\n",
      "3/3 [==============================] - 0s 15ms/step - loss: 9.8396 - val_loss: 14.9507\n",
      "Epoch 94/100\n",
      "3/3 [==============================] - 0s 16ms/step - loss: 9.7336 - val_loss: 15.4008\n",
      "Epoch 95/100\n",
      "3/3 [==============================] - 0s 15ms/step - loss: 9.8682 - val_loss: 15.0938\n",
      "Epoch 96/100\n",
      "3/3 [==============================] - 0s 15ms/step - loss: 9.6778 - val_loss: 15.2390\n",
      "Epoch 97/100\n",
      "3/3 [==============================] - 0s 17ms/step - loss: 9.6687 - val_loss: 14.5052\n",
      "Epoch 98/100\n",
      "3/3 [==============================] - 0s 15ms/step - loss: 9.3431 - val_loss: 14.4487\n",
      "Epoch 99/100\n",
      "3/3 [==============================] - 0s 15ms/step - loss: 9.3930 - val_loss: 14.6257\n",
      "Epoch 100/100\n",
      "3/3 [==============================] - 0s 15ms/step - loss: 9.3446 - val_loss: 14.3895\n"
     ]
    }
   ],
   "source": [
    "history = model.fit(train_data, train_targets, epochs = 100, batch_size=128, \n",
    "                    validation_split= 0.25)"
   ]
  },
  {
   "cell_type": "markdown",
   "metadata": {
    "id": "xRD9GUll2R-n",
    "pycharm": {
     "name": "#%% md\n"
    }
   },
   "source": [
    "Done! Let's examine the command in detail:\n",
    "\n",
    "- The first two arguments give us the traning data and the training targets. These should always be Numpy arrays, or other compatible tensors.\n",
    "\n",
    "- epochs: Neural networks are trained using batches of data, which are shuffled and then fed back to the network. Each full pass of the data is called an \"Epoch\". We will use the number of epochs to control overfitting with the validation sample.\n",
    "\n",
    "- batch_size: For big data models, it is not possible to train the model with all data at once, as we could be done here. The reason for that is that the model may not fit in memory, or that we need to stream data from an online source. The traditional way is to train in \"batches\". Recommended batches size are between 32 (for big applications) to 256 (for small problems). In general, we want to keep it small to create \"diversity\" in the data.\n",
    "\n",
    "- validation_split: As this model is *very* prone to overfitting, we need to control it somehow. The validation data will help us with this. We will stop training as soon as we start worsening the validation sample. That will be the cut for the epochs in later iterations. We use a 25% split for validation cases. Another alternative is to provide a new set of data to use as validation data, we would use  \"validation_data = (val_train, val_target)\" instead of this split commmand.\n",
    "\n",
    "\n",
    "The output we currently have gives us a training loss and a validation loss. This is measured in MSE. But, should we keep training? Are we making any gains?\n",
    "\n",
    "The following code allows us to visualize the regression metrics."
   ]
  },
  {
   "cell_type": "code",
   "execution_count": 14,
   "metadata": {
    "colab": {
     "base_uri": "https://localhost:8080/",
     "height": 295
    },
    "id": "wcArY46A2FwM",
    "outputId": "4d18a834-52c5-4a0a-d665-f44133b4232f",
    "pycharm": {
     "name": "#%%\n"
    }
   },
   "outputs": [
    {
     "output_type": "display_data",
     "data": {
      "text/plain": [
       "<Figure size 432x288 with 1 Axes>"
      ],
      "image/png": "[encoded data removed]"
     },
     "metadata": {
      "needs_background": "light"
     }
    }
   ],
   "source": [
    "loss = history.history['loss']\n",
    "val_loss = history.history['val_loss']\n",
    "epochs = range(1, len(loss) + 1)\n",
    "plt.plot(epochs, loss, 'bo', label='Training loss')\n",
    "plt.plot(epochs, val_loss, 'b', label='Validation loss')\n",
    "plt.title('Training and validation loss')\n",
    "plt.xlabel('Epochs')\n",
    "plt.ylabel('Loss')\n",
    "plt.legend()\n",
    "plt.show()"
   ]
  },
  {
   "cell_type": "markdown",
   "metadata": {
    "id": "lNC0fgei2aWp",
    "pycharm": {
     "name": "#%% md\n"
    }
   },
   "source": [
    "Is it worth it to retrain? If you run the \"fit\" command again, Keras will optimize *over the parameters already found*, so we would actually be improving the result over the training set (but potentially worsening it over the validation set!). The goal is to find a number of epochs that gives us the best result. \n",
    "\n",
    "In our case: the validation loss and the training loss are still going down! We can continue training. Let's give it 100 more epochs."
   ]
  },
  {
   "cell_type": "code",
   "execution_count": 15,
   "metadata": {
    "colab": {
     "base_uri": "https://localhost:8080/"
    },
    "id": "s4k-1fca2Y_l",
    "outputId": "4ef1216b-ba20-4595-83fe-3257f9006248",
    "pycharm": {
     "name": "#%%\n"
    }
   },
   "outputs": [
    {
     "output_type": "stream",
     "name": "stdout",
     "text": [
      "Epoch 1/100\n",
      "3/3 [==============================] - 0s 35ms/step - loss: 9.3482 - val_loss: 14.3115\n",
      "Epoch 2/100\n",
      "3/3 [==============================] - 0s 15ms/step - loss: 9.1311 - val_loss: 14.4116\n",
      "Epoch 3/100\n",
      "3/3 [==============================] - 0s 19ms/step - loss: 9.0730 - val_loss: 14.1257\n",
      "Epoch 4/100\n",
      "3/3 [==============================] - 0s 16ms/step - loss: 9.0725 - val_loss: 14.6874\n",
      "Epoch 5/100\n",
      "3/3 [==============================] - 0s 15ms/step - loss: 9.0627 - val_loss: 13.5733\n",
      "Epoch 6/100\n",
      "3/3 [==============================] - 0s 15ms/step - loss: 8.8463 - val_loss: 13.6198\n",
      "Epoch 7/100\n",
      "3/3 [==============================] - 0s 15ms/step - loss: 8.7880 - val_loss: 13.9331\n",
      "Epoch 8/100\n",
      "3/3 [==============================] - 0s 17ms/step - loss: 8.7635 - val_loss: 13.0504\n",
      "Epoch 9/100\n",
      "3/3 [==============================] - 0s 15ms/step - loss: 8.6595 - val_loss: 13.3556\n",
      "Epoch 10/100\n",
      "3/3 [==============================] - 0s 15ms/step - loss: 8.6213 - val_loss: 12.9279\n",
      "Epoch 11/100\n",
      "3/3 [==============================] - 0s 19ms/step - loss: 8.7529 - val_loss: 12.9293\n",
      "Epoch 12/100\n",
      "3/3 [==============================] - 0s 16ms/step - loss: 8.5971 - val_loss: 12.9514\n",
      "Epoch 13/100\n",
      "3/3 [==============================] - 0s 15ms/step - loss: 8.5275 - val_loss: 13.1943\n",
      "Epoch 14/100\n",
      "3/3 [==============================] - 0s 15ms/step - loss: 8.4620 - val_loss: 13.3816\n",
      "Epoch 15/100\n",
      "3/3 [==============================] - 0s 15ms/step - loss: 8.4403 - val_loss: 13.1981\n",
      "Epoch 16/100\n",
      "3/3 [==============================] - 0s 15ms/step - loss: 8.2440 - val_loss: 12.7027\n",
      "Epoch 17/100\n",
      "3/3 [==============================] - 0s 19ms/step - loss: 8.2823 - val_loss: 13.0317\n",
      "Epoch 18/100\n",
      "3/3 [==============================] - 0s 15ms/step - loss: 8.2059 - val_loss: 13.0507\n",
      "Epoch 19/100\n",
      "3/3 [==============================] - 0s 17ms/step - loss: 8.1722 - val_loss: 12.9651\n",
      "Epoch 20/100\n",
      "3/3 [==============================] - 0s 15ms/step - loss: 8.0524 - val_loss: 12.5919\n",
      "Epoch 21/100\n",
      "3/3 [==============================] - 0s 15ms/step - loss: 8.1586 - val_loss: 13.0400\n",
      "Epoch 22/100\n",
      "3/3 [==============================] - 0s 17ms/step - loss: 8.5981 - val_loss: 12.7628\n",
      "Epoch 23/100\n",
      "3/3 [==============================] - 0s 15ms/step - loss: 8.0703 - val_loss: 12.6284\n",
      "Epoch 24/100\n",
      "3/3 [==============================] - 0s 17ms/step - loss: 7.9326 - val_loss: 12.6290\n",
      "Epoch 25/100\n",
      "3/3 [==============================] - 0s 15ms/step - loss: 8.0551 - val_loss: 12.6041\n",
      "Epoch 26/100\n",
      "3/3 [==============================] - 0s 19ms/step - loss: 7.8224 - val_loss: 12.4939\n",
      "Epoch 27/100\n",
      "3/3 [==============================] - 0s 15ms/step - loss: 7.8793 - val_loss: 12.5749\n",
      "Epoch 28/100\n",
      "3/3 [==============================] - 0s 17ms/step - loss: 7.8832 - val_loss: 12.9220\n",
      "Epoch 29/100\n",
      "3/3 [==============================] - 0s 15ms/step - loss: 7.9831 - val_loss: 12.8617\n",
      "Epoch 30/100\n",
      "3/3 [==============================] - 0s 15ms/step - loss: 8.0240 - val_loss: 12.2820\n",
      "Epoch 31/100\n",
      "3/3 [==============================] - 0s 15ms/step - loss: 7.7055 - val_loss: 12.5885\n",
      "Epoch 32/100\n",
      "3/3 [==============================] - 0s 21ms/step - loss: 7.8447 - val_loss: 12.5510\n",
      "Epoch 33/100\n",
      "3/3 [==============================] - 0s 22ms/step - loss: 7.7180 - val_loss: 12.5166\n",
      "Epoch 34/100\n",
      "3/3 [==============================] - 0s 16ms/step - loss: 7.6824 - val_loss: 12.4384\n",
      "Epoch 35/100\n",
      "3/3 [==============================] - 0s 17ms/step - loss: 7.6606 - val_loss: 12.4101\n",
      "Epoch 36/100\n",
      "3/3 [==============================] - 0s 25ms/step - loss: 7.5925 - val_loss: 12.5624\n",
      "Epoch 37/100\n",
      "3/3 [==============================] - 0s 15ms/step - loss: 7.6730 - val_loss: 12.0941\n",
      "Epoch 38/100\n",
      "3/3 [==============================] - 0s 16ms/step - loss: 7.6207 - val_loss: 12.3507\n",
      "Epoch 39/100\n",
      "3/3 [==============================] - 0s 15ms/step - loss: 7.4545 - val_loss: 11.9934\n",
      "Epoch 40/100\n",
      "3/3 [==============================] - 0s 15ms/step - loss: 7.3898 - val_loss: 12.2344\n",
      "Epoch 41/100\n",
      "3/3 [==============================] - 0s 17ms/step - loss: 7.4255 - val_loss: 12.9816\n",
      "Epoch 42/100\n",
      "3/3 [==============================] - 0s 15ms/step - loss: 7.5877 - val_loss: 12.4580\n",
      "Epoch 43/100\n",
      "3/3 [==============================] - 0s 15ms/step - loss: 7.2593 - val_loss: 12.3583\n",
      "Epoch 44/100\n",
      "3/3 [==============================] - 0s 16ms/step - loss: 7.5332 - val_loss: 12.8412\n",
      "Epoch 45/100\n",
      "3/3 [==============================] - 0s 15ms/step - loss: 7.5550 - val_loss: 12.4340\n",
      "Epoch 46/100\n",
      "3/3 [==============================] - 0s 18ms/step - loss: 7.2311 - val_loss: 12.2431\n",
      "Epoch 47/100\n",
      "3/3 [==============================] - 0s 24ms/step - loss: 7.1762 - val_loss: 11.9372\n",
      "Epoch 48/100\n",
      "3/3 [==============================] - 0s 16ms/step - loss: 7.1873 - val_loss: 12.2241\n",
      "Epoch 49/100\n",
      "3/3 [==============================] - 0s 15ms/step - loss: 7.1696 - val_loss: 12.3193\n",
      "Epoch 50/100\n",
      "3/3 [==============================] - 0s 19ms/step - loss: 7.2315 - val_loss: 12.0017\n",
      "Epoch 51/100\n",
      "3/3 [==============================] - 0s 15ms/step - loss: 7.0893 - val_loss: 13.2382\n",
      "Epoch 52/100\n",
      "3/3 [==============================] - 0s 15ms/step - loss: 7.4271 - val_loss: 12.3196\n",
      "Epoch 53/100\n",
      "3/3 [==============================] - 0s 15ms/step - loss: 7.2281 - val_loss: 11.8469\n",
      "Epoch 54/100\n",
      "3/3 [==============================] - 0s 25ms/step - loss: 7.2375 - val_loss: 11.9136\n",
      "Epoch 55/100\n",
      "3/3 [==============================] - 0s 15ms/step - loss: 7.0229 - val_loss: 11.8997\n",
      "Epoch 56/100\n",
      "3/3 [==============================] - 0s 15ms/step - loss: 6.9244 - val_loss: 11.8955\n",
      "Epoch 57/100\n",
      "3/3 [==============================] - 0s 17ms/step - loss: 7.0501 - val_loss: 12.2369\n",
      "Epoch 58/100\n",
      "3/3 [==============================] - 0s 21ms/step - loss: 6.8969 - val_loss: 12.3441\n",
      "Epoch 59/100\n",
      "3/3 [==============================] - 0s 18ms/step - loss: 7.1436 - val_loss: 12.2359\n",
      "Epoch 60/100\n",
      "3/3 [==============================] - 0s 15ms/step - loss: 6.9873 - val_loss: 12.3681\n",
      "Epoch 61/100\n",
      "3/3 [==============================] - 0s 16ms/step - loss: 7.0030 - val_loss: 12.4970\n",
      "Epoch 62/100\n",
      "3/3 [==============================] - 0s 15ms/step - loss: 7.0565 - val_loss: 12.2285\n",
      "Epoch 63/100\n",
      "3/3 [==============================] - 0s 17ms/step - loss: 6.8313 - val_loss: 12.1812\n",
      "Epoch 64/100\n",
      "3/3 [==============================] - 0s 16ms/step - loss: 6.8050 - val_loss: 12.6512\n",
      "Epoch 65/100\n",
      "3/3 [==============================] - 0s 15ms/step - loss: 7.0157 - val_loss: 12.2244\n",
      "Epoch 66/100\n",
      "3/3 [==============================] - 0s 16ms/step - loss: 6.8720 - val_loss: 11.9641\n",
      "Epoch 67/100\n",
      "3/3 [==============================] - 0s 16ms/step - loss: 6.9292 - val_loss: 12.0799\n",
      "Epoch 68/100\n",
      "3/3 [==============================] - 0s 15ms/step - loss: 6.7810 - val_loss: 12.2037\n",
      "Epoch 69/100\n",
      "3/3 [==============================] - 0s 25ms/step - loss: 6.6441 - val_loss: 12.0876\n",
      "Epoch 70/100\n",
      "3/3 [==============================] - 0s 41ms/step - loss: 6.7812 - val_loss: 11.9564\n",
      "Epoch 71/100\n",
      "3/3 [==============================] - 0s 23ms/step - loss: 6.7818 - val_loss: 12.2764\n",
      "Epoch 72/100\n",
      "3/3 [==============================] - 0s 25ms/step - loss: 6.6034 - val_loss: 11.8776\n",
      "Epoch 73/100\n",
      "3/3 [==============================] - 0s 31ms/step - loss: 6.6823 - val_loss: 12.0077\n",
      "Epoch 74/100\n",
      "3/3 [==============================] - 0s 31ms/step - loss: 7.2161 - val_loss: 12.0309\n",
      "Epoch 75/100\n",
      "3/3 [==============================] - 0s 34ms/step - loss: 6.5383 - val_loss: 12.5370\n",
      "Epoch 76/100\n",
      "3/3 [==============================] - 0s 26ms/step - loss: 6.6516 - val_loss: 12.2158\n",
      "Epoch 77/100\n",
      "3/3 [==============================] - 0s 25ms/step - loss: 6.6168 - val_loss: 12.4039\n",
      "Epoch 78/100\n",
      "3/3 [==============================] - 0s 26ms/step - loss: 6.5652 - val_loss: 12.0140\n",
      "Epoch 79/100\n",
      "3/3 [==============================] - 0s 24ms/step - loss: 6.5212 - val_loss: 12.0229\n",
      "Epoch 80/100\n",
      "3/3 [==============================] - 0s 21ms/step - loss: 6.6297 - val_loss: 11.6746\n",
      "Epoch 81/100\n",
      "3/3 [==============================] - 0s 29ms/step - loss: 6.4418 - val_loss: 12.1463\n",
      "Epoch 82/100\n",
      "3/3 [==============================] - 0s 21ms/step - loss: 6.4091 - val_loss: 12.2232\n",
      "Epoch 83/100\n",
      "3/3 [==============================] - 0s 31ms/step - loss: 6.8536 - val_loss: 11.9051\n",
      "Epoch 84/100\n",
      "3/3 [==============================] - 0s 31ms/step - loss: 6.3323 - val_loss: 12.0584\n",
      "Epoch 85/100\n",
      "3/3 [==============================] - 0s 27ms/step - loss: 6.4057 - val_loss: 12.6036\n",
      "Epoch 86/100\n",
      "3/3 [==============================] - 0s 30ms/step - loss: 6.3951 - val_loss: 12.2133\n",
      "Epoch 87/100\n",
      "3/3 [==============================] - 0s 31ms/step - loss: 6.4889 - val_loss: 11.9503\n",
      "Epoch 88/100\n",
      "3/3 [==============================] - 0s 21ms/step - loss: 6.3231 - val_loss: 12.1869\n",
      "Epoch 89/100\n",
      "3/3 [==============================] - 0s 29ms/step - loss: 6.4142 - val_loss: 12.5424\n",
      "Epoch 90/100\n",
      "3/3 [==============================] - 0s 24ms/step - loss: 6.5283 - val_loss: 12.6569\n",
      "Epoch 91/100\n",
      "3/3 [==============================] - 0s 21ms/step - loss: 6.3741 - val_loss: 11.7913\n",
      "Epoch 92/100\n",
      "3/3 [==============================] - 0s 29ms/step - loss: 6.1878 - val_loss: 11.8778\n",
      "Epoch 93/100\n",
      "3/3 [==============================] - 0s 29ms/step - loss: 6.4492 - val_loss: 11.8592\n",
      "Epoch 94/100\n",
      "3/3 [==============================] - 0s 33ms/step - loss: 6.2168 - val_loss: 12.0100\n",
      "Epoch 95/100\n",
      "3/3 [==============================] - 0s 29ms/step - loss: 6.1293 - val_loss: 11.9189\n",
      "Epoch 96/100\n",
      "3/3 [==============================] - 0s 23ms/step - loss: 6.3723 - val_loss: 11.7076\n",
      "Epoch 97/100\n",
      "3/3 [==============================] - 0s 33ms/step - loss: 6.0875 - val_loss: 11.7483\n",
      "Epoch 98/100\n",
      "3/3 [==============================] - 0s 30ms/step - loss: 6.1034 - val_loss: 11.8326\n",
      "Epoch 99/100\n",
      "3/3 [==============================] - 0s 28ms/step - loss: 6.0557 - val_loss: 12.0444\n",
      "Epoch 100/100\n",
      "3/3 [==============================] - 0s 29ms/step - loss: 6.0716 - val_loss: 12.1114\n"
     ]
    }
   ],
   "source": [
    "history = model.fit(train_data, train_targets, epochs = 100, batch_size=128, validation_split= 0.25)"
   ]
  },
  {
   "cell_type": "code",
   "execution_count": 16,
   "metadata": {
    "colab": {
     "base_uri": "https://localhost:8080/",
     "height": 295
    },
    "id": "y5KQQniw2h4_",
    "outputId": "66c25dee-37aa-4681-97cb-cc49cc5565fd",
    "pycharm": {
     "name": "#%%\n"
    }
   },
   "outputs": [
    {
     "output_type": "display_data",
     "data": {
      "text/plain": [
       "<Figure size 432x288 with 1 Axes>"
      ],
      "image/png": "[encoded data removed]"
     },
     "metadata": {
      "needs_background": "light"
     }
    }
   ],
   "source": [
    "loss = history.history['loss']\n",
    "val_loss = history.history['val_loss']\n",
    "epochs = range(1, len(loss) + 1)\n",
    "plt.plot(epochs, loss, 'bo', label='Training loss')\n",
    "plt.plot(epochs, val_loss, 'b', label='Validation loss')\n",
    "plt.title('Training and validation loss')\n",
    "plt.xlabel('Epochs')\n",
    "plt.ylabel('Loss')\n",
    "plt.legend()\n",
    "plt.show()"
   ]
  },
  {
   "cell_type": "markdown",
   "metadata": {
    "id": "X3ClXOg72mVR",
    "pycharm": {
     "name": "#%% md\n"
    }
   },
   "source": [
    "Still going down! As a self-study exercise, keep training the model until you see an increase in validation loss. You should train until this happen, so keep an eye in your models!\n",
    "\n",
    "And how did we do in the test set? The \"evaluate\" internal function allows us to validate on new data."
   ]
  },
  {
   "cell_type": "code",
   "execution_count": 17,
   "metadata": {
    "colab": {
     "base_uri": "https://localhost:8080/"
    },
    "id": "GM8eOZ782k1v",
    "outputId": "c49834ca-2ed1-4337-be40-6d5d50c672fd",
    "pycharm": {
     "name": "#%%\n"
    }
   },
   "outputs": [
    {
     "output_type": "stream",
     "name": "stdout",
     "text": [
      "4/4 [==============================] - 0s 3ms/step - loss: 20.4772\n"
     ]
    },
    {
     "output_type": "execute_result",
     "data": {
      "text/plain": [
       "20.477191925048828"
      ]
     },
     "metadata": {},
     "execution_count": 17
    }
   ],
   "source": [
    "model.evaluate(test_data, test_targets)"
   ]
  },
  {
   "cell_type": "markdown",
   "metadata": {
    "id": "Pr3UwuM63NXz",
    "pycharm": {
     "name": "#%% md\n"
    }
   },
   "source": [
    "We can use this number to compare against other models. Or take the square root to get an idea of the average error to be incurred, and then decide.\n",
    "\n",
    "Alternatively, if we want to get the value of the predictions, we can use the following command, which returns a prediction over the test data."
   ]
  },
  {
   "cell_type": "code",
   "execution_count": 18,
   "metadata": {
    "id": "OAfZsC2P3Jtl",
    "colab": {
     "base_uri": "https://localhost:8080/"
    },
    "outputId": "17e57559-0532-4cb8-b08e-b453cb4fdc4c",
    "pycharm": {
     "name": "#%%\n"
    }
   },
   "outputs": [
    {
     "output_type": "stream",
     "name": "stdout",
     "text": [
      "4/4 [==============================] - 0s 3ms/step\n"
     ]
    },
    {
     "output_type": "execute_result",
     "data": {
      "text/plain": [
       "array([[ 8.998174 ],\n",
       "       [18.817434 ],\n",
       "       [20.84495  ],\n",
       "       [29.44072  ],\n",
       "       [24.744152 ],\n",
       "       [20.471283 ],\n",
       "       [26.640339 ],\n",
       "       [21.651718 ],\n",
       "       [18.629965 ],\n",
       "       [21.320118 ],\n",
       "       [17.093538 ],\n",
       "       [16.701233 ],\n",
       "       [15.291883 ],\n",
       "       [41.773823 ],\n",
       "       [18.556992 ],\n",
       "       [20.497524 ],\n",
       "       [27.140553 ],\n",
       "       [21.92313  ],\n",
       "       [18.472546 ],\n",
       "       [31.19587  ],\n",
       "       [12.072642 ],\n",
       "       [14.002044 ],\n",
       "       [20.107073 ],\n",
       "       [16.695145 ],\n",
       "       [21.07906  ],\n",
       "       [24.283792 ],\n",
       "       [29.044407 ],\n",
       "       [30.743113 ],\n",
       "       [11.345328 ],\n",
       "       [21.138348 ],\n",
       "       [19.619324 ],\n",
       "       [14.820512 ],\n",
       "       [32.855026 ],\n",
       "       [25.649963 ],\n",
       "       [16.94049  ],\n",
       "       [ 7.4927273],\n",
       "       [15.404117 ],\n",
       "       [18.27113  ],\n",
       "       [20.129784 ],\n",
       "       [26.766006 ],\n",
       "       [30.554012 ],\n",
       "       [27.364113 ],\n",
       "       [13.735208 ],\n",
       "       [40.81853  ],\n",
       "       [27.716845 ],\n",
       "       [23.190382 ],\n",
       "       [25.508408 ],\n",
       "       [15.9865   ],\n",
       "       [23.776093 ],\n",
       "       [22.116497 ],\n",
       "       [35.45359  ],\n",
       "       [20.302526 ],\n",
       "       [11.435001 ],\n",
       "       [15.272927 ],\n",
       "       [35.54353  ],\n",
       "       [27.997612 ],\n",
       "       [12.746834 ],\n",
       "       [47.506042 ],\n",
       "       [33.66584  ],\n",
       "       [23.539196 ],\n",
       "       [24.699957 ],\n",
       "       [16.975204 ],\n",
       "       [14.79565  ],\n",
       "       [18.784115 ],\n",
       "       [23.587612 ],\n",
       "       [23.095304 ],\n",
       "       [12.677407 ],\n",
       "       [23.183376 ],\n",
       "       [12.922343 ],\n",
       "       [ 6.89885  ],\n",
       "       [31.843603 ],\n",
       "       [29.305634 ],\n",
       "       [25.372768 ],\n",
       "       [13.14815  ],\n",
       "       [25.63359  ],\n",
       "       [19.08893  ],\n",
       "       [20.333986 ],\n",
       "       [23.565084 ],\n",
       "       [35.96562  ],\n",
       "       [10.412155 ],\n",
       "       [20.111485 ],\n",
       "       [37.404373 ],\n",
       "       [15.437028 ],\n",
       "       [13.288648 ],\n",
       "       [17.20606  ],\n",
       "       [18.641209 ],\n",
       "       [20.84443  ],\n",
       "       [21.401752 ],\n",
       "       [21.330105 ],\n",
       "       [30.84818  ],\n",
       "       [19.310364 ],\n",
       "       [19.560366 ],\n",
       "       [26.049335 ],\n",
       "       [41.22226  ],\n",
       "       [35.191887 ],\n",
       "       [18.826494 ],\n",
       "       [35.267006 ],\n",
       "       [51.27665  ],\n",
       "       [26.405375 ],\n",
       "       [45.381065 ],\n",
       "       [30.89154  ],\n",
       "       [20.632328 ]], dtype=float32)"
      ]
     },
     "metadata": {},
     "execution_count": 18
    }
   ],
   "source": [
    "model.predict(test_data)"
   ]
  },
  {
   "cell_type": "markdown",
   "metadata": {
    "id": "CHE6lrG23RJp",
    "pycharm": {
     "name": "#%% md\n"
    }
   },
   "source": [
    "And that's it! We have our first shallow neural network trained. In future labs we will be adding complexity to this by for example using more complex text-based embeddings, images, etc."
   ]
  },
  {
   "cell_type": "markdown",
   "metadata": {
    "id": "i6Alv9aZ3TX_",
    "pycharm": {
     "name": "#%% md\n"
    }
   },
   "source": [
    "# Self Study\n",
    "\n",
    "Go through this example again, but now following Chapter 3.6 of Chollet's book. There you'll learn how to use Cross-Validation to model this example. Modify the activations and the size of the network. Try, for example:\n",
    "\n",
    "- Using SeLU instead of ReLU\n",
    "- Adding one more hidden layer\n",
    "- Changing the number of neurons from 64 to 128\n",
    "- ...etc\n",
    "\n",
    "Can you reach a better predictive capability over the test set? Creating an architecture is an art, so be creative and do your best effort!"
   ]
  }
 ],
 "metadata": {
  "accelerator": "GPU",
  "colab": {
   "provenance": []
  },
  "kernelspec": {
   "display_name": "Python 3",
   "language": "python",
   "name": "python3"
  },
  "language_info": {
   "codemirror_mode": {
    "name": "ipython",
    "version": 3
   },
   "file_extension": ".py",
   "mimetype": "text/x-python",
   "name": "python",
   "nbconvert_exporter": "python",
   "pygments_lexer": "ipython3",
   "version": "3.7.3"
  }
 },
 "nbformat": 4,
 "nbformat_minor": 0
}