{
  "nbformat": 4,
  "nbformat_minor": 0,
  "metadata": {
    "colab": {
      "provenance": []
    },
    "kernelspec": {
      "name": "python3",
      "display_name": "Python 3"
    },
    "language_info": {
      "name": "python"
    }
  },
  "cells": [
    {
      "cell_type": "markdown",
      "source": [
        "![networkx logo](https://networkx.org/_static/networkx_logo.svg)\n",
        "\n",
        "In this section, we explain social network analysis (SNA) with examples using Python NetworkX toolbox. \n",
        "\n",
        "We cover:\n",
        "1. installation and basic configuration\n",
        "2. type of graphs \n",
        "3. network metrics "
      ],
      "metadata": {
        "id": "ptIvKR7abzp2"
      }
    },
    {
      "cell_type": "code",
      "source": [
        "!pip install --upgrade scipy"
      ],
      "metadata": {
        "colab": {
          "base_uri": "https://localhost:8080/"
        },
        "id": "Tcpf_wwFjZ1E",
        "outputId": "17ca4ee0-98a2-407e-bbb4-0ba60c4935a2"
      },
      "execution_count": 1,
      "outputs": [
        {
          "output_type": "stream",
          "name": "stdout",
          "text": [
            "Looking in indexes: https://pypi.org/simple, https://us-python.pkg.dev/colab-wheels/public/simple/\n",
            "Requirement already satisfied: scipy in /usr/local/lib/python3.9/dist-packages (1.10.1)\n",
            "Requirement already satisfied: numpy<1.27.0,>=1.19.5 in /usr/local/lib/python3.9/dist-packages (from scipy) (1.22.4)\n"
          ]
        }
      ]
    },
    {
      "cell_type": "code",
      "execution_count": 2,
      "metadata": {
        "id": "Uhaqt6ds34us",
        "colab": {
          "base_uri": "https://localhost:8080/"
        },
        "outputId": "a5ef1dd2-e871-44a4-b6e0-e71784d86313"
      },
      "outputs": [
        {
          "output_type": "stream",
          "name": "stdout",
          "text": [
            "Looking in indexes: https://pypi.org/simple, https://us-python.pkg.dev/colab-wheels/public/simple/\n",
            "Requirement already satisfied: networkx in /usr/local/lib/python3.9/dist-packages (3.0)\n"
          ]
        }
      ],
      "source": [
        "!pip install networkx"
      ]
    },
    {
      "cell_type": "markdown",
      "source": [
        "The installation is straightforward, with a full description of the toolbox available in the link below.    \n",
        "https://networkx.org/documentation/stable/_downloads/networkx_reference.pdf\n",
        "\n",
        "First off, we create a graph object then add edges between node pairs. \n",
        "Assume we start with five nodes, namely “Al”, “Bell”, “Chris”, “Derek” and “Ed” as a toy example.\n",
        "The edges could be added by linking two nodes using add_edge command. \n",
        "The example below we present an undirected graph. "
      ],
      "metadata": {
        "id": "3eTYQAPw5U-J"
      }
    },
    {
      "cell_type": "code",
      "source": [
        "import networkx as nx\n",
        "G_symmetric = nx.Graph()\n",
        "G_symmetric.add_edge('Al','Bell')\n",
        "G_symmetric.add_edge('Al','Chris')\n",
        "G_symmetric.add_edge('Al','Ed')\n",
        "G_symmetric.add_edge('Al','Derek')\n",
        "G_symmetric.add_edge('Bell','Chris')\n",
        "G_symmetric.add_edge('Bell','Ed')\n",
        "G_symmetric.add_edge('Bell','Derek')\n",
        "G_symmetric.add_edge('Derek','Chris')"
      ],
      "metadata": {
        "id": "3ssmo0eO4j8h"
      },
      "execution_count": 3,
      "outputs": []
    },
    {
      "cell_type": "markdown",
      "source": [
        "The function “draw_networkx” displays the network graph we just created."
      ],
      "metadata": {
        "id": "uP9VmUggfNiY"
      }
    },
    {
      "cell_type": "code",
      "source": [
        "nx.draw_networkx(G_symmetric)"
      ],
      "metadata": {
        "colab": {
          "base_uri": "https://localhost:8080/",
          "height": 248
        },
        "id": "t5SJQgHq4oZ5",
        "outputId": "2ddf4583-1fec-4ebd-90ed-57304ad01c32"
      },
      "execution_count": 4,
      "outputs": [
        {
          "output_type": "display_data",
          "data": {
            "text/plain": [
              "<Figure size 432x288 with 1 Axes>"
            ],
            "image/png": "[encoded data removed]"
          },
          "metadata": {}
        }
      ]
    },
    {
      "cell_type": "markdown",
      "source": [
        "Alternatively, we could create a directed graph where edges are directed. To do so, “DiGraph” object is needed."
      ],
      "metadata": {
        "id": "fRoGXiMFg95K"
      }
    },
    {
      "cell_type": "code",
      "source": [
        "G_asymmetric = nx.DiGraph()\n",
        "\n",
        "G_asymmetric.add_edge('Al','Bell')\n",
        "G_asymmetric.add_edge('Al','Chris')\n",
        "G_asymmetric.add_edge('Al','Ed')\n",
        "G_asymmetric.add_edge('Al','Derek')\n",
        "G_asymmetric.add_edge('Bell','Chris')\n",
        "G_asymmetric.add_edge('Bell','Ed')\n",
        "G_asymmetric.add_edge('Bell','Derek')\n",
        "G_asymmetric.add_edge('Derek','Chris')"
      ],
      "metadata": {
        "id": "XPjR2EfP4s7o"
      },
      "execution_count": 5,
      "outputs": []
    },
    {
      "cell_type": "markdown",
      "source": [
        "To visualize the graph, different visualization <a href=\"https://networkx.org/documentation/stable/reference/drawing.html?highlight=networkx%20drawing%20layout#module-networkx.drawing.layout\">algorithms</a> could be used to determine where and how we could plot the nodes and edges.   “spring_layout” is one way to do it. \n",
        "\n",
        "\n"
      ],
      "metadata": {
        "id": "ZA4OZcwP9lrW"
      }
    },
    {
      "cell_type": "code",
      "source": [
        "nx.spring_layout(G_asymmetric)\n",
        "nx.draw_networkx(G_asymmetric)"
      ],
      "metadata": {
        "colab": {
          "base_uri": "https://localhost:8080/",
          "height": 248
        },
        "id": "_kQ0UN_f4vHC",
        "outputId": "59650100-cc23-4a3d-c5ad-f492357240ca"
      },
      "execution_count": 6,
      "outputs": [
        {
          "output_type": "display_data",
          "data": {
            "text/plain": [
              "<Figure size 432x288 with 1 Axes>"
            ],
            "image/png": "[encoded data removed]"
          },
          "metadata": {}
        }
      ]
    },
    {
      "cell_type": "markdown",
      "source": [
        "In the lecture we learn different network metrics, such as the degree, clustering coefficient and centrality. \n",
        "To compute the degree of a specific node is straightforward. \n"
      ],
      "metadata": {
        "id": "iTWZ4WGm-TlV"
      }
    },
    {
      "cell_type": "markdown",
      "source": [
        "The degree could be computed either for a specific node or the full list of all nodes."
      ],
      "metadata": {
        "id": "_IF7hIvkhiep"
      }
    },
    {
      "cell_type": "code",
      "source": [
        "nx.degree(G_symmetric, 'Derek')"
      ],
      "metadata": {
        "colab": {
          "base_uri": "https://localhost:8080/"
        },
        "id": "uTub_kZ37RdU",
        "outputId": "d16589dd-6e57-4732-8d36-aa1f8015d75e"
      },
      "execution_count": 7,
      "outputs": [
        {
          "output_type": "execute_result",
          "data": {
            "text/plain": [
              "3"
            ]
          },
          "metadata": {},
          "execution_count": 7
        }
      ]
    },
    {
      "cell_type": "code",
      "source": [
        "nx.degree(G_symmetric)"
      ],
      "metadata": {
        "colab": {
          "base_uri": "https://localhost:8080/"
        },
        "id": "jaRyOR4HhZTx",
        "outputId": "6ebe40b9-8329-4e11-bea8-2b901255a820"
      },
      "execution_count": 8,
      "outputs": [
        {
          "output_type": "execute_result",
          "data": {
            "text/plain": [
              "DegreeView({'Al': 4, 'Bell': 4, 'Chris': 3, 'Ed': 2, 'Derek': 3})"
            ]
          },
          "metadata": {},
          "execution_count": 8
        }
      ]
    },
    {
      "cell_type": "markdown",
      "source": [
        "The clustering coefficient could be reported both at the graph level (including all nodes) or at individual node level. "
      ],
      "metadata": {
        "id": "lrJtx7Ou_f0-"
      }
    },
    {
      "cell_type": "code",
      "source": [
        "nx.average_clustering(G_symmetric)"
      ],
      "metadata": {
        "colab": {
          "base_uri": "https://localhost:8080/"
        },
        "id": "7OHAIUii7YSi",
        "outputId": "42130312-7917-4684-e711-38d34822a04b"
      },
      "execution_count": 9,
      "outputs": [
        {
          "output_type": "execute_result",
          "data": {
            "text/plain": [
              "0.8666666666666666"
            ]
          },
          "metadata": {},
          "execution_count": 9
        }
      ]
    },
    {
      "cell_type": "code",
      "source": [
        "nx.clustering(G_symmetric)"
      ],
      "metadata": {
        "colab": {
          "base_uri": "https://localhost:8080/"
        },
        "id": "hwP2nsFa_BGT",
        "outputId": "2ed99519-f367-4939-fd68-01050bd7b386"
      },
      "execution_count": 10,
      "outputs": [
        {
          "output_type": "execute_result",
          "data": {
            "text/plain": [
              "{'Al': 0.6666666666666666,\n",
              " 'Bell': 0.6666666666666666,\n",
              " 'Chris': 1.0,\n",
              " 'Ed': 1.0,\n",
              " 'Derek': 1.0}"
            ]
          },
          "metadata": {},
          "execution_count": 10
        }
      ]
    },
    {
      "cell_type": "markdown",
      "source": [
        "The betweenness centrality reports how “central” an individual node is. "
      ],
      "metadata": {
        "id": "Vnr28YOx_qci"
      }
    },
    {
      "cell_type": "code",
      "source": [
        "nx.betweenness_centrality(G_symmetric, normalized=True, endpoints=True)"
      ],
      "metadata": {
        "colab": {
          "base_uri": "https://localhost:8080/"
        },
        "id": "J0YO6nGq7gJU",
        "outputId": "b14a4826-40c8-44ef-b48e-74c83f8accfb"
      },
      "execution_count": 11,
      "outputs": [
        {
          "output_type": "execute_result",
          "data": {
            "text/plain": [
              "{'Al': 0.5, 'Bell': 0.5, 'Chris': 0.4, 'Ed': 0.4, 'Derek': 0.4}"
            ]
          },
          "metadata": {},
          "execution_count": 11
        }
      ]
    },
    {
      "cell_type": "markdown",
      "source": [
        "Obviously, we do wish sometimes not creating a graph on the fly. Rather, we will collect data from the web or download from other sources. Then the graph representation is stored in a matrix format - Adjacency Matrix."
      ],
      "metadata": {
        "id": "PVeEcJYXh5Nq"
      }
    },
    {
      "cell_type": "markdown",
      "source": [
        "Suppose we have an example graph with three nodes: Larry, Gary, Harry and a matrix represent the connection between them. "
      ],
      "metadata": {
        "id": "ivfIKIAkC1m1"
      }
    },
    {
      "cell_type": "code",
      "source": [
        "import numpy as np\n",
        "import pandas as pd\n",
        "column_names = ['Larry', 'Gary', 'Harry']\n",
        "row_names    = ['Larry', 'Gary', 'Harry']\n",
        "df = pd.DataFrame([[0, 1 ,1], [1,0,1],[0,0,0]], columns=column_names, index=row_names)\n",
        "A = np.array([[0, 1 ,1], [1,0,1],[0,0,0]])"
      ],
      "metadata": {
        "id": "CI9Ccy1RCBjF"
      },
      "execution_count": 12,
      "outputs": []
    },
    {
      "cell_type": "code",
      "source": [
        "df"
      ],
      "metadata": {
        "colab": {
          "base_uri": "https://localhost:8080/",
          "height": 143
        },
        "id": "FrFx1EfbCDA8",
        "outputId": "3b93e0ef-3f06-4666-f8cc-f1f1c718c499"
      },
      "execution_count": 13,
      "outputs": [
        {
          "output_type": "execute_result",
          "data": {
            "text/plain": [
              "       Larry  Gary  Harry\n",
              "Larry      0     1      1\n",
              "Gary       1     0      1\n",
              "Harry      0     0      0"
            ],
            "text/html": [
              "\n",
              "  <div id=\"df-78b17bc1-6fa8-4266-9973-f3de379d75d7\">\n",
              "    <div class=\"colab-df-container\">\n",
              "      <div>\n",
              "<style scoped>\n",
              "    .dataframe tbody tr th:only-of-type {\n",
              "        vertical-align: middle;\n",
              "    }\n",
              "\n",
              "    .dataframe tbody tr th {\n",
              "        vertical-align: top;\n",
              "    }\n",
              "\n",
              "    .dataframe thead th {\n",
              "        text-align: right;\n",
              "    }\n",
              "</style>\n",
              "<table border=\"1\" class=\"dataframe\">\n",
              "  <thead>\n",
              "    <tr style=\"text-align: right;\">\n",
              "      <th></th>\n",
              "      <th>Larry</th>\n",
              "      <th>Gary</th>\n",
              "      <th>Harry</th>\n",
              "    </tr>\n",
              "  </thead>\n",
              "  <tbody>\n",
              "    <tr>\n",
              "      <th>Larry</th>\n",
              "      <td>0</td>\n",
              "      <td>1</td>\n",
              "      <td>1</td>\n",
              "    </tr>\n",
              "    <tr>\n",
              "      <th>Gary</th>\n",
              "      <td>1</td>\n",
              "      <td>0</td>\n",
              "      <td>1</td>\n",
              "    </tr>\n",
              "    <tr>\n",
              "      <th>Harry</th>\n",
              "      <td>0</td>\n",
              "      <td>0</td>\n",
              "      <td>0</td>\n",
              "    </tr>\n",
              "  </tbody>\n",
              "</table>\n",
              "</div>\n",
              "      <button class=\"colab-df-convert\" onclick=\"convertToInteractive('df-78b17bc1-6fa8-4266-9973-f3de379d75d7')\"\n",
              "              title=\"Convert this dataframe to an interactive table.\"\n",
              "              style=\"display:none;\">\n",
              "        \n",
              "  <svg xmlns=\"http://www.w3.org/2000/svg\" height=\"24px\"viewBox=\"0 0 24 24\"\n",
              "       width=\"24px\">\n",
              "    <path d=\"M0 0h24v24H0V0z\" fill=\"none\"/>\n",
              "    <path d=\"M18.56 5.44l.94 2.06.94-2.06 2.06-.94-2.06-.94-.94-2.06-.94 2.06-2.06.94zm-11 1L8.5 8.5l.94-2.06 2.06-.94-2.06-.94L8.5 2.5l-.94 2.06-2.06.94zm10 10l.94 2.06.94-2.06 2.06-.94-2.06-.94-.94-2.06-.94 2.06-2.06.94z\"/><path d=\"M17.41 7.96l-1.37-1.37c-.4-.4-.92-.59-1.43-.59-.52 0-1.04.2-1.43.59L10.3 9.45l-7.72 7.72c-.78.78-.78 2.05 0 2.83L4 21.41c.39.39.9.59 1.41.59.51 0 1.02-.2 1.41-.59l7.78-7.78 2.81-2.81c.8-.78.8-2.07 0-2.86zM5.41 20L4 18.59l7.72-7.72 1.47 1.35L5.41 20z\"/>\n",
              "  </svg>\n",
              "      </button>\n",
              "      \n",
              "  <style>\n",
              "    .colab-df-container {\n",
              "      display:flex;\n",
              "      flex-wrap:wrap;\n",
              "      gap: 12px;\n",
              "    }\n",
              "\n",
              "    .colab-df-convert {\n",
              "      background-color: #E8F0FE;\n",
              "      border: none;\n",
              "      border-radius: 50%;\n",
              "      cursor: pointer;\n",
              "      display: none;\n",
              "      fill: #1967D2;\n",
              "      height: 32px;\n",
              "      padding: 0 0 0 0;\n",
              "      width: 32px;\n",
              "    }\n",
              "\n",
              "    .colab-df-convert:hover {\n",
              "      background-color: #E2EBFA;\n",
              "      box-shadow: 0px 1px 2px rgba(60, 64, 67, 0.3), 0px 1px 3px 1px rgba(60, 64, 67, 0.15);\n",
              "      fill: #174EA6;\n",
              "    }\n",
              "\n",
              "    [theme=dark] .colab-df-convert {\n",
              "      background-color: #3B4455;\n",
              "      fill: #D2E3FC;\n",
              "    }\n",
              "\n",
              "    [theme=dark] .colab-df-convert:hover {\n",
              "      background-color: #434B5C;\n",
              "      box-shadow: 0px 1px 3px 1px rgba(0, 0, 0, 0.15);\n",
              "      filter: drop-shadow(0px 1px 2px rgba(0, 0, 0, 0.3));\n",
              "      fill: #FFFFFF;\n",
              "    }\n",
              "  </style>\n",
              "\n",
              "      <script>\n",
              "        const buttonEl =\n",
              "          document.querySelector('#df-78b17bc1-6fa8-4266-9973-f3de379d75d7 button.colab-df-convert');\n",
              "        buttonEl.style.display =\n",
              "          google.colab.kernel.accessAllowed ? 'block' : 'none';\n",
              "\n",
              "        async function convertToInteractive(key) {\n",
              "          const element = document.querySelector('#df-78b17bc1-6fa8-4266-9973-f3de379d75d7');\n",
              "          const dataTable =\n",
              "            await google.colab.kernel.invokeFunction('convertToInteractive',\n",
              "                                                     [key], {});\n",
              "          if (!dataTable) return;\n",
              "\n",
              "          const docLinkHtml = 'Like what you see? Visit the ' +\n",
              "            '<a target=\"_blank\" href=https://colab.research.google.com/notebooks/data_table.ipynb>data table notebook</a>'\n",
              "            + ' to learn more about interactive tables.';\n",
              "          element.innerHTML = '';\n",
              "          dataTable['output_type'] = 'display_data';\n",
              "          await google.colab.output.renderOutput(dataTable, element);\n",
              "          const docLink = document.createElement('div');\n",
              "          docLink.innerHTML = docLinkHtml;\n",
              "          element.appendChild(docLink);\n",
              "        }\n",
              "      </script>\n",
              "    </div>\n",
              "  </div>\n",
              "  "
            ]
          },
          "metadata": {},
          "execution_count": 13
        }
      ]
    },
    {
      "cell_type": "code",
      "source": [
        "G = nx.from_numpy_array(A)\n",
        "nx.draw_networkx(G)"
      ],
      "metadata": {
        "colab": {
          "base_uri": "https://localhost:8080/",
          "height": 248
        },
        "id": "0epwugv6nRcv",
        "outputId": "053fa76e-552c-4132-d385-83b3dcbed89d"
      },
      "execution_count": 14,
      "outputs": [
        {
          "output_type": "display_data",
          "data": {
            "text/plain": [
              "<Figure size 432x288 with 1 Axes>"
            ],
            "image/png": "[encoded data removed]"
          },
          "metadata": {}
        }
      ]
    },
    {
      "cell_type": "code",
      "source": [
        "G = nx.from_numpy_array(A,create_using=nx.DiGraph)\n",
        "nx.draw_networkx(G)"
      ],
      "metadata": {
        "colab": {
          "base_uri": "https://localhost:8080/",
          "height": 248
        },
        "id": "YfN75bz3n1mQ",
        "outputId": "ba846c0c-1735-414b-f032-9996e29ffac5"
      },
      "execution_count": 15,
      "outputs": [
        {
          "output_type": "display_data",
          "data": {
            "text/plain": [
              "<Figure size 432x288 with 1 Axes>"
            ],
            "image/png": "[encoded data removed]"
          },
          "metadata": {}
        }
      ]
    },
    {
      "cell_type": "code",
      "source": [
        "mapping = {0: \"Larry\", 1: \"Gary\", 2: \"Harry\"}\n",
        "H = nx.relabel_nodes(G, mapping)"
      ],
      "metadata": {
        "id": "TH7Yslz44UZd"
      },
      "execution_count": 16,
      "outputs": []
    },
    {
      "cell_type": "code",
      "source": [
        "nx.draw_networkx(H)"
      ],
      "metadata": {
        "colab": {
          "base_uri": "https://localhost:8080/",
          "height": 248
        },
        "id": "k4lUbVL24qLd",
        "outputId": "5cfa4e03-d95e-4942-f5d4-86019d2d924a"
      },
      "execution_count": 17,
      "outputs": [
        {
          "output_type": "display_data",
          "data": {
            "text/plain": [
              "<Figure size 432x288 with 1 Axes>"
            ],
            "image/png": "[encoded data removed]"
          },
          "metadata": {}
        }
      ]
    },
    {
      "cell_type": "markdown",
      "source": [
        "Using adjacency matrix, we could convert a directed graph into an undirected one. An edge from A to B if directed, does not imply B has an edge to A. If the direction is not considered, we could convert the directed graph to an undirected one. "
      ],
      "metadata": {
        "id": "--4tFhxIMOhX"
      }
    },
    {
      "cell_type": "code",
      "source": [
        "am1=nx.adjacency_matrix(G_asymmetric).todense()\n",
        "am1"
      ],
      "metadata": {
        "colab": {
          "base_uri": "https://localhost:8080/"
        },
        "id": "0uXAmAkrIY4p",
        "outputId": "bba25baa-f6ca-4803-dc74-ff3436bb2171"
      },
      "execution_count": 18,
      "outputs": [
        {
          "output_type": "execute_result",
          "data": {
            "text/plain": [
              "array([[0, 1, 1, 1, 1],\n",
              "       [0, 0, 1, 1, 1],\n",
              "       [0, 0, 0, 0, 0],\n",
              "       [0, 0, 0, 0, 0],\n",
              "       [0, 0, 1, 0, 0]])"
            ]
          },
          "metadata": {},
          "execution_count": 18
        }
      ]
    },
    {
      "cell_type": "code",
      "source": [
        "am1_undir=np.maximum(am1.transpose(),am1)"
      ],
      "metadata": {
        "id": "ru8vDOUiIquO"
      },
      "execution_count": 19,
      "outputs": []
    },
    {
      "cell_type": "code",
      "source": [
        "g1 = nx.from_numpy_array(am1_undir,create_using=nx.Graph)\n",
        "mapping = {old_label:new_label for old_label, new_label in enumerate(G_asymmetric.nodes())}\n",
        "g2 = nx.relabel_nodes(g1, mapping)"
      ],
      "metadata": {
        "id": "naS1w0rqJL-Q"
      },
      "execution_count": 20,
      "outputs": []
    },
    {
      "cell_type": "code",
      "source": [
        "nx.draw_networkx(g2)"
      ],
      "metadata": {
        "colab": {
          "base_uri": "https://localhost:8080/",
          "height": 248
        },
        "id": "sM-PricSKI9g",
        "outputId": "ac77b2e2-6bdb-47af-e0e0-472f70cacb1e"
      },
      "execution_count": 21,
      "outputs": [
        {
          "output_type": "display_data",
          "data": {
            "text/plain": [
              "<Figure size 432x288 with 1 Axes>"
            ],
            "image/png": "[encoded data removed]"
          },
          "metadata": {}
        }
      ]
    },
    {
      "cell_type": "markdown",
      "source": [
        "Now let’s test your “networkx” skill.\n",
        "Given the graph presented below, please compute:\n",
        "1. create a network object and visualize it.  \n",
        "2. present the adjacency matrix\n",
        "3. calculate the centrality measures (betweenness, closeness…)\n",
        "4. if this is a result of a network where people share information with each other, who is the most important node in this network? \n",
        "\n",
        "![exercise](https://drive.google.com/uc?id=1ZmVnenbF3oWiXiV1yutq0fhMvz3lZKZH)"
      ],
      "metadata": {
        "id": "8hDPrFf7F4hu"
      }
    },
    {
      "cell_type": "code",
      "source": [
        "#possible solution\n",
        "#input network\n",
        "network_G = nx.Graph()\n",
        "network_G.add_edge('A','B')\n",
        "network_G.add_edge('A','D')\n",
        "network_G.add_edge('A','F')\n",
        "network_G.add_edge('B','C')\n",
        "network_G.add_edge('B','E')\n",
        "network_G.add_edge('D','E')\n",
        "network_G.add_edge('F','G')\n",
        "network_G.add_edge('F','I')\n",
        "network_G.add_edge('H','I')\n",
        "#draw network\n",
        "nx.draw_networkx(network_G)\n",
        "#adjacency matrix\n",
        "am = nx.adjacency_matrix(network_G)\n",
        "print(am.todense())\n",
        "#closeness centrality\n",
        "nx.closeness_centrality(network_G)\n",
        "#betweenness centrality\n",
        "nx.betweenness_centrality(network_G, normalized=True, endpoints=True)"
      ],
      "metadata": {
        "id": "4EV-8yOiDnRW",
        "colab": {
          "base_uri": "https://localhost:8080/",
          "height": 560
        },
        "outputId": "3c14fd62-eddd-4cd6-a840-1e95f259c959"
      },
      "execution_count": 22,
      "outputs": [
        {
          "output_type": "stream",
          "name": "stdout",
          "text": [
            "[[0 1 1 1 0 0 0 0 0]\n",
            " [1 0 0 0 1 1 0 0 0]\n",
            " [1 0 0 0 0 1 0 0 0]\n",
            " [1 0 0 0 0 0 1 1 0]\n",
            " [0 1 0 0 0 0 0 0 0]\n",
            " [0 1 1 0 0 0 0 0 0]\n",
            " [0 0 0 1 0 0 0 0 0]\n",
            " [0 0 0 1 0 0 0 0 1]\n",
            " [0 0 0 0 0 0 0 1 0]]\n"
          ]
        },
        {
          "output_type": "execute_result",
          "data": {
            "text/plain": [
              "{'A': 0.6944444444444444,\n",
              " 'B': 0.4861111111111111,\n",
              " 'D': 0.29166666666666663,\n",
              " 'F': 0.6944444444444444,\n",
              " 'C': 0.2222222222222222,\n",
              " 'E': 0.25,\n",
              " 'G': 0.2222222222222222,\n",
              " 'I': 0.41666666666666663,\n",
              " 'H': 0.2222222222222222}"
            ]
          },
          "metadata": {},
          "execution_count": 22
        },
        {
          "output_type": "display_data",
          "data": {
            "text/plain": [
              "<Figure size 432x288 with 1 Axes>"
            ],
            "image/png": "[encoded data removed]"
          },
          "metadata": {}
        }
      ]
    }
  ]
}