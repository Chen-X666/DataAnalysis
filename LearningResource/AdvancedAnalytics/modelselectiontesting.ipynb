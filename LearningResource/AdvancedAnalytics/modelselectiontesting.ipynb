{
  "cells": [
    {
      "cell_type": "markdown",
      "metadata": {
        "id": "Yn_D1B4OSxhe"
      },
      "source": [
        "With some knowledge in building and testing machine learning models already, in this section we look into the model selection and testing techniques mainly in the sklearn package. This allows us to gain a basic understanding, at a programming/operational level to implement the code that supports testing of the machine learning and statistical models. "
      ]
    },
    {
      "cell_type": "code",
      "execution_count": null,
      "metadata": {
        "id": "tfH7uxxg3047"
      },
      "outputs": [],
      "source": [
        "import numpy as np\n",
        "import pandas as pd\n",
        "from sklearn.model_selection import train_test_split\n",
        "from sklearn.model_selection import cross_val_score\n",
        "from sklearn import datasets\n",
        "from sklearn import svm\n",
        "from sklearn import metrics"
      ]
    },
    {
      "cell_type": "markdown",
      "metadata": {
        "id": "MuHRQS4DyoAd"
      },
      "source": [
        "## Reading the data\n",
        "\n",
        "For this exercise we will read a dataset from credit scoring. I previously uploaded the data to Google, and it is available at https://docs.google.com/spreadsheets/d/e/2PACX-1vQfU3NMvbp_FFneuYQQCadXxs5RnZ7Po3-4E94nruZ0vjbsOWT1lWPXF-ybJ5Lzd6Uy5LNiuyCVWR2-/pub?gid=1314911186&single=true&output=csv\n",
        "\n",
        "The dataset (called **Bankloan**, from IBM) has a set of loans with default information. It includes the following variables:\n",
        "\n",
        "- Customer: ID, or unique label, of the borrower (NOT predictive).\n",
        "- Age: Age of the borrower in years.\n",
        "- Employ: Years at current job.\n",
        "- Address: Years at current address.\n",
        "- Leverage: Debt/Income Ratio.\n",
        "- CredDebt: Credit card standing debt.\n",
        "- MonthlyLoad: Monthly percentage from salary used to repay debts.\n",
        "- Default: 1 If default has occurred, 0 if not (Target variable).\n",
        "\n",
        "The goal is to construct a model to predict whether the loan is going to default or not."
      ]
    },
    {
      "cell_type": "code",
      "execution_count": null,
      "metadata": {
        "id": "nup0fptFywSo",
        "colab": {
          "base_uri": "https://localhost:8080/"
        },
        "outputId": "bc7047f3-5c87-4781-8807-0e080e9ace17"
      },
      "outputs": [
        {
          "output_type": "stream",
          "name": "stdout",
          "text": [
            "--2023-02-08 13:17:08--  https://docs.google.com/spreadsheets/d/e/2PACX-1vQfU3NMvbp_FFneuYQQCadXxs5RnZ7Po3-4E94nruZ0vjbsOWT1lWPXF-ybJ5Lzd6Uy5LNiuyCVWR2-/pub?gid=1314911186&single=true&output=csv\n",
            "Resolving docs.google.com (docs.google.com)... 173.194.69.101, 173.194.69.138, 173.194.69.113, ...\n",
            "Connecting to docs.google.com (docs.google.com)|173.194.69.101|:443... connected.\n",
            "HTTP request sent, awaiting response... 307 Temporary Redirect\n",
            "Location: https://doc-0c-9o-sheets.googleusercontent.com/pub/mq6he3r7ig44qobar1fsg51390/7elr9261t6gpkbl2sr8e82u7sc/1675862225000/108328119934179437001/*/e@2PACX-1vQfU3NMvbp_FFneuYQQCadXxs5RnZ7Po3-4E94nruZ0vjbsOWT1lWPXF-ybJ5Lzd6Uy5LNiuyCVWR2-?gid=1314911186&single=true&output=csv [following]\n",
            "Warning: wildcards not supported in HTTP.\n",
            "--2023-02-08 13:17:09--  https://doc-0c-9o-sheets.googleusercontent.com/pub/mq6he3r7ig44qobar1fsg51390/7elr9261t6gpkbl2sr8e82u7sc/1675862225000/108328119934179437001/*/e@2PACX-1vQfU3NMvbp_FFneuYQQCadXxs5RnZ7Po3-4E94nruZ0vjbsOWT1lWPXF-ybJ5Lzd6Uy5LNiuyCVWR2-?gid=1314911186&single=true&output=csv\n",
            "Resolving doc-0c-9o-sheets.googleusercontent.com (doc-0c-9o-sheets.googleusercontent.com)... 108.177.126.132, 2a00:1450:4013:c01::84\n",
            "Connecting to doc-0c-9o-sheets.googleusercontent.com (doc-0c-9o-sheets.googleusercontent.com)|108.177.126.132|:443... connected.\n",
            "HTTP request sent, awaiting response... 200 OK\n",
            "Length: unspecified [text/csv]\n",
            "Saving to: ‘Bankloan.csv’\n",
            "\n",
            "Bankloan.csv            [ <=>                ]   6.03K  --.-KB/s    in 0s      \n",
            "\n",
            "2023-02-08 13:17:09 (50.3 MB/s) - ‘Bankloan.csv’ saved [6176]\n",
            "\n"
          ]
        }
      ],
      "source": [
        "!wget --no-check-certificate --output-document=Bankloan.csv 'https://docs.google.com/spreadsheets/d/e/2PACX-1vQfU3NMvbp_FFneuYQQCadXxs5RnZ7Po3-4E94nruZ0vjbsOWT1lWPXF-ybJ5Lzd6Uy5LNiuyCVWR2-/pub?gid=1314911186&single=true&output=csv'\n",
        "\n",
        "# Import the files as Pandas datasets\n",
        "bankloan_data = pd.read_csv('Bankloan.csv')\n",
        "\n",
        "y = bankloan_data['Default']\n",
        "X = bankloan_data.drop(columns=['Default'])"
      ]
    },
    {
      "cell_type": "markdown",
      "metadata": {
        "id": "Ms_k_VyhUC_v"
      },
      "source": [
        "In its simplest form, we could split the data into training and testing set. The ratio we use is 70% training versus 30% testing. Random state is used to provide a “random seed” to allow reproducible results. Because the split happens randomly, hence in order to be able to achieve reproducible results switching devices/testing environment. "
      ]
    },
    {
      "cell_type": "code",
      "execution_count": null,
      "metadata": {
        "id": "UMGGCetH3905"
      },
      "outputs": [],
      "source": [
        "X_train, X_test, y_train, y_test = train_test_split(X, y, test_size=0.3, random_state=0)"
      ]
    },
    {
      "cell_type": "markdown",
      "metadata": {
        "id": "lETMG8d0UTcK"
      },
      "source": [
        "To test the predictive performance, in this specific instance we choose <a href=\"https://scikit-learn.org/stable/modules/classes.html#module-sklearn.svm\">support vector machine</a> as the classifer  and <a href=\"https://scikit-learn.org/stable/modules/classes.html#module-sklearn.metrics\">accuracy</a> as the evaluation metrics. You should also be confident to test other models and metrics later. For the SVM, we choose a linear kernel function and regularization parameter is set to 1. "
      ]
    },
    {
      "cell_type": "code",
      "execution_count": null,
      "metadata": {
        "id": "PayGmvfX4DGf",
        "colab": {
          "base_uri": "https://localhost:8080/"
        },
        "outputId": "cd0ceb8d-3fb5-47a8-eafd-6af5c76418fc"
      },
      "outputs": [
        {
          "output_type": "execute_result",
          "data": {
            "text/plain": [
              "0.7333333333333333"
            ]
          },
          "metadata": {},
          "execution_count": 4
        }
      ],
      "source": [
        "clf = svm.SVC(kernel='linear', C=1).fit(X_train, y_train)\n",
        "clf.score(X_test, y_test)"
      ]
    },
    {
      "cell_type": "markdown",
      "metadata": {
        "id": "r-N8oOjD59kG"
      },
      "source": [
        "We could repeatedly test the results. In the example below, we run 10 repetitions to obtain a series of predictions and evaluations.  "
      ]
    },
    {
      "cell_type": "code",
      "execution_count": null,
      "metadata": {
        "id": "u-fEsbl10nSa"
      },
      "outputs": [],
      "source": [
        "total_itr = 10\n",
        "acc_values = np.zeros(total_itr)\n",
        "for itr in range(0, 10):\n",
        "    X_train, X_test, y_train, y_test = train_test_split(X, y, test_size=0.3, random_state=itr)\n",
        "    clf = svm.SVC(kernel='linear', C=1).fit(X_train, y_train)\n",
        "    acc_values[itr] = clf.score(X_test, y_test)"
      ]
    },
    {
      "cell_type": "code",
      "execution_count": null,
      "metadata": {
        "id": "S86W1NwY5Rov",
        "colab": {
          "base_uri": "https://localhost:8080/"
        },
        "outputId": "650d9d14-b533-4669-d27f-ecb5d8917ce9"
      },
      "outputs": [
        {
          "output_type": "execute_result",
          "data": {
            "text/plain": [
              "array([0.73333333, 0.76666667, 0.71666667, 0.73333333, 0.81666667,\n",
              "       0.81666667, 0.76666667, 0.76666667, 0.76666667, 0.7       ])"
            ]
          },
          "metadata": {},
          "execution_count": 6
        }
      ],
      "source": [
        "acc_values"
      ]
    },
    {
      "cell_type": "markdown",
      "metadata": {
        "id": "U3UBYOft0D3a"
      },
      "source": [
        "Alternatively, cross validation (CV) could be deployed to test the performance of our models.\n",
        "The CV could also be combined with repeated testing. \n"
      ]
    },
    {
      "cell_type": "code",
      "execution_count": null,
      "metadata": {
        "id": "WBZL-fF54MGA",
        "colab": {
          "base_uri": "https://localhost:8080/"
        },
        "outputId": "4f2ffbf6-2182-4b6f-abc3-7df26f37af08"
      },
      "outputs": [
        {
          "output_type": "execute_result",
          "data": {
            "text/plain": [
              "array([0.775, 0.7  , 0.8  , 0.675, 0.675])"
            ]
          },
          "metadata": {},
          "execution_count": 7
        }
      ],
      "source": [
        "scores = cross_val_score(clf, X, y, cv=5, scoring='accuracy')\n",
        "scores"
      ]
    },
    {
      "cell_type": "markdown",
      "metadata": {
        "id": "ph7PpMKLEk4N"
      },
      "source": [
        "Stratified cross validation is a cross validation mechanism that provide train/test indices to split data in train/test sets.\n",
        "This cross-validation object is a variation of KFold that returns stratified folds. The folds are made by preserving the percentage of samples for each class. \n",
        "This is useful if we want to maintain the distributional information of the classes. \n"
      ]
    },
    {
      "cell_type": "code",
      "execution_count": null,
      "metadata": {
        "id": "u8cPfWJ14Vtg",
        "colab": {
          "base_uri": "https://localhost:8080/"
        },
        "outputId": "46d38d83-3798-4c62-b884-09c2b277e47f"
      },
      "outputs": [
        {
          "output_type": "stream",
          "name": "stdout",
          "text": [
            "StratifiedKFold\n",
            "train -  [108  52]   |   test -  [28 12]\n",
            "train -  [109  51]   |   test -  [27 13]\n",
            "train -  [109  51]   |   test -  [27 13]\n",
            "train -  [109  51]   |   test -  [27 13]\n",
            "train -  [109  51]   |   test -  [27 13]\n",
            "KFold\n",
            "train -  [112  48]   |   test -  [24 16]\n",
            "train -  [112  48]   |   test -  [24 16]\n",
            "train -  [108  52]   |   test -  [28 12]\n",
            "train -  [105  55]   |   test -  [31  9]\n",
            "train -  [107  53]   |   test -  [29 11]\n"
          ]
        }
      ],
      "source": [
        "from sklearn.model_selection import StratifiedKFold, KFold\n",
        "\n",
        "skf = StratifiedKFold(n_splits=5)\n",
        "print(\"StratifiedKFold\")\n",
        "for train, test in skf.split(X, y):\n",
        "  print('train -  {}   |   test -  {}'.format(\n",
        "  np.bincount(y[train]), np.bincount(y[test])))\n",
        "print(\"KFold\")\n",
        "kf = KFold(n_splits=5)\n",
        "for train, test in kf.split(X, y):\n",
        "  print('train -  {}   |   test -  {}'.format(\n",
        "  np.bincount(y[train]), np.bincount(y[test])))\n"
      ]
    },
    {
      "cell_type": "markdown",
      "metadata": {
        "id": "aDPeahMAEr7L"
      },
      "source": [
        "We apply this to split the data, train and test the model results. "
      ]
    },
    {
      "cell_type": "code",
      "execution_count": null,
      "metadata": {
        "id": "nybBTiFj9e7j",
        "colab": {
          "base_uri": "https://localhost:8080/"
        },
        "outputId": "365596c7-53b2-4521-c5bb-ad61c022478a"
      },
      "outputs": [
        {
          "output_type": "execute_result",
          "data": {
            "text/plain": [
              "array([0.775, 0.7  , 0.8  , 0.675, 0.675])"
            ]
          },
          "metadata": {},
          "execution_count": 10
        }
      ],
      "source": [
        "skf = StratifiedKFold(n_splits=5)\n",
        "acc_values_Stratified = np.zeros(5)\n",
        "\n",
        "for i, (train, test) in enumerate(skf.split(X, y)):\n",
        "    clf = svm.SVC(kernel='linear', C=1).fit(X.loc[train,:], y[train])\n",
        "    acc_values_Stratified[i] = clf.score(X.loc[test,:], y[test])\n",
        "acc_values_Stratified"
      ]
    },
    {
      "cell_type": "code",
      "execution_count": null,
      "metadata": {
        "id": "MT94RQ73_75m",
        "colab": {
          "base_uri": "https://localhost:8080/"
        },
        "outputId": "450c821c-b54d-4bf9-cb85-aef39593313e"
      },
      "outputs": [
        {
          "output_type": "execute_result",
          "data": {
            "text/plain": [
              "array([0.675, 0.75 , 0.675, 0.775, 0.775])"
            ]
          },
          "metadata": {},
          "execution_count": 11
        }
      ],
      "source": [
        "kf = KFold(n_splits=5)\n",
        "acc_values_noStratified = np.zeros(5)\n",
        "\n",
        "for i, (train, test) in enumerate(kf.split(X, y)):\n",
        "    clf = svm.SVC(kernel='linear', C=1).fit(X.loc[train,:], y[train])\n",
        "    acc_values_noStratified[i] = clf.score(X.loc[test,:], y[test])\n",
        "acc_values_noStratified"
      ]
    },
    {
      "cell_type": "markdown",
      "metadata": {
        "id": "ytJTMCtLJwu9"
      },
      "source": [
        "Noticeably, so far we use a fixed parameter value with C=1 for the support vector machine classifier. We can “tune” the classifier to adjust its performance. This is achieved by defining that the C could potentially draw numbers from a distribution with random search. "
      ]
    },
    {
      "cell_type": "code",
      "execution_count": null,
      "metadata": {
        "id": "5iZEuHG148cR",
        "colab": {
          "base_uri": "https://localhost:8080/"
        },
        "outputId": "182adde0-f9d6-4f4e-a653-65abd1cd49e6"
      },
      "outputs": [
        {
          "output_type": "execute_result",
          "data": {
            "text/plain": [
              "{'C': 2.4110535042865755}"
            ]
          },
          "metadata": {},
          "execution_count": 12
        }
      ],
      "source": [
        "from sklearn.model_selection import RandomizedSearchCV\n",
        "from scipy.stats import uniform\n",
        "\n",
        "distributions = dict(C=uniform(loc=0, scale=4))\n",
        "svc = svm.SVC(kernel='linear')\n",
        "clf = RandomizedSearchCV(svc, distributions,cv=5, random_state=0,n_iter=15)\n",
        "search = clf.fit(X_train, y_train)\n",
        "search.best_params_"
      ]
    },
    {
      "cell_type": "code",
      "source": [
        "search.cv_results_"
      ],
      "metadata": {
        "id": "96Bi_aPttdeq"
      },
      "execution_count": null,
      "outputs": []
    },
    {
      "cell_type": "code",
      "execution_count": null,
      "metadata": {
        "id": "6WVVUH11I437",
        "colab": {
          "base_uri": "https://localhost:8080/"
        },
        "outputId": "3e73a71a-8c83-49e9-89d4-18c1c25b75e5"
      },
      "outputs": [
        {
          "output_type": "execute_result",
          "data": {
            "text/plain": [
              "array([0.725, 0.7  , 0.8  , 0.675, 0.8  ])"
            ]
          },
          "metadata": {},
          "execution_count": 14
        }
      ],
      "source": [
        "skf = StratifiedKFold(n_splits=5)\n",
        "acc_values_Stratified = np.zeros(5)\n",
        "svc = svm.SVC(kernel='linear')\n",
        "for i, (train, test) in enumerate(skf.split(X, y)):\n",
        "    clf = RandomizedSearchCV(svc, distributions,cv=5, random_state=0)\n",
        "    search = clf.fit(X.loc[train,:], y[train])\n",
        "    acc_values_Stratified[i] = search.score(X.loc[test,:], y[test])\n",
        "acc_values_Stratified"
      ]
    },
    {
      "cell_type": "code",
      "execution_count": null,
      "metadata": {
        "id": "uX4iQnoLKzCK",
        "colab": {
          "base_uri": "https://localhost:8080/"
        },
        "outputId": "4101c7fa-cd0b-476e-eb78-7fd883491832"
      },
      "outputs": [
        {
          "output_type": "execute_result",
          "data": {
            "text/plain": [
              "array([0.725, 0.7  , 0.8  , 0.675, 0.8  ])"
            ]
          },
          "metadata": {},
          "execution_count": 15
        }
      ],
      "source": [
        "acc_values_Stratified"
      ]
    },
    {
      "cell_type": "markdown",
      "metadata": {
        "id": "aocneyXZUVDw"
      },
      "source": [
        "However, the tuning part of the code will not run, … simply because it takes too long to get the results during the lecture. The result was obtained outside of the lecture hours when I tested myself. You are encouraged to experience the code and check the results yourself outside of the lecture time as well.  "
      ]
    },
    {
      "cell_type": "code",
      "execution_count": null,
      "metadata": {
        "id": "kgLTzkuaK4D2",
        "colab": {
          "base_uri": "https://localhost:8080/"
        },
        "outputId": "7e20d337-d4cc-4b28-87fe-fb9cd54cd19e"
      },
      "outputs": [
        {
          "output_type": "stream",
          "name": "stdout",
          "text": [
            "0\n",
            "1\n",
            "2\n",
            "3\n",
            "4\n",
            "5\n",
            "6\n",
            "7\n",
            "8\n",
            "9\n"
          ]
        }
      ],
      "source": [
        "acc_values_notune = np.zeros(10)\n",
        "for itr in range(0,10):\n",
        "    print(itr)\n",
        "    skf = StratifiedKFold(n_splits=5,shuffle=True,random_state=itr)\n",
        "    for i, (train, test) in enumerate(skf.split(X, y)):\n",
        "      clf = svm.SVC(kernel='linear', C=1).fit(X.loc[train,:], y[train])\n",
        "      acc_values_Stratified[i] = clf.score(X.loc[test,:], y[test])\n",
        "    acc_values_notune[itr] = np.mean(acc_values_Stratified)"
      ]
    },
    {
      "cell_type": "code",
      "execution_count": null,
      "metadata": {
        "id": "LRy8WhR4MGo8",
        "colab": {
          "base_uri": "https://localhost:8080/"
        },
        "outputId": "87c0ec4d-7c8d-4c88-d2de-e74250ab2f42"
      },
      "outputs": [
        {
          "output_type": "execute_result",
          "data": {
            "text/plain": [
              "array([0.74 , 0.725, 0.71 , 0.75 , 0.725, 0.745, 0.725, 0.735, 0.735,\n",
              "       0.75 ])"
            ]
          },
          "metadata": {},
          "execution_count": 17
        }
      ],
      "source": [
        "acc_values_notune"
      ]
    },
    {
      "cell_type": "code",
      "execution_count": null,
      "metadata": {
        "id": "jDy5df2xMNyW",
        "colab": {
          "base_uri": "https://localhost:8080/"
        },
        "outputId": "9e34af2c-b22a-4aef-e958-5e37820a29b8"
      },
      "outputs": [
        {
          "output_type": "stream",
          "name": "stdout",
          "text": [
            "0\n",
            "1\n",
            "2\n",
            "3\n",
            "4\n",
            "5\n",
            "6\n",
            "7\n",
            "8\n",
            "9\n"
          ]
        }
      ],
      "source": [
        "acc_values_tune = np.zeros(10)\n",
        "for itr in range(0,10):\n",
        "    print(itr)\n",
        "    skf = StratifiedKFold(n_splits=5,shuffle=True,random_state=itr)\n",
        "    for i, (train, test) in enumerate(skf.split(X, y)):\n",
        "      clf = RandomizedSearchCV(svc, distributions,cv=5, random_state=0)\n",
        "      search = clf.fit(X.loc[train,:], y[train])\n",
        "      acc_values_Stratified[i] = search.score(X.loc[test,:], y[test])\n",
        "    acc_values_tune[itr] = np.mean(acc_values_Stratified)"
      ]
    },
    {
      "cell_type": "code",
      "execution_count": null,
      "metadata": {
        "id": "tEzGBjWcMbRX",
        "colab": {
          "base_uri": "https://localhost:8080/"
        },
        "outputId": "33ed6f41-4d31-4e63-809b-45788eceb604"
      },
      "outputs": [
        {
          "output_type": "execute_result",
          "data": {
            "text/plain": [
              "array([0.715, 0.73 , 0.71 , 0.76 , 0.735, 0.725, 0.725, 0.735, 0.73 ,\n",
              "       0.75 ])"
            ]
          },
          "metadata": {},
          "execution_count": 19
        }
      ],
      "source": [
        "acc_values_tune"
      ]
    },
    {
      "cell_type": "code",
      "execution_count": null,
      "metadata": {
        "id": "-3tZfak7TwKI"
      },
      "outputs": [],
      "source": [
        "acc_values_tune = [0.715, 0.73 , 0.71 , 0.76 , 0.735, 0.725, 0.725, 0.735, 0.73 ,\n",
        "       0.75 ]"
      ]
    },
    {
      "cell_type": "markdown",
      "metadata": {
        "id": "HDKSQVtuWE4m"
      },
      "source": [
        "Now we obtain the ten times of the average results from a SVM with fixed parameter and the ten times of the average accuracy result from a “tuned” SVM classifier. What could we conclude in terms of its performance? "
      ]
    },
    {
      "cell_type": "code",
      "execution_count": null,
      "metadata": {
        "id": "zilZOtHPV6zZ",
        "colab": {
          "base_uri": "https://localhost:8080/"
        },
        "outputId": "586e7e26-ef65-4cb4-f620-a0f80a93d9b1"
      },
      "outputs": [
        {
          "output_type": "execute_result",
          "data": {
            "text/plain": [
              "0.734"
            ]
          },
          "metadata": {},
          "execution_count": 28
        }
      ],
      "source": [
        "np.mean(acc_values_notune)"
      ]
    },
    {
      "cell_type": "code",
      "execution_count": null,
      "metadata": {
        "id": "CIgj7TPjWA5W",
        "colab": {
          "base_uri": "https://localhost:8080/"
        },
        "outputId": "6cf36fc9-0307-4dc6-f421-acdf587205cc"
      },
      "outputs": [
        {
          "output_type": "execute_result",
          "data": {
            "text/plain": [
              "0.7314999999999999"
            ]
          },
          "metadata": {},
          "execution_count": 29
        }
      ],
      "source": [
        "np.mean(acc_values_tune)"
      ]
    },
    {
      "cell_type": "markdown",
      "metadata": {
        "id": "g_3QuImiWLU_"
      },
      "source": [
        "Despite the numerical differences, is such difference significant? "
      ]
    },
    {
      "cell_type": "code",
      "execution_count": null,
      "metadata": {
        "id": "MRnQH_ZEUclu",
        "colab": {
          "base_uri": "https://localhost:8080/"
        },
        "outputId": "62de7595-bdb2-4d09-c0fe-673877f46b44"
      },
      "outputs": [
        {
          "output_type": "execute_result",
          "data": {
            "text/plain": [
              "Ttest_indResult(statistic=0.4013220814108344, pvalue=0.6929073910119481)"
            ]
          },
          "metadata": {},
          "execution_count": 30
        }
      ],
      "source": [
        "from scipy import stats\n",
        "stats.ttest_ind(acc_values_notune, acc_values_tune)"
      ]
    },
    {
      "cell_type": "code",
      "execution_count": null,
      "metadata": {
        "id": "2nn_BYXuUllP",
        "colab": {
          "base_uri": "https://localhost:8080/"
        },
        "outputId": "44de3a99-4156-466f-9d65-d3d9a46dca8f"
      },
      "outputs": [
        {
          "output_type": "execute_result",
          "data": {
            "text/plain": [
              "RanksumsResult(statistic=0.680336051416609, pvalue=0.49629170223109287)"
            ]
          },
          "metadata": {},
          "execution_count": 31
        }
      ],
      "source": [
        "from scipy.stats import ranksums\n",
        "ranksums(acc_values_notune, acc_values_tune)"
      ]
    },
    {
      "cell_type": "markdown",
      "metadata": {
        "id": "XCi8yOqiW7Kp"
      },
      "source": [
        "The p value of the t test and ranksum test both suggested that >0.05 hence we failed to reject the null hypotheses to conclude that the numerical differences in terms of accuracy is statistically significant. \n",
        "Some of you might argue then what is the benefit of using random search to perform parameter tuning. Please be aware that we only tested one model parameter. If you test other models, e.g. logistic regression and random forests, do you get a different result. Another reminder is that this dataset is rather small, it is a subset of the original dataset. We might get different results if we test on other datasets. \n",
        "This, sounds like a good exercise for you after the lecture. 😀\n"
      ]
    },
    {
      "cell_type": "markdown",
      "source": [
        "Last but not least, bootstrapping using sampling with replacement could generate repetitive copies of data to allow us to perform cross validation testing on each repetitions. "
      ],
      "metadata": {
        "id": "gu7A5hexouEg"
      }
    },
    {
      "cell_type": "code",
      "source": [
        "from sklearn.utils import resample\n",
        "svc = svm.SVC(kernel='linear')\n",
        "acc_values_tune = np.zeros(3)\n",
        "for itr in range(0,3):\n",
        "    print(itr)\n",
        "    bankloan_data_s = resample(bankloan_data, n_samples=len(X), stratify=y,random_state=itr)\n",
        "    y_s = bankloan_data_s['Default']\n",
        "    X_s = bankloan_data_s.drop(columns=['Default'])\n",
        "    skf = StratifiedKFold(n_splits=5,shuffle=True,random_state=itr)\n",
        "    for i, (train, test) in enumerate(skf.split(X_s, y_s)):\n",
        "        clf = RandomizedSearchCV(svc, distributions,cv=5, random_state=0)\n",
        "        search = clf.fit(X_s.iloc[train,:], y_s.iloc[train])\n",
        "        acc_values_Stratified[i] = search.score(X_s.iloc[test,:], y_s.iloc[test])\n",
        "    acc_values_tune[itr] = np.mean(acc_values_Stratified)"
      ],
      "metadata": {
        "id": "QmECWrht-nbm",
        "colab": {
          "base_uri": "https://localhost:8080/"
        },
        "outputId": "1113ce93-fb6e-4b21-b69f-f2408a0f68a3"
      },
      "execution_count": null,
      "outputs": [
        {
          "output_type": "stream",
          "name": "stdout",
          "text": [
            "0\n",
            "1\n",
            "2\n"
          ]
        }
      ]
    },
    {
      "cell_type": "code",
      "source": [
        "acc_values_tune"
      ],
      "metadata": {
        "id": "cHcQQ8uFB-lw",
        "colab": {
          "base_uri": "https://localhost:8080/"
        },
        "outputId": "17bfc4c7-9966-4770-ba03-55071fa70bb0"
      },
      "execution_count": null,
      "outputs": [
        {
          "output_type": "execute_result",
          "data": {
            "text/plain": [
              "array([0.765, 0.735, 0.775])"
            ]
          },
          "metadata": {},
          "execution_count": 33
        }
      ]
    }
  ],
  "metadata": {
    "colab": {
      "provenance": []
    },
    "kernelspec": {
      "display_name": "Python 3",
      "name": "python3"
    },
    "language_info": {
      "name": "python"
    }
  },
  "nbformat": 4,
  "nbformat_minor": 0
}