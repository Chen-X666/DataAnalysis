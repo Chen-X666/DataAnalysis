{
 "cells": [
  {
   "cell_type": "markdown",
   "metadata": {
    "colab_type": "text",
    "id": "view-in-github"
   },
   "source": [
    "<a href=\"https://colab.research.google.com/github/CBravoR/AdvancedAnalyticsLabs/blob/master/Lab_6_Scorecards_and_Ensembles.ipynb\" target=\"_parent\"><img src=\"https://colab.research.google.com/assets/colab-badge.svg\" alt=\"Open In Colab\"/></a>"
   ]
  },
  {
   "cell_type": "markdown",
   "metadata": {
    "colab_type": "text",
    "id": "mORzER5q7ZsK"
   },
   "source": [
    "# Scorecards and Ensembles\n",
    "\n",
    "In this lab we will focus on developing a scorecard using our WoE-trained dataset, and will compare it with a Random Forest created over the original data. For this, we will first import the data and re-train our original logistic regression.\n",
    "\n"
   ]
  },
  {
   "cell_type": "markdown",
   "metadata": {
    "colab_type": "text",
    "id": "rHyEtC9T8VGs"
   },
   "source": [
    "## Imports and preparation"
   ]
  },
  {
   "cell_type": "code",
   "execution_count": 0,
   "metadata": {
    "colab": {
     "base_uri": "https://localhost:8080/",
     "height": 609
    },
    "colab_type": "code",
    "id": "XQnvq4b08TNp",
    "outputId": "35706a7b-05f5-46f7-fef5-b9e04c346b2d"
   },
   "outputs": [
    {
     "name": "stdout",
     "output_type": "stream",
     "text": [
      "--2019-03-08 10:09:25--  https://docs.google.com/spreadsheets/d/1bF5W0KAx6JytFWdKiPegMaqKgW05QEID3aAJ__ACdX4/export?gid=321666387&format=csv\n",
      "Resolving docs.google.com (docs.google.com)... 74.125.197.101, 74.125.197.138, 74.125.197.100, ...\n",
      "Connecting to docs.google.com (docs.google.com)|74.125.197.101|:443... connected.\n",
      "HTTP request sent, awaiting response... 200 OK\n",
      "Length: unspecified [text/csv]\n",
      "Saving to: ‘Bankloan_train_WoE.csv’\n",
      "\n",
      "Bankloan_train_WoE.     [ <=>                ]  42.28K  --.-KB/s    in 0s      \n",
      "\n",
      "2019-03-08 10:09:26 (83.6 MB/s) - ‘Bankloan_train_WoE.csv’ saved [43292]\n",
      "\n",
      "--2019-03-08 10:09:27--  https://docs.google.com/spreadsheets/d/1hXxctlWRq3eX2BlWmhkaCSqeRKG8_u3uL3l5MEh_dJQ/export?gid=1493454936&format=csv\n",
      "Resolving docs.google.com (docs.google.com)... 74.125.195.101, 74.125.195.100, 74.125.195.138, ...\n",
      "Connecting to docs.google.com (docs.google.com)|74.125.195.101|:443... connected.\n",
      "HTTP request sent, awaiting response... 200 OK\n",
      "Length: unspecified [text/csv]\n",
      "Saving to: ‘Bankloan_test_WoE.csv’\n",
      "\n",
      "Bankloan_test_WoE.c     [ <=>                ]  23.34K  --.-KB/s    in 0s      \n",
      "\n",
      "2019-03-08 10:09:27 (63.1 MB/s) - ‘Bankloan_test_WoE.csv’ saved [23898]\n",
      "\n",
      "--2019-03-08 10:09:28--  https://docs.google.com/spreadsheets/d/1Am74y2ZVQ6dRFYVZUv_VoyP-OTS8BM4x0svifHQvtNc/export?gid=819627738&format=csv\n",
      "Resolving docs.google.com (docs.google.com)... 74.125.142.113, 74.125.142.101, 74.125.142.102, ...\n",
      "Connecting to docs.google.com (docs.google.com)|74.125.142.113|:443... connected.\n",
      "HTTP request sent, awaiting response... 200 OK\n",
      "Length: unspecified [text/csv]\n",
      "Saving to: ‘Bankloan.csv’\n",
      "\n",
      "Bankloan.csv            [ <=>                ]  65.91K  --.-KB/s    in 0.04s   \n",
      "\n",
      "2019-03-08 10:09:28 (1.73 MB/s) - ‘Bankloan.csv’ saved [67496]\n",
      "\n"
     ]
    }
   ],
   "source": [
    "# Import the csv files from last week.\n",
    "!wget --no-check-certificate --output-document=Bankloan_train_WoE.csv 'https://docs.google.com/spreadsheets/d/1bF5W0KAx6JytFWdKiPegMaqKgW05QEID3aAJ__ACdX4/export?gid=321666387&format=csv'\n",
    "!wget --no-check-certificate --output-document=Bankloan_test_WoE.csv 'https://docs.google.com/spreadsheets/d/1hXxctlWRq3eX2BlWmhkaCSqeRKG8_u3uL3l5MEh_dJQ/export?gid=1493454936&format=csv'\n",
    "!wget --no-check-certificate --output-document=Bankloan.csv 'https://docs.google.com/spreadsheets/d/1Am74y2ZVQ6dRFYVZUv_VoyP-OTS8BM4x0svifHQvtNc/export?gid=819627738&format=csv'"
   ]
  },
  {
   "cell_type": "code",
   "execution_count": 0,
   "metadata": {
    "colab": {
     "base_uri": "https://localhost:8080/",
     "height": 401
    },
    "colab_type": "code",
    "id": "7pYwtDRG-GVo",
    "outputId": "5eb512a2-75a5-42b6-a4c3-45daaf7f8b22"
   },
   "outputs": [
    {
     "name": "stdout",
     "output_type": "stream",
     "text": [
      "Collecting scorecardpy\n",
      "\u001b[?25l  Downloading https://files.pythonhosted.org/packages/13/df/9a43a4ce941d081d38b2a3e3fc89625c5da511a2187dabf687f6bd73dcbb/scorecardpy-0.1.7.tar.gz (51kB)\n",
      "\u001b[K    100% |████████████████████████████████| 61kB 4.2MB/s \n",
      "\u001b[?25hRequirement already satisfied: numpy in /usr/local/lib/python3.6/dist-packages (from scorecardpy) (1.14.6)\n",
      "Requirement already satisfied: pandas>=0.22.0 in /usr/local/lib/python3.6/dist-packages (from scorecardpy) (0.22.0)\n",
      "Requirement already satisfied: matplotlib in /usr/local/lib/python3.6/dist-packages (from scorecardpy) (3.0.3)\n",
      "Requirement already satisfied: scikit-learn>=0.19.1 in /usr/local/lib/python3.6/dist-packages (from scorecardpy) (0.20.3)\n",
      "Requirement already satisfied: python-dateutil>=2 in /usr/local/lib/python3.6/dist-packages (from pandas>=0.22.0->scorecardpy) (2.5.3)\n",
      "Requirement already satisfied: pytz>=2011k in /usr/local/lib/python3.6/dist-packages (from pandas>=0.22.0->scorecardpy) (2018.9)\n",
      "Requirement already satisfied: kiwisolver>=1.0.1 in /usr/local/lib/python3.6/dist-packages (from matplotlib->scorecardpy) (1.0.1)\n",
      "Requirement already satisfied: pyparsing!=2.0.4,!=2.1.2,!=2.1.6,>=2.0.1 in /usr/local/lib/python3.6/dist-packages (from matplotlib->scorecardpy) (2.3.1)\n",
      "Requirement already satisfied: cycler>=0.10 in /usr/local/lib/python3.6/dist-packages (from matplotlib->scorecardpy) (0.10.0)\n",
      "Requirement already satisfied: scipy>=0.13.3 in /usr/local/lib/python3.6/dist-packages (from scikit-learn>=0.19.1->scorecardpy) (1.1.0)\n",
      "Requirement already satisfied: six>=1.5 in /usr/local/lib/python3.6/dist-packages (from python-dateutil>=2->pandas>=0.22.0->scorecardpy) (1.11.0)\n",
      "Requirement already satisfied: setuptools in /usr/local/lib/python3.6/dist-packages (from kiwisolver>=1.0.1->matplotlib->scorecardpy) (40.8.0)\n",
      "Building wheels for collected packages: scorecardpy\n",
      "  Building wheel for scorecardpy (setup.py) ... \u001b[?25ldone\n",
      "\u001b[?25h  Stored in directory: /root/.cache/pip/wheels/9d/bb/1b/057d286ee8ebb34714b4004b13f4dc71b619b41f7868cf6f98\n",
      "Successfully built scorecardpy\n",
      "Installing collected packages: scorecardpy\n",
      "Successfully installed scorecardpy-0.1.7\n"
     ]
    }
   ],
   "source": [
    "pip install scorecardpy"
   ]
  },
  {
   "cell_type": "code",
   "execution_count": 1,
   "metadata": {
    "colab": {},
    "colab_type": "code",
    "id": "Kuz712WQ9rxQ"
   },
   "outputs": [],
   "source": [
    "import pandas as pd\n",
    "import scorecardpy as sc\n",
    "import numpy as np"
   ]
  },
  {
   "cell_type": "code",
   "execution_count": 2,
   "metadata": {
    "colab": {},
    "colab_type": "code",
    "id": "8HemZO3l8kho"
   },
   "outputs": [
    {
     "name": "stdout",
     "output_type": "stream",
     "text": [
      "[INFO] creating woe binning ...\n"
     ]
    }
   ],
   "source": [
    "# Import the files as Pandas datasets\n",
    "bankloan_train_WoE = pd.read_csv('Bankloan_train_WoE.csv')\n",
    "bankloan_test_WoE = pd.read_csv('Bankloan_test_WoE.csv')\n",
    "bankloan_data = pd.read_csv('Bankloan.csv')\n",
    "\n",
    "# Same filters as before\n",
    "bankloan_data = bankloan_data.loc[(bankloan_data['Income'] < 300) &\n",
    "                                  (bankloan_data['Creddebt'] < 15) & \n",
    "                                  (bankloan_data['OthDebt'] < 30)]\n",
    "\n",
    "# Eliminate unused variables\n",
    "bankloan_data = bankloan_data.drop(columns=['Education', 'Income', 'OthDebt'])\n",
    "\n",
    "# Same train-test split as before (because of seed!)\n",
    "bankloan_train_noWoE, bankloan_test_noWoE = sc.split_df(bankloan_data.iloc[:, 1:],\n",
    "                                                        y = 'Default',\n",
    "                                                        ratio = 0.7,\n",
    "                                                        seed = 20190227).values()\n",
    "\n",
    "# Give breaks for WoE\n",
    "breaks_adj = {\n",
    "    'MonthlyLoad': [0.1, 0.30000000000000004, 0.7000000000000001],\n",
    "    'Address': [1.0, 2.0, 8.0, 17],\n",
    "    'Leverage': [6.0, 14.0, 17.0],\n",
    "    'Creddebt': [1.0, 3.0, 5.0],\n",
    "    'Employ': [1.0, 4.0, 17.0],\n",
    "    'Age': [23.0, 31.0, 47.0]\n",
    "}\n",
    "\n",
    "\n",
    "# Apply breaks.\n",
    "bins_adj = sc.woebin(bankloan_train_noWoE, y=\"Default\",\n",
    "                     breaks_list=breaks_adj)\n"
   ]
  },
  {
   "cell_type": "code",
   "execution_count": 3,
   "metadata": {
    "colab": {
     "base_uri": "https://localhost:8080/",
     "height": 156
    },
    "colab_type": "code",
    "id": "g3diknG1AY4L",
    "outputId": "84856bb1-3195-4880-b34b-44182efe7de0"
   },
   "outputs": [
    {
     "name": "stdout",
     "output_type": "stream",
     "text": [
      "convergence after 14 epochs took 0 seconds\n"
     ]
    },
    {
     "name": "stderr",
     "output_type": "stream",
     "text": [
      "[Parallel(n_jobs=1)]: Using backend SequentialBackend with 1 concurrent workers.\n",
      "[Parallel(n_jobs=1)]: Done   1 out of   1 | elapsed:    0.0s finished\n"
     ]
    },
    {
     "data": {
      "text/plain": [
       "LogisticRegression(C=1.0, class_weight='balanced', dual=False,\n",
       "                   fit_intercept=True, intercept_scaling=1, l1_ratio=None,\n",
       "                   max_iter=100, multi_class='warn', n_jobs=None, penalty='l1',\n",
       "                   random_state=20190301, solver='saga', tol=0.0001, verbose=1,\n",
       "                   warm_start=False)"
      ]
     },
     "execution_count": 3,
     "metadata": {},
     "output_type": "execute_result"
    }
   ],
   "source": [
    "from sklearn.linear_model import LogisticRegression\n",
    "\n",
    "bankloan_logreg = LogisticRegression(penalty='l1', # Type of penalization l1 = lasso, l2 = ridge\n",
    "                                     tol=0.0001, # Tolerance for parameters\n",
    "                                     C=1.0, # Penalty constant, see below\n",
    "                                     fit_intercept=True, # Use constant?\n",
    "                                     class_weight='balanced', # Weights, see below\n",
    "                                     random_state=20190301, # Random seed\n",
    "                                     max_iter=100, # Maximum iterations\n",
    "                                     verbose=1, # Show process. 1 is yes.\n",
    "                                     solver = 'saga',\n",
    "                                     warm_start=False # Train anew or start from previous weights. For repeated training. \n",
    "                                    )\n",
    "\n",
    "bankloan_logreg.fit(X = bankloan_train_WoE.iloc[:, 1:], # All rows and from the second var to end\n",
    "                    y = bankloan_train_WoE['Default'] # The target\n",
    "                   )"
   ]
  },
  {
   "cell_type": "markdown",
   "metadata": {
    "colab_type": "text",
    "id": "uJjWkrOE-aOx"
   },
   "source": [
    "## Scorecard\n",
    "\n",
    "The first step is to create a scorecard. The package ```scorecardpy``` has the function ```scorecard``` which receives a trained WoE model, a trained scorecard **over the same variables** and a list of matched columns (that is, the order of columns in the scorecard). As optional arguments it receives a PDO, a base score, and decimal base odds (so instead of 50:1, it receives 0.02)."
   ]
  },
  {
   "cell_type": "code",
   "execution_count": 20,
   "metadata": {
    "colab": {},
    "colab_type": "code",
    "id": "3_rWpgv1-MeZ"
   },
   "outputs": [],
   "source": [
    "bankloan_sc = sc.scorecard(bins_adj, bankloan_logreg, \n",
    "             bankloan_train_WoE.columns[1:], # The column names in the trained LR\n",
    "             points0=600, # Base points\n",
    "             odds0=0.01, # Base odds\n",
    "             pdo=50) # PDO \n"
   ]
  },
  {
   "cell_type": "code",
   "execution_count": 21,
   "metadata": {
    "colab": {
     "base_uri": "https://localhost:8080/",
     "height": 419
    },
    "colab_type": "code",
    "id": "chi2xT93G-Wt",
    "outputId": "f2fec665-68d9-4385-af35-03bc3b902d13"
   },
   "outputs": [
    {
     "data": {
      "text/plain": [
       "{'basepoints':      variable  bin  points\n",
       " 0  basepoints  NaN   268.0,\n",
       " 'MonthlyLoad':        variable                                       bin  points\n",
       " 21  MonthlyLoad                                [-inf,0.1)    31.0\n",
       " 22  MonthlyLoad                 [0.1,0.30000000000000004)    13.0\n",
       " 23  MonthlyLoad  [0.30000000000000004,0.7000000000000001)    -9.0\n",
       " 24  MonthlyLoad                  [0.7000000000000001,inf)   -32.0,\n",
       " 'Leverage':     variable          bin  points\n",
       " 17  Leverage   [-inf,6.0)    45.0\n",
       " 18  Leverage   [6.0,14.0)     5.0\n",
       " 19  Leverage  [14.0,17.0)   -33.0\n",
       " 20  Leverage   [17.0,inf)   -74.0,\n",
       " 'Creddebt':     variable         bin  points\n",
       " 13  Creddebt  [-inf,1.0)    38.0\n",
       " 14  Creddebt   [1.0,3.0)   -25.0\n",
       " 15  Creddebt   [3.0,5.0)    -2.0\n",
       " 16  Creddebt   [5.0,inf)  -126.0,\n",
       " 'Employ':   variable         bin  points\n",
       " 0   Employ  [-inf,1.0)   -68.0\n",
       " 1   Employ   [1.0,4.0)   -25.0\n",
       " 2   Employ  [4.0,17.0)    33.0\n",
       " 3   Employ  [17.0,inf)   250.0,\n",
       " 'Age':    variable          bin  points\n",
       " 9       Age  [-inf,23.0)   -37.0\n",
       " 10      Age  [23.0,31.0)   -15.0\n",
       " 11      Age  [31.0,47.0)    12.0\n",
       " 12      Age   [47.0,inf)    86.0}"
      ]
     },
     "execution_count": 21,
     "metadata": {},
     "output_type": "execute_result"
    }
   ],
   "source": [
    "bankloan_sc"
   ]
  },
  {
   "cell_type": "markdown",
   "metadata": {
    "colab_type": "text",
    "id": "TzS2UDs1IUqG"
   },
   "source": [
    "Now we have the credit score. It is in a slightly different format than the one we saw in the lectures, with a baseline points for everyone (the sum of the neutral scores) and with points per variable. Still, the analyses are the same and the points per-category can give an indication of which categories are better or worse. \n",
    "\n",
    "We will now get the credit scores per case."
   ]
  },
  {
   "cell_type": "code",
   "execution_count": 22,
   "metadata": {
    "colab": {
     "base_uri": "https://localhost:8080/",
     "height": 245
    },
    "colab_type": "code",
    "id": "LIbQmfmuHGRk",
    "outputId": "d61ae09d-f6a5-47ca-d129-729b3a37c294"
   },
   "outputs": [
    {
     "name": "stderr",
     "output_type": "stream",
     "text": [
      "C:\\Apps\\Anaconda3\\lib\\site-packages\\pandas\\core\\indexing.py:376: SettingWithCopyWarning: \n",
      "A value is trying to be set on a copy of a slice from a DataFrame.\n",
      "Try using .loc[row_indexer,col_indexer] = value instead\n",
      "\n",
      "See the caveats in the documentation: http://pandas.pydata.org/pandas-docs/stable/user_guide/indexing.html#returning-a-view-versus-a-copy\n",
      "  self.obj[key] = _infer_fill_value(value)\n",
      "C:\\Apps\\Anaconda3\\lib\\site-packages\\pandas\\core\\indexing.py:576: SettingWithCopyWarning: \n",
      "A value is trying to be set on a copy of a slice from a DataFrame.\n",
      "Try using .loc[row_indexer,col_indexer] = value instead\n",
      "\n",
      "See the caveats in the documentation: http://pandas.pydata.org/pandas-docs/stable/user_guide/indexing.html#returning-a-view-versus-a-copy\n",
      "  self.obj[item_labels[indexer[info_axis]]] = value\n"
     ]
    }
   ],
   "source": [
    "# Applying the credit score. Applies over the original data!\n",
    "train_score = sc.scorecard_ply(bankloan_train_noWoE, bankloan_sc, \n",
    "                               print_step=0)\n",
    "test_score = sc.scorecard_ply(bankloan_test_noWoE, bankloan_sc, \n",
    "                               print_step=0)"
   ]
  },
  {
   "cell_type": "code",
   "execution_count": 23,
   "metadata": {
    "colab": {
     "base_uri": "https://localhost:8080/",
     "height": 294
    },
    "colab_type": "code",
    "id": "mNIH0bFmHX-X",
    "outputId": "a86115e8-29f2-4f31-80d0-7056c1b02894"
   },
   "outputs": [
    {
     "data": {
      "text/html": [
       "<div>\n",
       "<style scoped>\n",
       "    .dataframe tbody tr th:only-of-type {\n",
       "        vertical-align: middle;\n",
       "    }\n",
       "\n",
       "    .dataframe tbody tr th {\n",
       "        vertical-align: top;\n",
       "    }\n",
       "\n",
       "    .dataframe thead th {\n",
       "        text-align: right;\n",
       "    }\n",
       "</style>\n",
       "<table border=\"1\" class=\"dataframe\">\n",
       "  <thead>\n",
       "    <tr style=\"text-align: right;\">\n",
       "      <th></th>\n",
       "      <th>score</th>\n",
       "    </tr>\n",
       "  </thead>\n",
       "  <tbody>\n",
       "    <tr>\n",
       "      <th>count</th>\n",
       "      <td>1026.000000</td>\n",
       "    </tr>\n",
       "    <tr>\n",
       "      <th>mean</th>\n",
       "      <td>297.252437</td>\n",
       "    </tr>\n",
       "    <tr>\n",
       "      <th>std</th>\n",
       "      <td>140.504733</td>\n",
       "    </tr>\n",
       "    <tr>\n",
       "      <th>min</th>\n",
       "      <td>-69.000000</td>\n",
       "    </tr>\n",
       "    <tr>\n",
       "      <th>25%</th>\n",
       "      <td>201.000000</td>\n",
       "    </tr>\n",
       "    <tr>\n",
       "      <th>50%</th>\n",
       "      <td>281.000000</td>\n",
       "    </tr>\n",
       "    <tr>\n",
       "      <th>75%</th>\n",
       "      <td>364.000000</td>\n",
       "    </tr>\n",
       "    <tr>\n",
       "      <th>max</th>\n",
       "      <td>718.000000</td>\n",
       "    </tr>\n",
       "  </tbody>\n",
       "</table>\n",
       "</div>"
      ],
      "text/plain": [
       "             score\n",
       "count  1026.000000\n",
       "mean    297.252437\n",
       "std     140.504733\n",
       "min     -69.000000\n",
       "25%     201.000000\n",
       "50%     281.000000\n",
       "75%     364.000000\n",
       "max     718.000000"
      ]
     },
     "execution_count": 23,
     "metadata": {},
     "output_type": "execute_result"
    }
   ],
   "source": [
    "train_score.describe()"
   ]
  },
  {
   "cell_type": "markdown",
   "metadata": {
    "colab_type": "text",
    "id": "3NX3tmthJMgu"
   },
   "source": [
    "And that's it! We have a fully functional credit scorecard. We will contrast this with two more models: a Random Forest and an XGBoost model."
   ]
  },
  {
   "cell_type": "markdown",
   "metadata": {
    "colab_type": "text",
    "id": "fup34HDIJWwM"
   },
   "source": [
    "## Random Forests\n",
    "\n",
    "Now we will train a random forest. It is included in the ```sklearn.ensemble``` subpackage, function [```RandomForestClassifier```](https://scikit-learn.org/stable/modules/generated/sklearn.ensemble.RandomForestClassifier.html), so it is straightforward to use. It comes with many parameters, but in general there is a philosophy to follow:\n",
    "\n",
    "- In a Random Forest we want each tree to be large, and to learn as much as possible from its subset of data. We don't care too much if each tree is overadjusted, as we can always increase the number of trees to take care of this.\n",
    "\n",
    "- This said, a good idea is to limit the minimum number of samples per leaf when we have few cases (this is not usually a problem in large trees.)\n",
    "\n",
    "- We might want to limit the minimum impurity decrease to stop growing a tree if not much is happening.\n",
    "\n",
    "- There is also a class weight to include. It does include one automatically if we use the option ```balanced```.\n",
    "\n",
    "Let's train one and check the options."
   ]
  },
  {
   "cell_type": "code",
   "execution_count": 24,
   "metadata": {
    "colab": {},
    "colab_type": "code",
    "id": "VHCrdH0rJgMk"
   },
   "outputs": [],
   "source": [
    "from sklearn.ensemble import RandomForestClassifier\n",
    "bankloan_rf = RandomForestClassifier(n_estimators=1000, # Number of trees to train\n",
    "                       criterion='gini', # How to train the trees. Also supports entropy.\n",
    "                       max_depth=None, # Max depth of the trees. Not necessary to change.\n",
    "                       min_samples_split=2, # Minimum samples to create a split.\n",
    "                       min_samples_leaf=0.001, # Minimum samples in a leaf. Accepts fractions for %. This is 0.1% of sample.\n",
    "                       min_weight_fraction_leaf=0.0, # Same as above, but uses the class weights.\n",
    "                       max_features='auto', # Maximum number of features per split (not tree!) by default is sqrt(vars)\n",
    "                       max_leaf_nodes=None, # Maximum number of nodes.\n",
    "                       min_impurity_decrease=0.0001, # Minimum impurity decrease. This is 10^-3.\n",
    "                       bootstrap=True, # If sample with repetition. For large samples (>100.000) set to false.\n",
    "                       oob_score=True,  # If report accuracy with non-selected cases.\n",
    "                       n_jobs=-1, # Parallel processing. Set to -1 for all cores. Watch your RAM!!\n",
    "                       random_state=20190305, # Seed\n",
    "                       verbose=1, # If to give info during training. Set to 0 for silent training.\n",
    "                       warm_start=False, # If train over previously trained tree.\n",
    "                       class_weight='balanced'\n",
    "                                    )"
   ]
  },
  {
   "cell_type": "markdown",
   "metadata": {
    "colab_type": "text",
    "id": "6q4nSoXeUNPn"
   },
   "source": [
    "Now we are ready to train. We just give it our original training set variables and target."
   ]
  },
  {
   "cell_type": "code",
   "execution_count": 25,
   "metadata": {
    "colab": {},
    "colab_type": "code",
    "id": "ew3Slc5uULsU"
   },
   "outputs": [
    {
     "data": {
      "text/html": [
       "<div>\n",
       "<style scoped>\n",
       "    .dataframe tbody tr th:only-of-type {\n",
       "        vertical-align: middle;\n",
       "    }\n",
       "\n",
       "    .dataframe tbody tr th {\n",
       "        vertical-align: top;\n",
       "    }\n",
       "\n",
       "    .dataframe thead th {\n",
       "        text-align: right;\n",
       "    }\n",
       "</style>\n",
       "<table border=\"1\" class=\"dataframe\">\n",
       "  <thead>\n",
       "    <tr style=\"text-align: right;\">\n",
       "      <th></th>\n",
       "      <th>Age</th>\n",
       "      <th>Employ</th>\n",
       "      <th>Address</th>\n",
       "      <th>Leverage</th>\n",
       "      <th>Creddebt</th>\n",
       "      <th>MonthlyLoad</th>\n",
       "      <th>Default</th>\n",
       "    </tr>\n",
       "  </thead>\n",
       "  <tbody>\n",
       "    <tr>\n",
       "      <th>count</th>\n",
       "      <td>1026.000000</td>\n",
       "      <td>1026.000000</td>\n",
       "      <td>1026.000000</td>\n",
       "      <td>1026.000000</td>\n",
       "      <td>1026.000000</td>\n",
       "      <td>1026.000000</td>\n",
       "      <td>1026.000000</td>\n",
       "    </tr>\n",
       "    <tr>\n",
       "      <th>mean</th>\n",
       "      <td>33.880117</td>\n",
       "      <td>6.573099</td>\n",
       "      <td>6.116959</td>\n",
       "      <td>9.911988</td>\n",
       "      <td>1.693226</td>\n",
       "      <td>0.370409</td>\n",
       "      <td>0.363548</td>\n",
       "    </tr>\n",
       "    <tr>\n",
       "      <th>std</th>\n",
       "      <td>12.767117</td>\n",
       "      <td>8.433442</td>\n",
       "      <td>5.851659</td>\n",
       "      <td>6.484323</td>\n",
       "      <td>2.029981</td>\n",
       "      <td>0.287490</td>\n",
       "      <td>0.481255</td>\n",
       "    </tr>\n",
       "    <tr>\n",
       "      <th>min</th>\n",
       "      <td>18.000000</td>\n",
       "      <td>0.000000</td>\n",
       "      <td>0.000000</td>\n",
       "      <td>0.000000</td>\n",
       "      <td>0.000000</td>\n",
       "      <td>0.000000</td>\n",
       "      <td>0.000000</td>\n",
       "    </tr>\n",
       "    <tr>\n",
       "      <th>25%</th>\n",
       "      <td>24.000000</td>\n",
       "      <td>0.000000</td>\n",
       "      <td>2.000000</td>\n",
       "      <td>4.900000</td>\n",
       "      <td>0.400000</td>\n",
       "      <td>0.160000</td>\n",
       "      <td>0.000000</td>\n",
       "    </tr>\n",
       "    <tr>\n",
       "      <th>50%</th>\n",
       "      <td>31.000000</td>\n",
       "      <td>3.000000</td>\n",
       "      <td>5.000000</td>\n",
       "      <td>8.650000</td>\n",
       "      <td>0.940000</td>\n",
       "      <td>0.295000</td>\n",
       "      <td>0.000000</td>\n",
       "    </tr>\n",
       "    <tr>\n",
       "      <th>75%</th>\n",
       "      <td>41.000000</td>\n",
       "      <td>9.000000</td>\n",
       "      <td>9.000000</td>\n",
       "      <td>13.700000</td>\n",
       "      <td>2.020000</td>\n",
       "      <td>0.500000</td>\n",
       "      <td>1.000000</td>\n",
       "    </tr>\n",
       "    <tr>\n",
       "      <th>max</th>\n",
       "      <td>77.000000</td>\n",
       "      <td>51.000000</td>\n",
       "      <td>34.000000</td>\n",
       "      <td>36.800000</td>\n",
       "      <td>13.410000</td>\n",
       "      <td>2.110000</td>\n",
       "      <td>1.000000</td>\n",
       "    </tr>\n",
       "  </tbody>\n",
       "</table>\n",
       "</div>"
      ],
      "text/plain": [
       "               Age       Employ      Address     Leverage     Creddebt  \\\n",
       "count  1026.000000  1026.000000  1026.000000  1026.000000  1026.000000   \n",
       "mean     33.880117     6.573099     6.116959     9.911988     1.693226   \n",
       "std      12.767117     8.433442     5.851659     6.484323     2.029981   \n",
       "min      18.000000     0.000000     0.000000     0.000000     0.000000   \n",
       "25%      24.000000     0.000000     2.000000     4.900000     0.400000   \n",
       "50%      31.000000     3.000000     5.000000     8.650000     0.940000   \n",
       "75%      41.000000     9.000000     9.000000    13.700000     2.020000   \n",
       "max      77.000000    51.000000    34.000000    36.800000    13.410000   \n",
       "\n",
       "       MonthlyLoad      Default  \n",
       "count  1026.000000  1026.000000  \n",
       "mean      0.370409     0.363548  \n",
       "std       0.287490     0.481255  \n",
       "min       0.000000     0.000000  \n",
       "25%       0.160000     0.000000  \n",
       "50%       0.295000     0.000000  \n",
       "75%       0.500000     1.000000  \n",
       "max       2.110000     1.000000  "
      ]
     },
     "execution_count": 25,
     "metadata": {},
     "output_type": "execute_result"
    }
   ],
   "source": [
    "bankloan_train_noWoE.describe()"
   ]
  },
  {
   "cell_type": "code",
   "execution_count": 26,
   "metadata": {
    "colab": {
     "base_uri": "https://localhost:8080/",
     "height": 235
    },
    "colab_type": "code",
    "id": "JzZRHQpZUd0x",
    "outputId": "b6cdb7fe-59ed-4bcf-c7fd-65c5fd008f02"
   },
   "outputs": [
    {
     "name": "stderr",
     "output_type": "stream",
     "text": [
      "[Parallel(n_jobs=-1)]: Using backend ThreadingBackend with 8 concurrent workers.\n",
      "[Parallel(n_jobs=-1)]: Done  34 tasks      | elapsed:    0.0s\n",
      "[Parallel(n_jobs=-1)]: Done 184 tasks      | elapsed:    0.0s\n",
      "[Parallel(n_jobs=-1)]: Done 434 tasks      | elapsed:    0.1s\n",
      "[Parallel(n_jobs=-1)]: Done 784 tasks      | elapsed:    0.3s\n",
      "[Parallel(n_jobs=-1)]: Done 1000 out of 1000 | elapsed:    0.4s finished\n"
     ]
    },
    {
     "data": {
      "text/plain": [
       "RandomForestClassifier(bootstrap=True, class_weight='balanced',\n",
       "                       criterion='gini', max_depth=None, max_features='auto',\n",
       "                       max_leaf_nodes=None, min_impurity_decrease=0.0001,\n",
       "                       min_impurity_split=None, min_samples_leaf=0.001,\n",
       "                       min_samples_split=2, min_weight_fraction_leaf=0.0,\n",
       "                       n_estimators=1000, n_jobs=-1, oob_score=True,\n",
       "                       random_state=20190305, verbose=1, warm_start=False)"
      ]
     },
     "execution_count": 26,
     "metadata": {},
     "output_type": "execute_result"
    }
   ],
   "source": [
    "bankloan_rf.fit(bankloan_train_noWoE.iloc[:,:-1], \n",
    "               bankloan_train_noWoE['Default'])"
   ]
  },
  {
   "cell_type": "markdown",
   "metadata": {
    "colab_type": "text",
    "id": "ouI571SgUsEs"
   },
   "source": [
    "We can see it used two jobs (two processors are available to us in this Google Colab server). It converges very quickly. Let's check how it did, this time we will print a nicer confusion matrix using seaborn, and will plot the ROC curve of the model. "
   ]
  },
  {
   "cell_type": "code",
   "execution_count": 27,
   "metadata": {
    "colab": {
     "base_uri": "https://localhost:8080/",
     "height": 218
    },
    "colab_type": "code",
    "id": "HDZAnTvYUnpD",
    "outputId": "eba6219e-5f3e-43c4-ae3f-93ea00150686"
   },
   "outputs": [
    {
     "name": "stderr",
     "output_type": "stream",
     "text": [
      "[Parallel(n_jobs=8)]: Using backend ThreadingBackend with 8 concurrent workers.\n",
      "[Parallel(n_jobs=8)]: Done  34 tasks      | elapsed:    0.0s\n",
      "[Parallel(n_jobs=8)]: Done 184 tasks      | elapsed:    0.0s\n",
      "[Parallel(n_jobs=8)]: Done 434 tasks      | elapsed:    0.0s\n",
      "[Parallel(n_jobs=8)]: Done 784 tasks      | elapsed:    0.0s\n",
      "[Parallel(n_jobs=8)]: Done 1000 out of 1000 | elapsed:    0.0s finished\n",
      "[Parallel(n_jobs=8)]: Using backend ThreadingBackend with 8 concurrent workers.\n",
      "[Parallel(n_jobs=8)]: Done  34 tasks      | elapsed:    0.0s\n",
      "[Parallel(n_jobs=8)]: Done 184 tasks      | elapsed:    0.0s\n",
      "[Parallel(n_jobs=8)]: Done 434 tasks      | elapsed:    0.0s\n",
      "[Parallel(n_jobs=8)]: Done 784 tasks      | elapsed:    0.0s\n",
      "[Parallel(n_jobs=8)]: Done 1000 out of 1000 | elapsed:    0.0s finished\n"
     ]
    }
   ],
   "source": [
    "from sklearn.metrics import roc_auc_score, confusion_matrix, roc_curve\n",
    "\n",
    "# Apply the model to the test set.\n",
    "rf_pred_class_test = bankloan_rf.predict(bankloan_test_noWoE.iloc[:, :-1])\n",
    "rf_probs_test = bankloan_rf.predict_proba(bankloan_test_noWoE.iloc[:, :-1])"
   ]
  },
  {
   "cell_type": "code",
   "execution_count": 28,
   "metadata": {
    "colab": {
     "base_uri": "https://localhost:8080/",
     "height": 465
    },
    "colab_type": "code",
    "id": "uwW2hVgBVkZX",
    "outputId": "7116c2ff-c7e5-418d-dc5e-f24d0f74cb30"
   },
   "outputs": [
    {
     "data": {
      "image/png": "[encoded data removed]",
      "text/plain": [
       "<Figure size 720x504 with 2 Axes>"
      ]
     },
     "metadata": {
      "needs_background": "light"
     },
     "output_type": "display_data"
    }
   ],
   "source": [
    "import seaborn as sns\n",
    "import matplotlib.pyplot as plt\n",
    "import numpy as np\n",
    "%matplotlib inline\n",
    "\n",
    "# Calculate confusion matrix\n",
    "confusion_matrix_rf = confusion_matrix(y_true = bankloan_test_noWoE['Default'], \n",
    "                    y_pred = rf_pred_class_test)\n",
    "\n",
    "# Turn matrix to percentages\n",
    "confusion_matrix_rf = confusion_matrix_rf.astype('float') / confusion_matrix_rf.sum(axis=1)[:, np.newaxis]\n",
    "\n",
    "# Turn to dataframe\n",
    "df_cm = pd.DataFrame(\n",
    "        confusion_matrix_rf, index=['good', 'bad'], columns=['good', 'bad'], \n",
    ")\n",
    "\n",
    "# Parameters of the image\n",
    "figsize = (10,7)\n",
    "fontsize=14\n",
    "\n",
    "# Create image\n",
    "fig = plt.figure(figsize=figsize)\n",
    "heatmap = sns.heatmap(df_cm, annot=True, fmt='.2f')\n",
    "\n",
    "# Make it nicer\n",
    "heatmap.yaxis.set_ticklabels(heatmap.yaxis.get_ticklabels(), rotation=0, \n",
    "                             ha='right', fontsize=fontsize)\n",
    "heatmap.xaxis.set_ticklabels(heatmap.xaxis.get_ticklabels(), rotation=45,\n",
    "                             ha='right', fontsize=fontsize)\n",
    "\n",
    "# Add labels\n",
    "plt.ylabel('True label')\n",
    "plt.xlabel('Predicted label')\n",
    "\n",
    "# Plot!\n",
    "plt.show()"
   ]
  },
  {
   "cell_type": "markdown",
   "metadata": {
    "colab_type": "text",
    "id": "w46guL4bXh6B"
   },
   "source": [
    "Looks a bit unbalanced, but otherwise ok. It's harder to predict the defaulters. Now let's see the ROC curve."
   ]
  },
  {
   "cell_type": "code",
   "execution_count": 29,
   "metadata": {
    "colab": {
     "base_uri": "https://localhost:8080/",
     "height": 265
    },
    "colab_type": "code",
    "id": "38LrSbkeVmEo",
    "outputId": "bb9c6c12-060e-48d3-c5ba-b203c8dc09da"
   },
   "outputs": [
    {
     "data": {
      "image/png": "[encoded data removed]",
      "text/plain": [
       "<Figure size 432x288 with 1 Axes>"
      ]
     },
     "metadata": {
      "needs_background": "light"
     },
     "output_type": "display_data"
    }
   ],
   "source": [
    "# Calculate the ROC curve points\n",
    "fpr, tpr, thresholds = roc_curve(bankloan_test_noWoE['Default'], rf_probs_test[:,1])\n",
    "\n",
    "# Save the AUC in a variable to display it. Round it first\n",
    "auc = np.round(roc_auc_score(y_true = bankloan_test_noWoE['Default'], \n",
    "                             y_score = rf_probs_test[:,1]),\n",
    "              decimals = 3)\n",
    "\n",
    "# Create and show the plot\n",
    "plt.plot(fpr,tpr,label=\"Bankloan RF, auc=\"+str(auc))\n",
    "plt.legend(loc=4)\n",
    "plt.show()"
   ]
  },
  {
   "cell_type": "markdown",
   "metadata": {
    "colab_type": "text",
    "id": "7bF-ic7GYN2g"
   },
   "source": [
    "That's it! Now we'll compare this with an XGBoost and see which one of our three models is better."
   ]
  },
  {
   "cell_type": "code",
   "execution_count": 30,
   "metadata": {
    "colab": {
     "base_uri": "https://localhost:8080/",
     "height": 118
    },
    "colab_type": "code",
    "id": "nfVlwHjk6dDt",
    "outputId": "4220b9d0-156b-44f1-e232-4e82cadf9138"
   },
   "outputs": [
    {
     "name": "stdout",
     "output_type": "stream",
     "text": [
      "Age = 0.14\n",
      "Employ = 0.18\n",
      "Address = 0.08\n",
      "Leverage = 0.21\n",
      "Creddebt = 0.18\n",
      "MonthlyLoad = 0.22\n"
     ]
    }
   ],
   "source": [
    "for name, importance in zip(bankloan_train_noWoE.columns[:-1], bankloan_rf.feature_importances_):\n",
    "  print(name, \"= %.2f\" % importance)"
   ]
  },
  {
   "cell_type": "markdown",
   "metadata": {
    "colab_type": "text",
    "id": "dspGHED8YVl6"
   },
   "source": [
    "## XGBoosting\n",
    "\n",
    "The stochastic gradient boosting model is the alternative to Random Forest. Now we want to create a series of small trees, which will be poorer in performance, but together they will be stronger. Training an XGBoost model is harder, because we need to control the model so it creates small trees, but it performs better in small data, something Random Forests do not necessarily accomplish.\n",
    "\n",
    "Again, this is part of the ```sklearn.ensemble``` "
   ]
  },
  {
   "cell_type": "code",
   "execution_count": 31,
   "metadata": {
    "colab": {},
    "colab_type": "code",
    "id": "p2WDsujNYNBD"
   },
   "outputs": [],
   "source": [
    "from sklearn.ensemble import GradientBoostingClassifier\n",
    "bankloan_xg = GradientBoostingClassifier(loss='deviance', # How to calculate losses. Deviance is for probabilistic outputs. Alternative exponential for AdaBoost. \n",
    "                           learning_rate=0.1, # How much to shrink error in each subsequent training. Trade-off with no. estimators.\n",
    "                           n_estimators=100, # How many trees to use, the more the better, but decrease learning rate if many used.\n",
    "                           subsample=0.632, # Subsampling to use. 63.2% of data is standard for XGBoost.\n",
    "                           criterion='friedman_mse', # Error to use for each split. Good idea to leave it as is.\n",
    "                           min_samples_split=2, # Minimum samples for a split.\n",
    "                           min_samples_leaf=1, # Minimum samples in a leaf.\n",
    "                           min_weight_fraction_leaf=0.0, # Minimum fraction of samples in a leaf. Consider increasing if first few trees too good.\n",
    "                           max_depth=3, # Maximum depth. Keep it small!\n",
    "                           min_impurity_decrease=0.01, # Minimum impurity decrease. Might want to use 1% or so.\n",
    "                           init=None, # How to make first prediction (it needs one). Can give model that supports fit and predict.\n",
    "                           random_state=20190305, # Seed\n",
    "                           max_features='auto', # Same as RF. \n",
    "                           verbose=1,  # Same as RF.\n",
    "                           max_leaf_nodes=None,  # Same as RF.\n",
    "                           warm_start=False,  # Same as RF.\n",
    "                           presort='auto', # Whether to presort the data to speed up training.\n",
    "                           validation_fraction=0.3, # XGBoost CAN overfit, so control this just in case. Uses 30% validation in this case.\n",
    "                           n_iter_no_change=None, # Iters to stop training if no change occurs between one tree and the next.\n",
    "                           tol=0.0001 # Tolerance. Means maximum change of 10^-4\n",
    "                          )"
   ]
  },
  {
   "cell_type": "code",
   "execution_count": 32,
   "metadata": {
    "colab": {
     "base_uri": "https://localhost:8080/",
     "height": 504
    },
    "colab_type": "code",
    "id": "r74qw-D7X6LG",
    "outputId": "bee176d8-d3fc-4ead-b5b5-5c05bae7a76a"
   },
   "outputs": [
    {
     "name": "stdout",
     "output_type": "stream",
     "text": [
      "      Iter       Train Loss      OOB Improve   Remaining Time \n",
      "         1           1.2588           0.0447            0.10s\n",
      "         2           1.2266           0.0321            0.10s\n",
      "         3           1.1718           0.0331            0.10s\n",
      "         4           1.1468           0.0271            0.10s\n",
      "         5           1.1062           0.0130            0.09s\n",
      "         6           1.1150           0.0202            0.11s\n",
      "         7           1.0807           0.0158            0.11s\n",
      "         8           1.0648           0.0123            0.10s\n",
      "         9           1.0334           0.0115            0.10s\n",
      "        10           1.0339           0.0091            0.11s\n",
      "        20           0.9152           0.0001            0.08s\n",
      "        30           0.8771           0.0005            0.07s\n",
      "        40           0.8341          -0.0019            0.06s\n",
      "        50           0.8222          -0.0041            0.05s\n",
      "        60           0.7780          -0.0018            0.04s\n",
      "        70           0.7420          -0.0043            0.03s\n",
      "        80           0.7391          -0.0025            0.02s\n",
      "        90           0.7429          -0.0040            0.01s\n",
      "       100           0.6932          -0.0036            0.00s\n"
     ]
    },
    {
     "data": {
      "text/plain": [
       "GradientBoostingClassifier(criterion='friedman_mse', init=None,\n",
       "                           learning_rate=0.1, loss='deviance', max_depth=3,\n",
       "                           max_features='auto', max_leaf_nodes=None,\n",
       "                           min_impurity_decrease=0.01, min_impurity_split=None,\n",
       "                           min_samples_leaf=1, min_samples_split=2,\n",
       "                           min_weight_fraction_leaf=0.0, n_estimators=100,\n",
       "                           n_iter_no_change=None, presort='auto',\n",
       "                           random_state=20190305, subsample=0.632, tol=0.0001,\n",
       "                           validation_fraction=0.3, verbose=1,\n",
       "                           warm_start=False)"
      ]
     },
     "execution_count": 32,
     "metadata": {},
     "output_type": "execute_result"
    }
   ],
   "source": [
    "bankloan_xg.fit(bankloan_train_noWoE.iloc[:,:-1], \n",
    "                bankloan_train_noWoE['Default'])"
   ]
  },
  {
   "cell_type": "markdown",
   "metadata": {
    "colab_type": "text",
    "id": "pwbV--RybzOl"
   },
   "source": [
    "The verbose option gives us the error reduction. We can see it did not converge with our requested tolerance, we might want to increase the number of trees, although with 1000 cases it makes sense this will not happen.\n",
    "\n",
    "Let's calculate the efficiency metrics."
   ]
  },
  {
   "cell_type": "code",
   "execution_count": 33,
   "metadata": {
    "colab": {},
    "colab_type": "code",
    "id": "lDFSYNHZbutt"
   },
   "outputs": [],
   "source": [
    "# Apply the model to the test set.\n",
    "xg_pred_class_test = bankloan_xg.predict(bankloan_test_noWoE.iloc[:, :-1])\n",
    "xg_probs_test = bankloan_xg.predict_proba(bankloan_test_noWoE.iloc[:, :-1])"
   ]
  },
  {
   "cell_type": "code",
   "execution_count": 34,
   "metadata": {
    "colab": {
     "base_uri": "https://localhost:8080/",
     "height": 465
    },
    "colab_type": "code",
    "id": "Ezp9txTJcP24",
    "outputId": "7f0a5804-d4de-44b7-e5b3-b7e40850b4e7"
   },
   "outputs": [
    {
     "data": {
      "image/png": "[encoded data removed]",
      "text/plain": [
       "<Figure size 720x504 with 2 Axes>"
      ]
     },
     "metadata": {
      "needs_background": "light"
     },
     "output_type": "display_data"
    }
   ],
   "source": [
    "# Calculate confusion matrix\n",
    "confusion_matrix_xg = confusion_matrix(y_true = bankloan_test_noWoE['Default'], \n",
    "                    y_pred = xg_pred_class_test)\n",
    "\n",
    "# Turn matrix to percentages\n",
    "confusion_matrix_xg = confusion_matrix_xg.astype('float') / confusion_matrix_xg.sum(axis=1)[:, np.newaxis]\n",
    "\n",
    "# Turn to dataframe\n",
    "df_cm = pd.DataFrame(\n",
    "        confusion_matrix_xg, index=['good', 'bad'], columns=['good', 'bad'], \n",
    ")\n",
    "\n",
    "# Parameters of the image\n",
    "figsize = (10,7)\n",
    "fontsize=14\n",
    "\n",
    "# Create image\n",
    "fig = plt.figure(figsize=figsize)\n",
    "heatmap = sns.heatmap(df_cm, annot=True, fmt='.2f')\n",
    "\n",
    "# Make it nicer\n",
    "heatmap.yaxis.set_ticklabels(heatmap.yaxis.get_ticklabels(), rotation=0, \n",
    "                             ha='right', fontsize=fontsize)\n",
    "heatmap.xaxis.set_ticklabels(heatmap.xaxis.get_ticklabels(), rotation=45,\n",
    "                             ha='right', fontsize=fontsize)\n",
    "\n",
    "# Add labels\n",
    "plt.ylabel('True label')\n",
    "plt.xlabel('Predicted label')\n",
    "\n",
    "# Plot!\n",
    "plt.show()"
   ]
  },
  {
   "cell_type": "markdown",
   "metadata": {
    "colab_type": "text",
    "id": "cpyA8KBxcfFH"
   },
   "source": [
    "Very similar results. Now there is no chance to use sample weights sadly, so the solution is a bit more unbalanced. This is not too much of an issue though, as we can always change the cutoff point to account for the unbalance.\n",
    "\n",
    "Let's check the ROC curve."
   ]
  },
  {
   "cell_type": "code",
   "execution_count": 35,
   "metadata": {
    "colab": {
     "base_uri": "https://localhost:8080/",
     "height": 265
    },
    "colab_type": "code",
    "id": "3_0flCysccED",
    "outputId": "7d0ea5c5-4bbc-4b5f-b9c7-bd4ddaef9d6f"
   },
   "outputs": [
    {
     "data": {
      "image/png": "[encoded data removed]",
      "text/plain": [
       "<Figure size 432x288 with 1 Axes>"
      ]
     },
     "metadata": {
      "needs_background": "light"
     },
     "output_type": "display_data"
    }
   ],
   "source": [
    "# Calculate the ROC curve points\n",
    "fpr, tpr, thresholds = roc_curve(bankloan_test_noWoE['Default'], xg_probs_test[:,1])\n",
    "\n",
    "# Save the AUC in a variable to display it. Round it first\n",
    "auc = np.round(roc_auc_score(y_true = bankloan_test_noWoE['Default'], \n",
    "                             y_score = xg_probs_test[:,1]),\n",
    "              decimals = 3)\n",
    "\n",
    "# Create and show the plot\n",
    "plt.plot(fpr,tpr,label=\"Bankloan XG, auc=\"+str(auc))\n",
    "plt.legend(loc=4)\n",
    "plt.show()"
   ]
  },
  {
   "cell_type": "markdown",
   "metadata": {
    "colab_type": "text",
    "id": "GLfzRGq5depF"
   },
   "source": [
    "We can see however the XGBoost is slightly better than the Random Forest. This is probably not statistically significant though."
   ]
  },
  {
   "cell_type": "markdown",
   "metadata": {
    "colab_type": "text",
    "id": "Se_ELvsedrdy"
   },
   "source": [
    "## Self-Study: Plotting multiple ROC curves\n",
    "\n",
    "The last thing we would like to do is to plot multiple ROC curves in one graph. This is fairly straightforward, we just pass  the ```plt.plot``` command each of the ROC curves. I'll do dynamically using a dictionary and a for loop. "
   ]
  },
  {
   "cell_type": "code",
   "execution_count": 36,
   "metadata": {
    "colab": {},
    "colab_type": "code",
    "id": "s9h7TVw_dWuJ"
   },
   "outputs": [],
   "source": [
    "# Predict probabilities of scorecard.\n",
    "logreg_probs_test = bankloan_logreg.predict_proba(bankloan_test_WoE.iloc[:, 1:])"
   ]
  },
  {
   "cell_type": "code",
   "execution_count": 37,
   "metadata": {
    "colab": {
     "base_uri": "https://localhost:8080/",
     "height": 294
    },
    "colab_type": "code",
    "id": "RC-nLoGbfFjF",
    "outputId": "13f5d6af-d497-43c0-e7dc-e87fa826e394"
   },
   "outputs": [
    {
     "data": {
      "image/png": "[encoded data removed]",
      "text/plain": [
       "<Figure size 432x288 with 1 Axes>"
      ]
     },
     "metadata": {
      "needs_background": "light"
     },
     "output_type": "display_data"
    }
   ],
   "source": [
    "# Set models and probabilities. This structure is called a dictionary.\n",
    "models = [\n",
    "{\n",
    "    'label': 'Logistic Regression',\n",
    "    'probs': logreg_probs_test[:,1]\n",
    "},\n",
    "{\n",
    "    'label': 'Gradient Boosting',\n",
    "    'probs': xg_probs_test[:,1]\n",
    "},\n",
    "{\n",
    "    'label': 'Random Forest',\n",
    "    'probs': rf_probs_test[:,1]\n",
    "}\n",
    "]\n",
    "\n",
    "# Loop that creates the plot. I will pass each ROC curve one by one.\n",
    "for m in models:\n",
    "  auc = roc_auc_score(y_true = bankloan_test_noWoE['Default'], \n",
    "                             y_score = m['probs'])\n",
    "  fpr, tpr, thresholds = roc_curve(bankloan_test_WoE['Default'], \n",
    "                                           m['probs'])\n",
    "  plt.plot(fpr, tpr, label='%s ROC (area = %0.3f)' % (m['label'], auc))\n",
    "                 \n",
    "\n",
    "    \n",
    "# Settings\n",
    "plt.plot([0, 1], [0, 1],'r--')\n",
    "plt.xlim([0.0, 1.0])\n",
    "plt.ylim([0.0, 1.05])\n",
    "plt.xlabel('1-Specificity(False Positive Rate)')\n",
    "plt.ylabel('Sensitivity(True Positive Rate)')\n",
    "plt.title('Receiver Operating Characteristic')\n",
    "plt.legend(loc=\"lower right\")\n",
    "    \n",
    "# Plot!    \n",
    "plt.show()"
   ]
  },
  {
   "cell_type": "markdown",
   "metadata": {
    "colab_type": "text",
    "id": "GCGjuwb2hW04"
   },
   "source": [
    "I introduced several new concepts here. First, a dictionary. A dictionary is a very useful structure, which allows to have values indexed by a name. Every item will have their own values for its name, here the 'label' and 'probs'. I use this as an input for the for loop.\n",
    "\n",
    "Second, check the part\n",
    "\n",
    "```\n",
    "label='%s ROC (area = %0.3f)' % (m['label'], auc)\n",
    "```\n",
    "\n",
    "of the plot definition. Note the ```%s``` and ```%0.3f``` in the string. This is a magic command that tells Python \"this is a variable, in a certain format. Go look for it outside and match it in order\". So in this case we have two:\n",
    "\n",
    "- An ```%s``` which means 'This is a string'.\n",
    "- A ```%0.3f``` which means 'This is a float (decimal), and I want it formatted using three decimals'.\n",
    "\n",
    "Outside the string there is a ```% (m['label'], auc)```. This is matched one by one, the ```%s``` to the ```m['label']``` (the string), and the ```%0.3f``` to the ```auc```. This way I can create dynamically labels. Remember to use these tricks to simplify your life! "
   ]
  }
 ],
 "metadata": {
  "colab": {
   "collapsed_sections": [],
   "include_colab_link": true,
   "name": "Lab 6 - Scorecards and Ensembles.ipynb",
   "provenance": [],
   "version": "0.3.2"
  },
  "kernelspec": {
   "display_name": "Python 3",
   "language": "python",
   "name": "python3"
  },
  "language_info": {
   "codemirror_mode": {
    "name": "ipython",
    "version": 3
   },
   "file_extension": ".py",
   "mimetype": "text/x-python",
   "name": "python",
   "nbconvert_exporter": "python",
   "pygments_lexer": "ipython3",
   "version": "3.7.3"
  }
 },
 "nbformat": 4,
 "nbformat_minor": 1
}
