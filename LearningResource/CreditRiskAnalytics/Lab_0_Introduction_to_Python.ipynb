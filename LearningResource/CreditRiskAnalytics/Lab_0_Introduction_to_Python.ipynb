{
  "nbformat": 4,
  "nbformat_minor": 0,
  "metadata": {
    "colab": {
      "name": "Lab_0_Introduction_to_Python.ipynb",
      "provenance": [],
      "collapsed_sections": []
    },
    "kernelspec": {
      "display_name": "Python 3",
      "language": "python",
      "name": "python3"
    },
    "language_info": {
      "codemirror_mode": {
        "name": "ipython",
        "version": 3
      },
      "file_extension": ".py",
      "mimetype": "text/x-python",
      "name": "python",
      "nbconvert_exporter": "python",
      "pygments_lexer": "ipython3",
      "version": "3.7.3"
    }
  },
  "cells": [
    {
      "cell_type": "markdown",
      "metadata": {
        "id": "view-in-github"
      },
      "source": [
        "<a href=\"https://colab.research.google.com/github/CBravoR/AdvancedAnalyticsLabs/blob/master/Lab_1_Introduction_to_Python.ipynb\" target=\"_parent\"><img src=\"https://colab.research.google.com/assets/colab-badge.svg\" alt=\"Open In Colab\"/></a>"
      ]
    },
    {
      "cell_type": "markdown",
      "metadata": {
        "id": "2p47TocEO2oN"
      },
      "source": [
        "# Markdown\n",
        "\n",
        "Now we can use cells!\n",
        "\n",
        "This is markdown cell. We can write **augmented html** here. Markdown has *many* options. I suggest reading the tutorial <a href=\"https://www.markdowntutorial.com/\">here</a>.\n",
        "\n",
        "Some basics:\n",
        "\n",
        "- Starting a line with a dash (\"-\") creates a vignetted list.\n",
        "\n",
        "- Writing a sentence between two asteriks (like `**this**`) **bolds it**.\n",
        "\n",
        "- Writing a sentence between one asterisk (like `*this*`)*emphazises it* (italics).\n",
        "\n",
        "- To write verbatim, use \"code\" formatting. Surrounding a sentence with grave accents writes it as you wrote it.  `I can write without getting words *emphasized* nor **bolded**`.\n",
        "\n",
        "- To write a block of code, add three grave accents (```) both at the beginning and the end.\n",
        "\n",
        "```\n",
        "This is a block of code.\n",
        "Many lines can be written verbatim.\n",
        "**no bolding**, *nor emphasis* is applied.\n",
        "```\n",
        "\n",
        "To create an enumeration, simply add the number and a dot.\n",
        "\n",
        "1. I am number one.\n",
        "\n",
        "2. And I number two.\n",
        "\n",
        "3. And me number three.\n",
        "\n",
        "Titles and subtitles are written using multiple hash signs.\n",
        "\n",
        "# Title 1\n",
        "## Title 2\n",
        "### Title 3\n",
        "\n",
        "\n",
        "And, remember this is HTML! You can use everything the language offers. Some other useful tricks:\n",
        "\n",
        "- Create a hyperlink: [I link to Google!](http://www.google.com). (Write `[I link to Google!](http://www.google.com)`, or more generally, `[any text you want](any address you want to go to)`)\n",
        "\n",
        "- Add an image:\n",
        "\n",
        "![University logo](https://upload.wikimedia.org/wikipedia/commons/a/a7/University_of_Southampton_Logo.svg)\n",
        "\n",
        "Write `![University logo](https://upload.wikimedia.org/wikipedia/commons/a/a7/University_of_Southampton_Logo.svg)` or, more generally, `![alt-text](link-to-figure)`. You can also use relative paths if the figures are local, i.e., `![alt-text](University_of_Southampton_Logo.svg)` looks for 'University_of_Southampton_Logo.svg' in your own folder.\n",
        "\n",
        "Many more things can be done. A short cheatsheet is available [here](https://github.com/adam-p/markdown-here/wiki/Markdown-Here-Cheatsheet)\n"
      ]
    },
    {
      "cell_type": "markdown",
      "metadata": {
        "id": "0fNoXS23PC0i"
      },
      "source": [
        "# Our first program: Python as a calculator\n",
        "\n",
        "We will now start using Python! Python is really simple:"
      ]
    },
    {
      "cell_type": "code",
      "metadata": {
        "colab": {
          "base_uri": "https://localhost:8080/"
        },
        "id": "LkUC9r_ZO8EC",
        "outputId": "1559a7ea-ba4a-4463-e7d2-5bd85c7f721f"
      },
      "source": [
        "# Comment using the hash sign.\n",
        "# A simple sum.\n",
        "1+1"
      ],
      "execution_count": null,
      "outputs": [
        {
          "output_type": "execute_result",
          "data": {
            "text/plain": [
              "2"
            ]
          },
          "metadata": {
            "tags": []
          },
          "execution_count": 2
        }
      ]
    },
    {
      "cell_type": "code",
      "metadata": {
        "colab": {
          "base_uri": "https://localhost:8080/"
        },
        "id": "YLPaH67YPRpO",
        "outputId": "244843e3-c2ed-42fe-ddd0-067a560d8ae9"
      },
      "source": [
        "# Variables are assigned using the equal '=' sign.\n",
        "\n",
        "a = 1\n",
        "a"
      ],
      "execution_count": null,
      "outputs": [
        {
          "output_type": "execute_result",
          "data": {
            "text/plain": [
              "1"
            ]
          },
          "metadata": {
            "tags": []
          },
          "execution_count": 3
        }
      ]
    },
    {
      "cell_type": "code",
      "metadata": {
        "colab": {
          "base_uri": "https://localhost:8080/"
        },
        "id": "och2ak-PPWFK",
        "outputId": "d58c93c5-3b86-40da-f16f-4f85dfb11513"
      },
      "source": [
        "# Variables can be many things!\n",
        "a = 1\n",
        "b = 'Hi!'\n",
        "\n",
        "\n",
        "# We can show the value of a variable using the \"print\" function.\n",
        "# Functions in general are NAME(VARIABLES)\n",
        "print(a)\n",
        "print(b)"
      ],
      "execution_count": null,
      "outputs": [
        {
          "output_type": "stream",
          "text": [
            "1\n",
            "Hi!\n"
          ],
          "name": "stdout"
        }
      ]
    },
    {
      "cell_type": "code",
      "metadata": {
        "colab": {
          "base_uri": "https://localhost:8080/",
          "height": 35
        },
        "id": "egLJvPrLPlc3",
        "outputId": "137fe332-a4cc-4a38-cff1-a9f2d08403f9"
      },
      "source": [
        "# You can add variables of the same type! They behave as you would expect\n",
        "# Sum two text variables to concatenate them\n",
        "c = ' How are you?'\n",
        "b + c"
      ],
      "execution_count": null,
      "outputs": [
        {
          "output_type": "execute_result",
          "data": {
            "application/vnd.google.colaboratory.intrinsic+json": {
              "type": "string"
            },
            "text/plain": [
              "'Hi! How are you?'"
            ]
          },
          "metadata": {
            "tags": []
          },
          "execution_count": 5
        }
      ]
    },
    {
      "cell_type": "code",
      "metadata": {
        "colab": {
          "base_uri": "https://localhost:8080/",
          "height": 35
        },
        "id": "GkjE5DsRPq_8",
        "outputId": "abd53e41-1c5b-4004-d65a-1c3d450615d0"
      },
      "source": [
        "# You can index using square brackets: []\n",
        "\n",
        "# IMPORTANT: PYTHON INDEXES START AT 0\n",
        "\n",
        "# Let's extract the first letter of our variable 'b'.\n",
        "\n",
        "b[0]"
      ],
      "execution_count": null,
      "outputs": [
        {
          "output_type": "execute_result",
          "data": {
            "application/vnd.google.colaboratory.intrinsic+json": {
              "type": "string"
            },
            "text/plain": [
              "'H'"
            ]
          },
          "metadata": {
            "tags": []
          },
          "execution_count": 6
        }
      ]
    },
    {
      "cell_type": "code",
      "metadata": {
        "colab": {
          "base_uri": "https://localhost:8080/",
          "height": 35
        },
        "id": "8xi4RsJ-QJl6",
        "outputId": "016773ff-d717-499d-d81b-01bb44b2142b"
      },
      "source": [
        "b[1]"
      ],
      "execution_count": null,
      "outputs": [
        {
          "output_type": "execute_result",
          "data": {
            "application/vnd.google.colaboratory.intrinsic+json": {
              "type": "string"
            },
            "text/plain": [
              "'i'"
            ]
          },
          "metadata": {
            "tags": []
          },
          "execution_count": 7
        }
      ]
    },
    {
      "cell_type": "code",
      "metadata": {
        "colab": {
          "base_uri": "https://localhost:8080/",
          "height": 35
        },
        "id": "V_z88wznQK4L",
        "outputId": "040aefa4-f855-4eda-bbd8-709eca041300"
      },
      "source": [
        "b[0] + b[1]"
      ],
      "execution_count": null,
      "outputs": [
        {
          "output_type": "execute_result",
          "data": {
            "application/vnd.google.colaboratory.intrinsic+json": {
              "type": "string"
            },
            "text/plain": [
              "'Hi'"
            ]
          },
          "metadata": {
            "tags": []
          },
          "execution_count": 8
        }
      ]
    },
    {
      "cell_type": "markdown",
      "metadata": {
        "id": "fR37XoRHQRkQ"
      },
      "source": [
        "Remember: **Indexes of an array or a matrix start at zero!**"
      ]
    },
    {
      "cell_type": "markdown",
      "metadata": {
        "id": "1wadUZS6Qazg"
      },
      "source": [
        "# Lists\n",
        "\n",
        "The basic data structure is a list. A list is simply a collection of things. Let's create a list called 'my_list'"
      ]
    },
    {
      "cell_type": "code",
      "metadata": {
        "id": "xj4iqu9ZQaND"
      },
      "source": [
        "my_list = [1, 'Hello!', 3, 4.57]"
      ],
      "execution_count": null,
      "outputs": []
    },
    {
      "cell_type": "code",
      "metadata": {
        "id": "bekH26XAQdg7"
      },
      "source": [
        "my_list[0] + my_list[3]"
      ],
      "execution_count": null,
      "outputs": []
    },
    {
      "cell_type": "code",
      "metadata": {
        "id": "N4WgssQmQjy8"
      },
      "source": [
        "my_list[1]"
      ],
      "execution_count": null,
      "outputs": []
    },
    {
      "cell_type": "markdown",
      "metadata": {
        "id": "EuL2jfjWQwE4"
      },
      "source": [
        "What happens if we add two different types?"
      ]
    },
    {
      "cell_type": "code",
      "metadata": {
        "id": "2LeXvYqqQlp6"
      },
      "source": [
        "my_list[1] + my_list[3]"
      ],
      "execution_count": null,
      "outputs": []
    },
    {
      "cell_type": "markdown",
      "metadata": {
        "id": "O6vKfrUfQ0qn"
      },
      "source": [
        "To read the error: always start at the end, it will hint what's wrong. In this case, it is the \n",
        "\n",
        "```\n",
        "TypeError: must be str, not float\n",
        "```\n",
        "That suggests that something (in this case 'my_list[3]') must be a string, not a float (a decimal number). Python does **not** allow for operating over multiple types. We must convert to the same type first. We can't really turn a string into a number, but we can do the opposite.\n",
        "\n",
        "We will use the internal function ```str()``` to turn the number into a string. The full list of internal functions [can be found here](https://docs.python.org/3/library/functions.html)."
      ]
    },
    {
      "cell_type": "code",
      "metadata": {
        "id": "36jYc8ZnQnjs"
      },
      "source": [
        "my_list[1] + str(my_list[3])"
      ],
      "execution_count": null,
      "outputs": []
    },
    {
      "cell_type": "code",
      "metadata": {
        "id": "Ud9lWQ1GXEj3"
      },
      "source": [
        "# Making it a bit nicer looking\n",
        "my_list[1] + ' ' + str(my_list[3])"
      ],
      "execution_count": null,
      "outputs": []
    },
    {
      "cell_type": "markdown",
      "metadata": {
        "id": "8Jh2IRWAXNR0"
      },
      "source": [
        "Strings can be written surrounding them by either the `\"` symbol or the `'` symbol."
      ]
    },
    {
      "cell_type": "code",
      "metadata": {
        "colab": {
          "base_uri": "https://localhost:8080/",
          "height": 35
        },
        "id": "JkJtvqIfXMT-",
        "outputId": "680c0508-0a0c-457c-bc4d-63050452b17f"
      },
      "source": [
        "'I am a string'"
      ],
      "execution_count": null,
      "outputs": [
        {
          "output_type": "execute_result",
          "data": {
            "application/vnd.google.colaboratory.intrinsic+json": {
              "type": "string"
            },
            "text/plain": [
              "'I am a string'"
            ]
          },
          "metadata": {
            "tags": []
          },
          "execution_count": 15
        }
      ]
    },
    {
      "cell_type": "code",
      "metadata": {
        "colab": {
          "base_uri": "https://localhost:8080/",
          "height": 35
        },
        "id": "k2CnZUuYXIlD",
        "outputId": "e0b37cc1-8387-4b67-fa55-0d4560887b75"
      },
      "source": [
        "\"I am also a string\""
      ],
      "execution_count": null,
      "outputs": [
        {
          "output_type": "execute_result",
          "data": {
            "application/vnd.google.colaboratory.intrinsic+json": {
              "type": "string"
            },
            "text/plain": [
              "'I am also a string'"
            ]
          },
          "metadata": {
            "tags": []
          },
          "execution_count": 16
        }
      ]
    },
    {
      "cell_type": "markdown",
      "metadata": {
        "id": "BfQaSx6DXT6T"
      },
      "source": [
        "# Loops:\n",
        "\n",
        "All the traditional looping operators are implemented in Python of course.\n",
        "\n",
        "## While loops\n"
      ]
    },
    {
      "cell_type": "code",
      "metadata": {
        "colab": {
          "base_uri": "https://localhost:8080/"
        },
        "id": "vSQBUmtwXTGC",
        "outputId": "4dc75ddf-e73e-4bc0-ba0e-5fc86518ed49"
      },
      "source": [
        "current_value = 1\n",
        "while current_value <= 5:\n",
        "    print(current_value)\n",
        "    current_value += 1"
      ],
      "execution_count": null,
      "outputs": [
        {
          "output_type": "stream",
          "text": [
            "1\n",
            "2\n",
            "3\n",
            "4\n",
            "5\n"
          ],
          "name": "stdout"
        }
      ]
    },
    {
      "cell_type": "markdown",
      "metadata": {
        "id": "gLH9Ae-jXizu"
      },
      "source": [
        "Let's look at the code in detail:\n",
        "```\n",
        "current_value = 1\n",
        "while current_value <= 5:\n",
        "    print(current_value)\n",
        "    current_value += 1\n",
        "```\n",
        "\n",
        "- The line `current_value = 1` simply creates a variable `current_value` and assigns it the value 1.\n",
        "\n",
        "- Then the while loop starts. `while current_value <= 5:`. This line simply says \"do stuff until the value of current_value is 5\".\n",
        "\n",
        "- **Note the indentatation**. Indent is the way we separate blocks in Python. Everything that is indented is part of the while (i.e., the following two lines).\n",
        "\n",
        "- The line `print(current_value)` prints the value of the variable current_value. We can write complex expressions!\n",
        "\n",
        "- the line `current_value += 1` is equivalent to writing `current_value = current_value + 1`. It adds one to current_value. \n",
        "\n",
        "Python allows for many ways to compare variables. "
      ]
    },
    {
      "cell_type": "markdown",
      "metadata": {
        "id": "nlhjDpOCXwWk"
      },
      "source": [
        "### Conditional statements\n",
        "\n",
        "We can write conditional statements using the `if... else...` operators.\n",
        "\n",
        "General structure:\n",
        "\n",
        "```\n",
        "if [condition]:\n",
        "    (Operations)\n",
        "elif [other conditions]:\n",
        "    (Other operations)\n",
        "else:\n",
        "    (More operations)\n",
        "```\n",
        "\n",
        "Conditions can be:\n",
        "- Equality comparison: '=='. For example."
      ]
    },
    {
      "cell_type": "code",
      "metadata": {
        "colab": {
          "base_uri": "https://localhost:8080/"
        },
        "id": "Ns6y2CZEXiHa",
        "outputId": "7a3d846c-51cb-42ab-b6ee-1757d1bb22e2"
      },
      "source": [
        "a = 'bmw'\n",
        "b = 'audi'\n",
        "a == b"
      ],
      "execution_count": null,
      "outputs": [
        {
          "output_type": "execute_result",
          "data": {
            "text/plain": [
              "False"
            ]
          },
          "metadata": {
            "tags": []
          },
          "execution_count": 47
        }
      ]
    },
    {
      "cell_type": "code",
      "metadata": {
        "colab": {
          "base_uri": "https://localhost:8080/"
        },
        "id": "oAWzrG6uXSZ6",
        "outputId": "2707ed7d-ca8d-45b9-b773-7734c650293a"
      },
      "source": [
        "a == a"
      ],
      "execution_count": null,
      "outputs": [
        {
          "output_type": "execute_result",
          "data": {
            "text/plain": [
              "True"
            ]
          },
          "metadata": {
            "tags": []
          },
          "execution_count": 48
        }
      ]
    },
    {
      "cell_type": "markdown",
      "metadata": {
        "id": "41iZa2yrX7oK"
      },
      "source": [
        "- Negation is done with an exclamation sign."
      ]
    },
    {
      "cell_type": "code",
      "metadata": {
        "colab": {
          "base_uri": "https://localhost:8080/"
        },
        "id": "FZUJmfnPX6w_",
        "outputId": "b91dbb8a-baa3-4943-cf9f-e48edbdc62a6"
      },
      "source": [
        "# Not equal to:\n",
        "a != b"
      ],
      "execution_count": null,
      "outputs": [
        {
          "output_type": "execute_result",
          "data": {
            "text/plain": [
              "True"
            ]
          },
          "metadata": {
            "tags": []
          },
          "execution_count": 49
        }
      ]
    },
    {
      "cell_type": "markdown",
      "metadata": {
        "id": "3s8qCnN-YBjs"
      },
      "source": [
        "- Greater than or lower than"
      ]
    },
    {
      "cell_type": "code",
      "metadata": {
        "id": "2He9dFSOX4n0"
      },
      "source": [
        "a = 1\n",
        "b = 2"
      ],
      "execution_count": null,
      "outputs": []
    },
    {
      "cell_type": "code",
      "metadata": {
        "id": "n2J_BCkLYDfr"
      },
      "source": [
        "a < b"
      ],
      "execution_count": null,
      "outputs": []
    },
    {
      "cell_type": "code",
      "metadata": {
        "id": "xD0QXeb6YF9M"
      },
      "source": [
        "a > b"
      ],
      "execution_count": null,
      "outputs": []
    },
    {
      "cell_type": "code",
      "metadata": {
        "id": "5x4xIT9WYHaz"
      },
      "source": [
        "b < a"
      ],
      "execution_count": null,
      "outputs": []
    },
    {
      "cell_type": "markdown",
      "metadata": {
        "id": "hZlWn_cPYLQm"
      },
      "source": [
        "- Greater or equal (>=), lower or equal (<=) "
      ]
    },
    {
      "cell_type": "code",
      "metadata": {
        "id": "fQokHe9LYIsr"
      },
      "source": [
        "a <= b"
      ],
      "execution_count": null,
      "outputs": []
    },
    {
      "cell_type": "code",
      "metadata": {
        "id": "rxD1xKsQYMoa"
      },
      "source": [
        "b - 1 <= a"
      ],
      "execution_count": null,
      "outputs": []
    },
    {
      "cell_type": "code",
      "metadata": {
        "id": "oI2K4cXVYN6T"
      },
      "source": [
        "a + 1 >= b"
      ],
      "execution_count": null,
      "outputs": []
    },
    {
      "cell_type": "markdown",
      "metadata": {
        "id": "SVe6puZqYRqY"
      },
      "source": [
        "Logical operators:\n",
        "\n",
        "- `and`\n",
        "- `or`"
      ]
    },
    {
      "cell_type": "code",
      "metadata": {
        "id": "MSooZy1qYPFM"
      },
      "source": [
        "a = 1\n",
        "b = 2\n",
        "c = 'BMW'\n",
        "d = 'Audi'"
      ],
      "execution_count": null,
      "outputs": []
    },
    {
      "cell_type": "code",
      "metadata": {
        "colab": {
          "base_uri": "https://localhost:8080/"
        },
        "id": "QhgfSQCAYT7c",
        "outputId": "61fa7dba-b20c-4f50-9c10-19d645d3b4eb"
      },
      "source": [
        "a < b and c == d"
      ],
      "execution_count": null,
      "outputs": [
        {
          "output_type": "execute_result",
          "data": {
            "text/plain": [
              "False"
            ]
          },
          "metadata": {
            "tags": []
          },
          "execution_count": 51
        }
      ]
    },
    {
      "cell_type": "code",
      "metadata": {
        "colab": {
          "base_uri": "https://localhost:8080/"
        },
        "id": "zjzN5ypWYVSE",
        "outputId": "80f87582-c9b6-4734-925f-dc304b689bf9"
      },
      "source": [
        "a < b and c != d"
      ],
      "execution_count": null,
      "outputs": [
        {
          "output_type": "execute_result",
          "data": {
            "text/plain": [
              "True"
            ]
          },
          "metadata": {
            "tags": []
          },
          "execution_count": 52
        }
      ]
    },
    {
      "cell_type": "code",
      "metadata": {
        "colab": {
          "base_uri": "https://localhost:8080/"
        },
        "id": "bYkyFiQIYWcq",
        "outputId": "bbc0b968-6290-4072-9ae6-d3a318a1a970"
      },
      "source": [
        "a < b or c == d"
      ],
      "execution_count": null,
      "outputs": [
        {
          "output_type": "execute_result",
          "data": {
            "text/plain": [
              "True"
            ]
          },
          "metadata": {
            "tags": []
          },
          "execution_count": 53
        }
      ]
    },
    {
      "cell_type": "markdown",
      "metadata": {
        "id": "ZALMf5DKYaW-"
      },
      "source": [
        "These can be combined."
      ]
    },
    {
      "cell_type": "code",
      "metadata": {
        "colab": {
          "base_uri": "https://localhost:8080/"
        },
        "id": "ok1cFb6TYZ1Q",
        "outputId": "76ea9e49-09d3-4310-8ee5-8dcd7db4853f"
      },
      "source": [
        "(a < b and c == d) or (a + 1 >= b)"
      ],
      "execution_count": null,
      "outputs": [
        {
          "output_type": "execute_result",
          "data": {
            "text/plain": [
              "True"
            ]
          },
          "metadata": {
            "tags": []
          },
          "execution_count": 54
        }
      ]
    },
    {
      "cell_type": "markdown",
      "metadata": {
        "id": "NwprQbYdYfxZ"
      },
      "source": [
        "### For loops\n",
        "\n",
        "First, we need to understand the `range()` function. As the name implies, it creates ranges of numbers for iterating on. \n",
        "\n",
        "Important: **It does NOT include the last one**."
      ]
    },
    {
      "cell_type": "code",
      "metadata": {
        "id": "766LhGXZYX0M"
      },
      "source": [
        "my_range = range(1,10)"
      ],
      "execution_count": null,
      "outputs": []
    },
    {
      "cell_type": "code",
      "metadata": {
        "colab": {
          "base_uri": "https://localhost:8080/"
        },
        "id": "wKv79dFcYhpT",
        "outputId": "12b40441-ef16-45bf-b8a1-5db949c8c1db"
      },
      "source": [
        "my_range[0]"
      ],
      "execution_count": null,
      "outputs": [
        {
          "output_type": "execute_result",
          "data": {
            "text/plain": [
              "1"
            ]
          },
          "metadata": {
            "tags": []
          },
          "execution_count": 56
        }
      ]
    },
    {
      "cell_type": "code",
      "metadata": {
        "colab": {
          "base_uri": "https://localhost:8080/"
        },
        "id": "QlZieCH0YjwZ",
        "outputId": "c4d20651-f552-40d7-8709-756e97995858"
      },
      "source": [
        "my_range[8]"
      ],
      "execution_count": null,
      "outputs": [
        {
          "output_type": "execute_result",
          "data": {
            "text/plain": [
              "9"
            ]
          },
          "metadata": {
            "tags": []
          },
          "execution_count": 57
        }
      ]
    },
    {
      "cell_type": "code",
      "metadata": {
        "colab": {
          "base_uri": "https://localhost:8080/",
          "height": 180
        },
        "id": "St1rLWPSYk11",
        "outputId": "ded7986a-8aa4-4905-f7bd-dcd14311c7b8"
      },
      "source": [
        "# There is no 10 value. This throws an error.\n",
        "my_range[9]"
      ],
      "execution_count": null,
      "outputs": [
        {
          "output_type": "error",
          "ename": "IndexError",
          "evalue": "ignored",
          "traceback": [
            "\u001b[0;31m---------------------------------------------------------------------------\u001b[0m",
            "\u001b[0;31mIndexError\u001b[0m                                Traceback (most recent call last)",
            "\u001b[0;32m<ipython-input-58-259fb36b9bed>\u001b[0m in \u001b[0;36m<module>\u001b[0;34m()\u001b[0m\n\u001b[1;32m      1\u001b[0m \u001b[0;31m# There is no 10 value. This throws an error.\u001b[0m\u001b[0;34m\u001b[0m\u001b[0;34m\u001b[0m\u001b[0;34m\u001b[0m\u001b[0m\n\u001b[0;32m----> 2\u001b[0;31m \u001b[0mmy_range\u001b[0m\u001b[0;34m[\u001b[0m\u001b[0;36m9\u001b[0m\u001b[0;34m]\u001b[0m\u001b[0;34m\u001b[0m\u001b[0;34m\u001b[0m\u001b[0m\n\u001b[0m",
            "\u001b[0;31mIndexError\u001b[0m: range object index out of range"
          ]
        }
      ]
    },
    {
      "cell_type": "markdown",
      "metadata": {
        "id": "m1kdVEvEYo1w"
      },
      "source": [
        "We can now create a \"for\" loop. This one will iterate over a certain value."
      ]
    },
    {
      "cell_type": "code",
      "metadata": {
        "colab": {
          "base_uri": "https://localhost:8080/"
        },
        "id": "vhegBAuZYmfD",
        "outputId": "11948a6b-5a00-4b0e-f64d-b1265faa50b7"
      },
      "source": [
        "for i in range(1, 10):\n",
        "    print('The current value is: ', i)"
      ],
      "execution_count": null,
      "outputs": [
        {
          "output_type": "stream",
          "text": [
            "The current value is:  1\n",
            "The current value is:  2\n",
            "The current value is:  3\n",
            "The current value is:  4\n",
            "The current value is:  5\n",
            "The current value is:  6\n",
            "The current value is:  7\n",
            "The current value is:  8\n",
            "The current value is:  9\n"
          ],
          "name": "stdout"
        }
      ]
    },
    {
      "cell_type": "markdown",
      "metadata": {
        "id": "ZrtPNCJnYtQF"
      },
      "source": [
        "Note that range creates an `ìterator` (something to iterate from). To see the values, list them."
      ]
    },
    {
      "cell_type": "code",
      "metadata": {
        "colab": {
          "base_uri": "https://localhost:8080/"
        },
        "id": "MCMeBauDYqhz",
        "outputId": "c78ad87c-ba1f-4544-f7ca-be823510ca04"
      },
      "source": [
        "# Nothing will be printed. The range function returns an iterator.\n",
        "range(0,10)"
      ],
      "execution_count": null,
      "outputs": [
        {
          "output_type": "execute_result",
          "data": {
            "text/plain": [
              "range(0, 10)"
            ]
          },
          "metadata": {
            "tags": []
          },
          "execution_count": 60
        }
      ]
    },
    {
      "cell_type": "code",
      "metadata": {
        "colab": {
          "base_uri": "https://localhost:8080/"
        },
        "id": "hydaUYt-Yx5K",
        "outputId": "34069afc-7b24-4ace-b4a9-5b5169fc7205"
      },
      "source": [
        "# Turn iterator into list. Now we see the values.\n",
        "list(range(0,10))"
      ],
      "execution_count": null,
      "outputs": [
        {
          "output_type": "execute_result",
          "data": {
            "text/plain": [
              "[0, 1, 2, 3, 4, 5, 6, 7, 8, 9]"
            ]
          },
          "metadata": {
            "tags": []
          },
          "execution_count": 61
        }
      ]
    },
    {
      "cell_type": "markdown",
      "metadata": {
        "id": "WT-FYm3aY7cX"
      },
      "source": [
        "# Self Study\n",
        "A detailed Python tutorial is available [here](https://docs.python.org/3/tutorial/). Go through it until Chapter 5 (inclusive). \n",
        "\n",
        "As an exercise, create a program that adds the numbers from 1 to 100, and every 10 numbers prints \"The current value is  `N`\" with `N` the number. (i.e. \"The current value is 10\", \"The current value is 20\", ...)."
      ]
    }
  ]
}