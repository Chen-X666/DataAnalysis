{
 "cells": [
  {
   "cell_type": "code",
   "execution_count": 1,
   "metadata": {
    "collapsed": true
   },
   "outputs": [],
   "source": [
    "import pandas as pd\n",
    "import ExploratoryDataAnalysis.dataReview as dataReading\n",
    "import dataAnalysisModel.regression.LogisticRegression as logisticRegression\n",
    "from dataPretreatment import MissingValueHanding, outlierDection\n",
    "from dataPretreatment.WoE import WoEBin, IVDestribution, IVFiltering, adjustWoEByAuto\n",
    "from sklearn.model_selection import train_test_split # 数据切割"
   ]
  },
  {
   "cell_type": "code",
   "execution_count": 2,
   "metadata": {},
   "outputs": [],
   "source": [
    "df = pd.read_csv('Credit data.csv',encoding='utf-8')"
   ]
  },
  {
   "cell_type": "code",
   "execution_count": 3,
   "metadata": {},
   "outputs": [],
   "source": [
    "df = df[df['NumberOfTime30-59DaysPastDueNotWorse'] < 90]"
   ]
  },
  {
   "cell_type": "code",
   "execution_count": 4,
   "metadata": {},
   "outputs": [],
   "source": [
    "df = df.dropna(subset=[\"NumberOfDependents\"]).reset_index(drop=True)\n",
    "MV_data_DF = MissingValueHanding.KNNValue(df)\n",
    "MV_data_DF = MV_data_DF.drop_duplicates()"
   ]
  },
  {
   "cell_type": "code",
   "execution_count": 5,
   "metadata": {},
   "outputs": [],
   "source": [
    "# 1.1.5 Splitting the data set into a training and test set\n",
    "X = MV_data_DF.iloc[:, 1:]\n",
    "y = MV_data_DF.iloc[:, 0]\n",
    "X_train, X_test, Y_train, Y_test = train_test_split(X, y, test_size=0.25, random_state=0)\n",
    "train = pd.concat([Y_train, X_train], axis=1)\n",
    "test = pd.concat([Y_test, X_test], axis=1)"
   ]
  },
  {
   "cell_type": "code",
   "execution_count": null,
   "metadata": {},
   "outputs": [
    {
     "name": "stdout",
     "output_type": "stream",
     "text": [
      "[INFO] creating woe binning ...\n",
      "-------- 1/7 DebtRatio --------\n",
      ">>> dt[DebtRatio].describe(): \n",
      "count      7274.000000\n",
      "mean        321.594411\n",
      "std        1619.070170\n",
      "min           0.000000\n",
      "25%           0.173590\n",
      "50%           0.357661\n",
      "75%           0.755358\n",
      "max      110952.000000\n",
      "Name: DebtRatio, dtype: float64 \n",
      "\n",
      ">>> Current breaks:\n",
      "0.1,0.2,0.30000000000000004,0.4,0.7000000000000001,1.3 \n",
      "\n",
      ">>> Adjust breaks for (1/7) DebtRatio?\n",
      "1: next \n",
      "2: yes \n",
      "3: back\n"
     ]
    }
   ],
   "source": [
    "train_woe, test_woe, bins = WoEBin(train=train,test=test, yColumnName ='SeriousDlqin2yrs')\n",
    "bins_adj = adjustWoEByAuto(train, bins,yColumnName ='SeriousDlqin2yrs')"
   ]
  },
  {
   "cell_type": "code",
   "execution_count": null,
   "metadata": {},
   "outputs": [],
   "source": []
  }
 ],
 "metadata": {
  "kernelspec": {
   "display_name": "Python 3 (ipykernel)",
   "language": "python",
   "name": "python3"
  },
  "language_info": {
   "codemirror_mode": {
    "name": "ipython",
    "version": 3
   },
   "file_extension": ".py",
   "mimetype": "text/x-python",
   "name": "python",
   "nbconvert_exporter": "python",
   "pygments_lexer": "ipython3",
   "version": "3.7.8"
  }
 },
 "nbformat": 4,
 "nbformat_minor": 1
}
