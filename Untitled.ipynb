{
 "cells": [
  {
   "cell_type": "code",
   "execution_count": 1,
   "id": "081f48f6",
   "metadata": {},
   "outputs": [
    {
     "name": "stdout",
     "output_type": "stream",
     "text": [
      "....\n"
     ]
    }
   ],
   "source": [
    "print(\"....\")"
   ]
  },
  {
   "cell_type": "code",
   "execution_count": 2,
   "id": "958af619",
   "metadata": {},
   "outputs": [],
   "source": [
    "def English_to_Morse(text):\n",
    "    \"\"\"\n",
    "    Take a string of characters (words) in English and coverts the string to Morse code.\n",
    "    Parameters\n",
    "    ----------\n",
    "    text : String\n",
    "        The input string of English characters to convert to Morse code.\n",
    "    Returns\n",
    "    -------\n",
    "    result: String\n",
    "        The input string converted to Morse code.\n",
    "        Words are separated by a single space character.\n",
    "        Characters within a word are separated by a single forward slash character (/).\n",
    "    \"\"\"\n",
    "    eng_to_morse_dict = {'A': '.-', 'B': '-...', 'C': '-.-.', 'D': '-..', 'E': '.', 'F': '..-.',\n",
    "                       'G': '--.', 'H': '....', 'I': '..', 'J': '.---', 'K': '-.-', 'L': '.-..',\n",
    "                       'M': '--', 'N': '-.', 'O': '---', 'P': '.--.', 'Q': '--.-', 'R': '.-.',\n",
    "                       'S': '...', 'T': '-', 'U': '..-', 'V': '...-', 'W': '.--', 'X': '-..-',\n",
    "                       'Y': '-.--', 'Z': '--..', '0': '-----', '1': '.----', '2': '..---',\n",
    "                       '3': '...--', '4': '....-', '5': '.....', '6': '-....', '7': '--...',\n",
    "                       '8': '---..', '9': '----.', '.': '.-.-.-', ',': '--..--', '?': '..--..',\n",
    "                       \"'\": '.----.', '!': '-.-.--', '/': '-..-.', '(': '-.--.', ')': '-.--.-',\n",
    "                       '&': '.-...', ':': '---...', ';': '-.-.-.', '=': '-...-', '+': '.-.-.',\n",
    "                       '-': '-....-', '_': '..--.-', '\"': '.-..-.', '$': '...-..-', '@': '.--.-.',\n",
    "                       ' ': '/'}\n",
    "    morse_text = []\n",
    "    for char in text.upper():\n",
    "        if char in eng_to_morse_dict:\n",
    "            morse_text.append(eng_to_morse_dict[char])\n",
    "    result = ' '.join(morse_text)\n",
    "    return result"
   ]
  },
  {
   "cell_type": "code",
   "execution_count": 3,
   "id": "2cf0edf8",
   "metadata": {},
   "outputs": [
    {
     "name": "stdout",
     "output_type": "stream",
     "text": [
      ".... . .-.. .-.. --- / .-- --- .-. .-.. -..\n"
     ]
    }
   ],
   "source": [
    "    print(English_to_Morse(\"Hello World\"))"
   ]
  },
  {
   "cell_type": "code",
   "execution_count": 4,
   "id": "3caeadca",
   "metadata": {},
   "outputs": [],
   "source": [
    "def to_morse_code(text):\n",
    "    # Dictionary containing Morse code for each English letter\n",
    "    morse_code = {\n",
    "        'A': '.-', 'B': '-...', 'C': '-.-.', 'D': '-..', 'E': '.', 'F': '..-.',\n",
    "        'G': '--.', 'H': '....', 'I': '..', 'J': '.---', 'K': '-.-', 'L': '.-..',\n",
    "        'M': '--', 'N': '-.', 'O': '---', 'P': '.--.', 'Q': '--.-', 'R': '.-.',\n",
    "        'S': '...', 'T': '-', 'U': '..-', 'V': '...-', 'W': '.--', 'X': '-..-',\n",
    "        'Y': '-.--', 'Z': '--..', '0': '-----', '1': '.----', '2': '..---',\n",
    "        '3': '...--', '4': '....-', '5': '.....', '6': '-....', '7': '--...',\n",
    "        '8': '---..', '9': '----.'\n",
    "    }\n",
    "    # Convert text to uppercase for easier mapping to Morse code\n",
    "    text = text.upper()\n",
    "    morse_text = []\n",
    "    # Iterate through each word in text\n",
    "    for word in text.split():\n",
    "        # Convert each letter in word to Morse code and join them with a space\n",
    "        morse_word = ' '.join(morse_code[letter] for letter in word)\n",
    "        morse_text.append(morse_word)\n",
    "    # Join each Morse word with a space\n",
    "    return '  '.join(morse_text)\n"
   ]
  },
  {
   "cell_type": "code",
   "execution_count": 7,
   "id": "5567e3a3",
   "metadata": {},
   "outputs": [
    {
     "name": "stdout",
     "output_type": "stream",
     "text": [
      ".... . .-.. .-.. ---  .-- --- .-. .-.. -..\n"
     ]
    }
   ],
   "source": [
    "text = 'Hello world'\n",
    "morse_text = to_morse_code(text)\n",
    "print(morse_text)"
   ]
  },
  {
   "cell_type": "code",
   "execution_count": 8,
   "id": "a5fe4961",
   "metadata": {},
   "outputs": [],
   "source": [
    "def English_to_Morse(text):\n",
    "    \"\"\"\n",
    "    Take a string of characters (words) in English and coverts the string to Morse code.\n",
    "    Parameters\n",
    "    ----------\n",
    "    text : String\n",
    "        The input string of English characters to convert to Morse code.\n",
    "    Returns\n",
    "    -------\n",
    "    result: String\n",
    "        The input string converted to Morse code.\n",
    "        Words are separated by a single space character.\n",
    "    \"\"\"\n",
    "    eng_to_morse_dict = {'A': '.-', 'B': '-...', 'C': '-.-.', 'D': '-..', 'E': '.', 'F': '..-.',\n",
    "                       'G': '--.', 'H': '....', 'I': '..', 'J': '.---', 'K': '-.-', 'L': '.-..',\n",
    "                       'M': '--', 'N': '-.', 'O': '---', 'P': '.--.', 'Q': '--.-', 'R': '.-.',\n",
    "                       'S': '...', 'T': '-', 'U': '..-', 'V': '...-', 'W': '.--', 'X': '-..-',\n",
    "                       'Y': '-.--', 'Z': '--..', '0': '-----', '1': '.----', '2': '..---',\n",
    "                       '3': '...--', '4': '....-', '5': '.....', '6': '-....', '7': '--...',\n",
    "                       '8': '---..', '9': '----.', '.': '.-.-.-', ',': '--..--', '?': '..--..',\n",
    "                       \"'\": '.----.', '!': '-.-.--', '/': '-..-.', '(': '-.--.', ')': '-.--.-',\n",
    "                       '&': '.-...', ':': '---...', ';': '-.-.-.', '=': '-...-', '+': '.-.-.',\n",
    "                       '-': '-....-', '_': '..--.-', '\"': '.-..-.', '$': '...-..-', '@': '.--.-.',\n",
    "                       ' ': ' '}\n",
    "    morse_text = []\n",
    "    for char in text.upper():\n",
    "        if char in eng_to_morse_dict:\n",
    "            morse_text.append(eng_to_morse_dict[char])\n",
    "    result = ' '.join(morse_text)\n",
    "    return result"
   ]
  },
  {
   "cell_type": "code",
   "execution_count": 13,
   "id": "eca47474",
   "metadata": {},
   "outputs": [
    {
     "name": "stdout",
     "output_type": "stream",
     "text": [
      ".... . .-.. .-.. --- .-... .-... .-...   .-- --- .-. .-.. -..\n"
     ]
    }
   ],
   "source": [
    "print(English_to_Morse(\"hello&&& world\"))"
   ]
  },
  {
   "cell_type": "code",
   "execution_count": null,
   "id": "49f1b8ee",
   "metadata": {},
   "outputs": [],
   "source": []
  },
  {
   "cell_type": "code",
   "execution_count": null,
   "id": "22b7aa23",
   "metadata": {},
   "outputs": [],
   "source": []
  }
 ],
 "metadata": {
  "kernelspec": {
   "display_name": "Python 3 (ipykernel)",
   "language": "python",
   "name": "python3"
  },
  "language_info": {
   "codemirror_mode": {
    "name": "ipython",
    "version": 3
   },
   "file_extension": ".py",
   "mimetype": "text/x-python",
   "name": "python",
   "nbconvert_exporter": "python",
   "pygments_lexer": "ipython3",
   "version": "3.7.8"
  }
 },
 "nbformat": 4,
 "nbformat_minor": 5
}
